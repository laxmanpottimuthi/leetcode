{
 "cells": [
  {
   "cell_type": "code",
   "execution_count": null,
   "metadata": {},
   "outputs": [],
   "source": [
    "class Solution:\n",
    "    def minOperations(self, n: int) -> int:\n",
    "        \n",
    "        if n%2 != 0:\n",
    "            equalNum = 2*(n//2)+1\n",
    "        else:\n",
    "            equalNum = 2*(n//2)\n",
    "        res = 0\n",
    "        for i in range(n//2):\n",
    "            res += (equalNum - ((2*i)+1))\n",
    "        return int(res)"
   ]
  }
 ],
 "metadata": {
  "kernelspec": {
   "display_name": "Python 3",
   "language": "python",
   "name": "python3"
  },
  "language_info": {
   "codemirror_mode": {
    "name": "ipython",
    "version": 3
   },
   "file_extension": ".py",
   "mimetype": "text/x-python",
   "name": "python",
   "nbconvert_exporter": "python",
   "pygments_lexer": "ipython3",
   "version": "3.8.5"
  }
 },
 "nbformat": 4,
 "nbformat_minor": 4
}
