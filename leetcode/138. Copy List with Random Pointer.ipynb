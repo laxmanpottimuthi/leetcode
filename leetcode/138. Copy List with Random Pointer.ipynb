{
 "cells": [
  {
   "cell_type": "code",
   "execution_count": 1,
   "metadata": {},
   "outputs": [],
   "source": [
    "\n",
    "# Definition for a Node.\n",
    "class Node:\n",
    "    def __init__(self, x: int, next: 'Node' = None, random: 'Node' = None):\n",
    "        self.val = int(x)\n",
    "        self.next = next\n",
    "        self.random = random\n",
    "\n",
    "\n",
    "class Solution:\n",
    "    def copyRandomList(self, head: 'Node') -> 'Node':\n",
    "        \n",
    "        if not head:\n",
    "            return head\n",
    "        \n",
    "        curr = head\n",
    "        while curr:\n",
    "            tmpNode = Node(curr.val)\n",
    "            tmpNode.next = curr.next\n",
    "            curr.next = tmpNode\n",
    "            curr = tmpNode.next\n",
    "        \n",
    "        curr = head\n",
    "        while curr:\n",
    "            curr.next.random = curr.random.next if curr.random else None\n",
    "            curr = curr.next.next\n",
    "        \n",
    "        res = head.next\n",
    "        while res.next:\n",
    "            res.next = res.next.next\n",
    "            res = res.next\n",
    "        return head.next\n",
    "            \n",
    "        \n",
    "        "
   ]
  },
  {
   "cell_type": "code",
   "execution_count": null,
   "metadata": {},
   "outputs": [],
   "source": []
  },
  {
   "cell_type": "code",
   "execution_count": null,
   "metadata": {},
   "outputs": [],
   "source": []
  }
 ],
 "metadata": {
  "kernelspec": {
   "display_name": "Python 3",
   "language": "python",
   "name": "python3"
  },
  "language_info": {
   "codemirror_mode": {
    "name": "ipython",
    "version": 3
   },
   "file_extension": ".py",
   "mimetype": "text/x-python",
   "name": "python",
   "nbconvert_exporter": "python",
   "pygments_lexer": "ipython3",
   "version": "3.8.5"
  }
 },
 "nbformat": 4,
 "nbformat_minor": 4
}
