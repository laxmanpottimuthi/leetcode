{
 "cells": [
  {
   "cell_type": "code",
   "execution_count": 1,
   "metadata": {},
   "outputs": [],
   "source": [
    "from typing import List\n",
    "from collections import deque\n",
    "class Solution:\n",
    "    def canVisitAllRooms(self, rooms: List[List[int]]) -> bool:\n",
    "        lenRooms = len(rooms)\n",
    "        if lenRooms == 1:\n",
    "            return True\n",
    "        queue = deque()\n",
    "        queue.append(0)\n",
    "        openedRooms = set()\n",
    "        openedRooms.add(0)\n",
    "        while queue:\n",
    "            openedRoom = queue.popleft()\n",
    "            openedRooms.add(openedRoom)\n",
    "            keys = rooms[openedRoom]\n",
    "            for key in keys:\n",
    "                if key not in openedRooms:\n",
    "                    queue.append(key)\n",
    "        print(openedRooms)\n",
    "        return False if len(openedRooms) != lenRooms else True"
   ]
  },
  {
   "cell_type": "code",
   "execution_count": 2,
   "metadata": {},
   "outputs": [
    {
     "name": "stdout",
     "output_type": "stream",
     "text": [
      "{0, 1, 3}\n"
     ]
    },
    {
     "data": {
      "text/plain": [
       "False"
      ]
     },
     "execution_count": 2,
     "metadata": {},
     "output_type": "execute_result"
    }
   ],
   "source": [
    "sol = Solution()\n",
    "sol.canVisitAllRooms([[1,3],[3,0,1],[2],[0]])"
   ]
  }
 ],
 "metadata": {
  "kernelspec": {
   "display_name": "Python 3",
   "language": "python",
   "name": "python3"
  },
  "language_info": {
   "codemirror_mode": {
    "name": "ipython",
    "version": 3
   },
   "file_extension": ".py",
   "mimetype": "text/x-python",
   "name": "python",
   "nbconvert_exporter": "python",
   "pygments_lexer": "ipython3",
   "version": "3.8.5"
  }
 },
 "nbformat": 4,
 "nbformat_minor": 4
}
