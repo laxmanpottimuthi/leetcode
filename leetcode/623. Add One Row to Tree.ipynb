{
 "cells": [
  {
   "cell_type": "code",
   "execution_count": 1,
   "metadata": {},
   "outputs": [],
   "source": [
    "# Definition for a binary tree node.\n",
    "class TreeNode:\n",
    "    def __init__(self, val=0, left=None, right=None):\n",
    "        self.val = val\n",
    "        self.left = left\n",
    "        self.right = right\n",
    "class Solution:\n",
    "    def addOneRow(self, root: TreeNode, v: int, d: int) -> TreeNode:\n",
    "        \n",
    "        if d == 1:\n",
    "            newNode = TreeNode(val=v)\n",
    "            newNode.left = root\n",
    "            return newNode\n",
    "        depth = 1\n",
    "        queue = deque()\n",
    "        \n",
    "        queue.append((root,1))\n",
    "        head = root\n",
    "        while queue:\n",
    "            node, depth = queue.popleft()\n",
    "            if depth > d:\n",
    "                continue\n",
    "            if depth == d-1:\n",
    "                leftTreeNode = TreeNode(val = v)\n",
    "                rightTreeNode = TreeNode(val = v)\n",
    "                if node.right:\n",
    "                    rightTreeNode.right = node.right\n",
    "                node.right = rightTreeNode\n",
    "                if node.left:\n",
    "                    leftTreeNode.left = node.left\n",
    "                node.left = leftTreeNode\n",
    "            elif depth+1 == d:\n",
    "                node.left = TreeNode(val = v)\n",
    "                node.right = TreeNode(val = v)\n",
    "            else:\n",
    "                if node.right:\n",
    "                    queue.append((node.right,depth+1))\n",
    "                if node.left:\n",
    "                    queue.append((node.left,depth+1))\n",
    "        return head\n",
    "        "
   ]
  },
  {
   "cell_type": "code",
   "execution_count": null,
   "metadata": {},
   "outputs": [],
   "source": []
  },
  {
   "cell_type": "code",
   "execution_count": null,
   "metadata": {},
   "outputs": [],
   "source": []
  }
 ],
 "metadata": {
  "kernelspec": {
   "display_name": "Python 3",
   "language": "python",
   "name": "python3"
  },
  "language_info": {
   "codemirror_mode": {
    "name": "ipython",
    "version": 3
   },
   "file_extension": ".py",
   "mimetype": "text/x-python",
   "name": "python",
   "nbconvert_exporter": "python",
   "pygments_lexer": "ipython3",
   "version": "3.8.5"
  }
 },
 "nbformat": 4,
 "nbformat_minor": 4
}
