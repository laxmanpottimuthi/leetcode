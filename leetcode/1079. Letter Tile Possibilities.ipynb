{
 "cells": [
  {
   "cell_type": "code",
   "execution_count": 1,
   "metadata": {},
   "outputs": [],
   "source": [
    "from collections import Counter"
   ]
  },
  {
   "cell_type": "code",
   "execution_count": null,
   "metadata": {},
   "outputs": [],
   "source": [
    "class Solution:\n",
    "    def numTilePossibilities(self, tiles: str) -> int:\n",
    "        countTiles = Counter(tiles)\n",
    "        \n",
    "        def DFS(countTiles):\n",
    "            total = 0\n",
    "            for key in countTiles:\n",
    "                if countTiles[key] > 0:\n",
    "                    total += 1\n",
    "                    countTiles[key] -= 1\n",
    "                    total += DFS(countTiles)\n",
    "                    countTiles[key] += 1\n",
    "            return total\n",
    "        return DFS(countTiles)\n",
    "            "
   ]
  }
 ],
 "metadata": {
  "kernelspec": {
   "display_name": "Python 3",
   "language": "python",
   "name": "python3"
  },
  "language_info": {
   "codemirror_mode": {
    "name": "ipython",
    "version": 3
   },
   "file_extension": ".py",
   "mimetype": "text/x-python",
   "name": "python",
   "nbconvert_exporter": "python",
   "pygments_lexer": "ipython3",
   "version": "3.8.5"
  }
 },
 "nbformat": 4,
 "nbformat_minor": 4
}
