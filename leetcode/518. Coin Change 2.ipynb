{
 "cells": [
  {
   "cell_type": "code",
   "execution_count": 101,
   "metadata": {},
   "outputs": [],
   "source": [
    "def change(amount: int, coins) -> int:\n",
    "    cc = len(coins)\n",
    "    mt = [ [0]*len(coins) for i in range(amount+1)]\n",
    "    for i in range(len(coins)):\n",
    "        mt[0][i] = 1\n",
    "    for num in range(1,amount+1):\n",
    "        for i in range(len(coins)):\n",
    "            mt[num][i] = mt[num][i-1]\n",
    "            if num - coins[i] >= 0:\n",
    "                mt[num][i] += mt[num-coins[i]][i]\n",
    "    return mt[amount][len(coins)-1]\n"
   ]
  },
  {
   "cell_type": "code",
   "execution_count": 102,
   "metadata": {},
   "outputs": [],
   "source": [
    "amount = 5\n",
    "coins = [1, 2, 5]"
   ]
  },
  {
   "cell_type": "code",
   "execution_count": 103,
   "metadata": {},
   "outputs": [
    {
     "data": {
      "text/plain": [
       "1"
      ]
     },
     "execution_count": 103,
     "metadata": {},
     "output_type": "execute_result"
    }
   ],
   "source": [
    "amount = 10\n",
    "coins = [10]\n",
    "change(amount,coins)"
   ]
  },
  {
   "cell_type": "code",
   "execution_count": null,
   "metadata": {},
   "outputs": [],
   "source": [
    "def change(self, amount: int, coins: List[int]) -> int:\n",
    "    mt = [0]*(amount+1)\n",
    "    mt[0] = 1\n",
    "    for coin in coins:\n",
    "        for amt in range(coin,amount+1):\n",
    "            mt[amt] +=mt[amt-coin]\n",
    "    return mt[amount]"
   ]
  },
  {
   "cell_type": "code",
   "execution_count": null,
   "metadata": {},
   "outputs": [],
   "source": [
    "\t# def change(self, amount: int, coins: List[int]) -> int:\n",
    "\t# \t@functools.lru_cache(None)\n",
    "\t# \tdef dfs(weight, amount):\n",
    "\t# \t\tif amount == 0: return int(weight == 0)\n",
    "\t# \t\tresult = 0\n",
    "\t# \t\tif weight >= coins[amount-1]:\n",
    "\t# \t\t\tresult += dfs(weight-coins[amount-1], amount)\n",
    "\t# \t\treturn result + dfs(weight, amount-1)\n",
    "\t# \treturn dfs(amount, len(coins))"
   ]
  }
 ],
 "metadata": {
  "kernelspec": {
   "display_name": "Python 3",
   "language": "python",
   "name": "python3"
  },
  "language_info": {
   "codemirror_mode": {
    "name": "ipython",
    "version": 3
   },
   "file_extension": ".py",
   "mimetype": "text/x-python",
   "name": "python",
   "nbconvert_exporter": "python",
   "pygments_lexer": "ipython3",
   "version": "3.7.3"
  }
 },
 "nbformat": 4,
 "nbformat_minor": 4
}
