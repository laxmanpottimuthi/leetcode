{
 "cells": [
  {
   "cell_type": "code",
   "execution_count": 1,
   "metadata": {},
   "outputs": [],
   "source": [
    "class Node:\n",
    "    def __init__(self,start,end):\n",
    "        self.start = start\n",
    "        self.end = end\n",
    "        self.left = self.right = None\n",
    "        \n",
    "    def insert(self,node):\n",
    "        if node.start >= self.end:\n",
    "            if not self.right:\n",
    "                self.right = node\n",
    "                return True\n",
    "            return self.right.insert(node)\n",
    "        elif node.end <= self.start:\n",
    "            if not self.left:\n",
    "                self.left = node\n",
    "                return True\n",
    "            return self.left.insert(node)\n",
    "        else:\n",
    "            return False\n",
    "            \n",
    "\n",
    "class MyCalendar:\n",
    "\n",
    "    def __init__(self):\n",
    "        self.root = None\n",
    "\n",
    "    def book(self, start: int, end: int) -> bool:\n",
    "        if not self.root:\n",
    "            self.root = Node(start,end)\n",
    "            return True\n",
    "        return self.root.insert(Node(start,end))\n",
    "            \n",
    "        \n",
    "\n",
    "\n",
    "# Your MyCalendar object will be instantiated and called as such:\n",
    "# obj = MyCalendar()\n",
    "# param_1 = obj.book(start,end)"
   ]
  },
  {
   "cell_type": "code",
   "execution_count": 2,
   "metadata": {},
   "outputs": [
    {
     "data": {
      "text/plain": [
       "True"
      ]
     },
     "execution_count": 2,
     "metadata": {},
     "output_type": "execute_result"
    }
   ],
   "source": [
    "cal = MyCalendar()\n",
    "cal.book(10,20)"
   ]
  },
  {
   "cell_type": "code",
   "execution_count": 3,
   "metadata": {},
   "outputs": [
    {
     "data": {
      "text/plain": [
       "False"
      ]
     },
     "execution_count": 3,
     "metadata": {},
     "output_type": "execute_result"
    }
   ],
   "source": [
    "cal.book(15,25)"
   ]
  },
  {
   "cell_type": "code",
   "execution_count": null,
   "metadata": {},
   "outputs": [],
   "source": []
  },
  {
   "cell_type": "code",
   "execution_count": 4,
   "metadata": {},
   "outputs": [],
   "source": [
    "import bisect\n",
    "class MyCalendar:\n",
    "\n",
    "    def __init__(self):\n",
    "        self.start_times = []\n",
    "        self.end_times = []\n",
    "\n",
    "    def book(self, start: int, end: int) -> bool:\n",
    "        st_idx = bisect.bisect_right(self.start_times, start)\n",
    "        if st_idx and self.end_times[st_idx - 1] > start or \\\n",
    "            st_idx < len(self.end_times) and self.start_times[st_idx] < end:\n",
    "            return False\n",
    "        self.start_times.insert(st_idx, start)\n",
    "        self.end_times.insert(st_idx, end)\n",
    "        return True"
   ]
  },
  {
   "cell_type": "code",
   "execution_count": 5,
   "metadata": {},
   "outputs": [
    {
     "data": {
      "text/plain": [
       "True"
      ]
     },
     "execution_count": 5,
     "metadata": {},
     "output_type": "execute_result"
    }
   ],
   "source": [
    "cal = MyCalendar()\n",
    "cal.book(10,20)"
   ]
  },
  {
   "cell_type": "code",
   "execution_count": 6,
   "metadata": {},
   "outputs": [
    {
     "data": {
      "text/plain": [
       "False"
      ]
     },
     "execution_count": 6,
     "metadata": {},
     "output_type": "execute_result"
    }
   ],
   "source": [
    "cal.book(5,20)"
   ]
  },
  {
   "cell_type": "code",
   "execution_count": null,
   "metadata": {},
   "outputs": [],
   "source": []
  }
 ],
 "metadata": {
  "kernelspec": {
   "display_name": "Python 3",
   "language": "python",
   "name": "python3"
  },
  "language_info": {
   "codemirror_mode": {
    "name": "ipython",
    "version": 3
   },
   "file_extension": ".py",
   "mimetype": "text/x-python",
   "name": "python",
   "nbconvert_exporter": "python",
   "pygments_lexer": "ipython3",
   "version": "3.8.5"
  }
 },
 "nbformat": 4,
 "nbformat_minor": 4
}
