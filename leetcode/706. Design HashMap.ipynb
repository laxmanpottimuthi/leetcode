{
 "cells": [
  {
   "cell_type": "code",
   "execution_count": 1,
   "metadata": {},
   "outputs": [],
   "source": [
    "class MyHashMap:\n",
    "\n",
    "    def __init__(self):\n",
    "        \"\"\"\n",
    "        Initialize your data structure here.\n",
    "        \"\"\"\n",
    "        self.hash = 587\n",
    "        self.buckets = [[] for i in range(self.hash)]\n",
    "        \n",
    "\n",
    "    def put(self, key: int, value: int) -> None:\n",
    "        \"\"\"\n",
    "        value will always be non-negative.\n",
    "        \"\"\"\n",
    "        \n",
    "        bucket = self.buckets[key%self.hash]\n",
    "        item = next((item for item in bucket if item[0]==key),None)\n",
    "        if item:\n",
    "            item[1] = value\n",
    "        else:\n",
    "            bucket.append([key,value])\n",
    "        # print(self.buckets)\n",
    "        \n",
    "\n",
    "    def get(self, key: int) -> int:\n",
    "        \"\"\"\n",
    "        Returns the value to which the specified key is mapped, or -1 if this map contains no mapping for the key\n",
    "        \"\"\"\n",
    "        bucket = self.buckets[key%self.hash]\n",
    "        getItem = next((item for item in bucket if item[0] == key),None)\n",
    "        if getItem:\n",
    "            return getItem[1]\n",
    "        else:\n",
    "            return -1\n",
    "        \n",
    "\n",
    "    def remove(self, key: int) -> None:\n",
    "        \"\"\"\n",
    "        Removes the mapping of the specified value key if this map contains a mapping for the key\n",
    "        \"\"\"\n",
    "        bucket = self.buckets[key%self.hash]\n",
    "        removeItem = next((item for item in bucket if item[0] == key),None)\n",
    "        if removeItem:\n",
    "            bucket.remove(removeItem)\n",
    "\n",
    "\n",
    "# Your MyHashMap object will be instantiated and called as such:\n",
    "# obj = MyHashMap()\n",
    "# obj.put(key,value)\n",
    "# param_2 = obj.get(key)\n",
    "# obj.remove(key)"
   ]
  },
  {
   "cell_type": "code",
   "execution_count": 2,
   "metadata": {},
   "outputs": [
    {
     "data": {
      "text/plain": [
       "True"
      ]
     },
     "execution_count": 2,
     "metadata": {},
     "output_type": "execute_result"
    }
   ],
   "source": [
    "hashMap = MyHashMap()\n",
    "null = None\n",
    "[hashMap.put(1, 1),         \n",
    "hashMap.put(2, 2),        \n",
    "hashMap.get(1),\n",
    "hashMap.get(3),\n",
    "hashMap.put(2, 1),\n",
    "hashMap.get(2),\n",
    "hashMap.remove(2),\n",
    "hashMap.get(2)] == [null,null,1,-1,null,1,null,-1]"
   ]
  },
  {
   "cell_type": "code",
   "execution_count": null,
   "metadata": {},
   "outputs": [],
   "source": []
  }
 ],
 "metadata": {
  "kernelspec": {
   "display_name": "Python 3",
   "language": "python",
   "name": "python3"
  },
  "language_info": {
   "codemirror_mode": {
    "name": "ipython",
    "version": 3
   },
   "file_extension": ".py",
   "mimetype": "text/x-python",
   "name": "python",
   "nbconvert_exporter": "python",
   "pygments_lexer": "ipython3",
   "version": "3.8.5"
  }
 },
 "nbformat": 4,
 "nbformat_minor": 4
}
