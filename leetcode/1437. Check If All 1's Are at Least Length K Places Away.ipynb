{
 "cells": [
  {
   "cell_type": "code",
   "execution_count": 1,
   "metadata": {},
   "outputs": [],
   "source": [
    "from typing import List\n",
    "class Solution:\n",
    "    def kLengthApart(self, nums: List[int], k: int) -> bool:\n",
    "        flag = True\n",
    "        currCount = k\n",
    "        for i in range(len(nums)):\n",
    "            if nums[i] == 1:\n",
    "                if currCount < k:\n",
    "                    return False\n",
    "                currCount = 0\n",
    "                \n",
    "            else:\n",
    "                currCount += 1\n",
    "        \n",
    "        return flag"
   ]
  },
  {
   "cell_type": "code",
   "execution_count": null,
   "metadata": {},
   "outputs": [],
   "source": []
  },
  {
   "cell_type": "code",
   "execution_count": 2,
   "metadata": {},
   "outputs": [],
   "source": [
    "class Solution:\n",
    "    def kLengthApart(self, nums: List[int], k: int) -> bool:\n",
    "        x = 0\n",
    "        for num in nums:\n",
    "            x = (x << 1) | num\n",
    "        \n",
    "        if x == 0 or k == 0:\n",
    "            return True\n",
    "        \n",
    "        while x & 1 == 0:\n",
    "            x = x >> 1\n",
    "        \n",
    "        while x != 1:\n",
    "            x = x >> 1\n",
    "            \n",
    "            count = 0\n",
    "            while x & 1 == 0:\n",
    "                x = x >> 1\n",
    "                count += 1\n",
    "                \n",
    "            if count < k:\n",
    "                return False\n",
    "        \n",
    "        return True"
   ]
  },
  {
   "cell_type": "code",
   "execution_count": 3,
   "metadata": {},
   "outputs": [
    {
     "data": {
      "text/plain": [
       "False"
      ]
     },
     "execution_count": 3,
     "metadata": {},
     "output_type": "execute_result"
    }
   ],
   "source": [
    "sol = Solution()\n",
    "sol.kLengthApart([1,0,1,0,0,1],2)"
   ]
  },
  {
   "cell_type": "code",
   "execution_count": null,
   "metadata": {},
   "outputs": [],
   "source": []
  },
  {
   "cell_type": "code",
   "execution_count": null,
   "metadata": {},
   "outputs": [],
   "source": []
  }
 ],
 "metadata": {
  "kernelspec": {
   "display_name": "Python 3",
   "language": "python",
   "name": "python3"
  },
  "language_info": {
   "codemirror_mode": {
    "name": "ipython",
    "version": 3
   },
   "file_extension": ".py",
   "mimetype": "text/x-python",
   "name": "python",
   "nbconvert_exporter": "python",
   "pygments_lexer": "ipython3",
   "version": "3.8.5"
  }
 },
 "nbformat": 4,
 "nbformat_minor": 4
}
