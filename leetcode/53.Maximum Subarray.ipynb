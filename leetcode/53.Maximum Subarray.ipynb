{
 "cells": [
  {
   "cell_type": "code",
   "execution_count": 2,
   "metadata": {},
   "outputs": [],
   "source": [
    "def maxSubArray(nums):\n",
    "    localMax = 0\n",
    "    globalMax = 0\n",
    "    for i in range(0, len(nums)):\n",
    "        t = localMax+nums[i]\n",
    "        localMax = 0 if 0 > t else t\n",
    "        if globalMax < localMax:\n",
    "            globalMax = localMax\n",
    "    if globalMax == 0:\n",
    "        return max(nums)\n",
    "    return globalMax"
   ]
  },
  {
   "cell_type": "code",
   "execution_count": null,
   "metadata": {},
   "outputs": [],
   "source": [
    "class Solution:\n",
    "    def maxSubArray(self, nums: List[int]) -> int:\n",
    "        lMax, gMax = 0,0\n",
    "        for i in range(0,len(nums)):\n",
    "            lMax = lMax + nums[i]\n",
    "            if lMax < 0:\n",
    "                lMax = 0\n",
    "            if gMax < lMax:\n",
    "                gMax = lMax\n",
    "        if gMax == 0:\n",
    "            return max(nums)\n",
    "        return gMax\n",
    "        "
   ]
  }
 ],
 "metadata": {
  "kernelspec": {
   "display_name": "Python 3",
   "language": "python",
   "name": "python3"
  },
  "language_info": {
   "codemirror_mode": {
    "name": "ipython",
    "version": 3
   },
   "file_extension": ".py",
   "mimetype": "text/x-python",
   "name": "python",
   "nbconvert_exporter": "python",
   "pygments_lexer": "ipython3",
   "version": "3.7.3"
  }
 },
 "nbformat": 4,
 "nbformat_minor": 4
}
