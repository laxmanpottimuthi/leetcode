{
 "cells": [
  {
   "cell_type": "code",
   "execution_count": 1,
   "metadata": {},
   "outputs": [],
   "source": [
    "from collections import deque\n",
    "from typing import List"
   ]
  },
  {
   "cell_type": "code",
   "execution_count": 2,
   "metadata": {},
   "outputs": [],
   "source": [
    "class Solution:\n",
    "    def numIslands(self, grid: List[List[str]]) -> int:\n",
    "        if not grid:\n",
    "            return 0\n",
    "        \n",
    "        m,n = len(grid),len(grid[0])\n",
    "\n",
    "        neibhorPositions = [[-1,0],[0,-1],[1,0],[0,1]]\n",
    "        def getValidNeighbors(x,y, queue):\n",
    "            for dx,dy in neibhorPositions:\n",
    "                if ((0 <= x+dx < m) and (0 <= y+dy < n)) and grid[x+dx][y+dy] == '1':\n",
    "                    queue.append((x+dx,y+dy))\n",
    "                    grid[x+dx][y+dy] = '0'\n",
    "            return queue\n",
    "\n",
    "        numberOfIslands = 0\n",
    "        for x in range(m):\n",
    "            for y in range(n):\n",
    "                if grid[x][y] == '1':\n",
    "                    queue = deque([(x,y)])\n",
    "                    numberOfIslands += 1\n",
    "                    grid[x][y] = '0'\n",
    "                    while queue:\n",
    "                        xPos, yPos = queue.popleft()\n",
    "                        queue = getValidNeighbors(xPos, yPos, queue)\n",
    "                        \n",
    "        return numberOfIslands"
   ]
  },
  {
   "cell_type": "code",
   "execution_count": null,
   "metadata": {},
   "outputs": [],
   "source": []
  }
 ],
 "metadata": {
  "kernelspec": {
   "display_name": "Python 3",
   "language": "python",
   "name": "python3"
  },
  "language_info": {
   "codemirror_mode": {
    "name": "ipython",
    "version": 3
   },
   "file_extension": ".py",
   "mimetype": "text/x-python",
   "name": "python",
   "nbconvert_exporter": "python",
   "pygments_lexer": "ipython3",
   "version": "3.8.5"
  }
 },
 "nbformat": 4,
 "nbformat_minor": 4
}
