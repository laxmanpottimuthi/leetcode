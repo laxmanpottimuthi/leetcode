{
 "cells": [
  {
   "cell_type": "code",
   "execution_count": 7,
   "metadata": {},
   "outputs": [],
   "source": [
    "class Solution:\n",
    "    def minRemoveToMakeValid(self, s: str) -> str:\n",
    "        \n",
    "        subInd = []\n",
    "        parenthesesStack = []\n",
    "        for i,c in enumerate(s):\n",
    "            if c not in '()':\n",
    "                continue\n",
    "            if c == '(':\n",
    "                parenthesesStack.append(i)\n",
    "            elif not parenthesesStack:\n",
    "                subInd.append(i)\n",
    "            else:\n",
    "                parenthesesStack.pop()\n",
    "        subInd = subInd + parenthesesStack\n",
    "        res = ''\n",
    "        for i,c in enumerate(s):\n",
    "            if i not in subInd:\n",
    "                res += c\n",
    "        return res\n",
    "        "
   ]
  },
  {
   "cell_type": "code",
   "execution_count": 8,
   "metadata": {},
   "outputs": [
    {
     "data": {
      "text/plain": [
       "'lee(t(c)o)de'"
      ]
     },
     "execution_count": 8,
     "metadata": {},
     "output_type": "execute_result"
    }
   ],
   "source": [
    "sol = Solution()\n",
    "s = \"lee(t(c)o)de)\"\n",
    "sol.minRemoveToMakeValid(s)"
   ]
  },
  {
   "cell_type": "code",
   "execution_count": null,
   "metadata": {},
   "outputs": [],
   "source": []
  }
 ],
 "metadata": {
  "kernelspec": {
   "display_name": "Python 3",
   "language": "python",
   "name": "python3"
  },
  "language_info": {
   "codemirror_mode": {
    "name": "ipython",
    "version": 3
   },
   "file_extension": ".py",
   "mimetype": "text/x-python",
   "name": "python",
   "nbconvert_exporter": "python",
   "pygments_lexer": "ipython3",
   "version": "3.8.5"
  }
 },
 "nbformat": 4,
 "nbformat_minor": 4
}
