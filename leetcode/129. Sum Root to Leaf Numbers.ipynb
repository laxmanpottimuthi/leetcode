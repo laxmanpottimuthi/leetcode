{
 "cells": [
  {
   "cell_type": "code",
   "execution_count": null,
   "metadata": {},
   "outputs": [],
   "source": [
    "def sumNumbers(self, root: TreeNode) -> int:\n",
    "    def helper(node,sum):\n",
    "        if not node:\n",
    "            return 0\n",
    "        if not node.left and not node.right:\n",
    "            return sum*10+node.val\n",
    "        return helper(node.left,sum*10+node.val)+helper(node.right,sum*10+node.val)\n",
    "    return helper(root,0)"
   ]
  }
 ],
 "metadata": {
  "kernelspec": {
   "display_name": "Python 3",
   "language": "python",
   "name": "python3"
  },
  "language_info": {
   "codemirror_mode": {
    "name": "ipython",
    "version": 3
   },
   "file_extension": ".py",
   "mimetype": "text/x-python",
   "name": "python",
   "nbconvert_exporter": "python",
   "pygments_lexer": "ipython3",
   "version": "3.7.3"
  }
 },
 "nbformat": 4,
 "nbformat_minor": 4
}
