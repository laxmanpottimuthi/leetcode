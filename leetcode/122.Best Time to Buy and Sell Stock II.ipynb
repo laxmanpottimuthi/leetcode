{
 "cells": [
  {
   "cell_type": "code",
   "execution_count": 1,
   "metadata": {},
   "outputs": [],
   "source": [
    "def maxProfit(prices):\n",
    "    localMax = 0\n",
    "    globalMax = []\n",
    "    for i in range(1, len(prices)):\n",
    "        if prices[i]-prices[i-1] < 0:\n",
    "            globalMax.append(localMax)\n",
    "            localMax = 0\n",
    "        else:\n",
    "            localMax = localMax+prices[i]-prices[i-1]\n",
    "    return sum(globalMax) + localMax"
   ]
  },
  {
   "cell_type": "code",
   "execution_count": 2,
   "metadata": {},
   "outputs": [
    {
     "data": {
      "text/plain": [
       "True"
      ]
     },
     "execution_count": 2,
     "metadata": {},
     "output_type": "execute_result"
    }
   ],
   "source": [
    "maxProfit([365, 416, 8870, 150, 6245, 3548, 6915, 475, 8644, 3632, 7174, 8123]) == 30627"
   ]
  },
  {
   "cell_type": "code",
   "execution_count": null,
   "metadata": {},
   "outputs": [],
   "source": [
    "# For some other question\n",
    "# class Solution:\n",
    "#     def maxProfit(self, prices: List[int]) -> int:\n",
    "#         if not prices:\n",
    "#             return 0\n",
    "#         lenPrices = len(prices)\n",
    "#         if lenPrices == 1:\n",
    "#             return 0\n",
    "#         lMax,gMax = 0,0\n",
    "#         for i in range(1, lenPrices):\n",
    "#             if prices[i] - prices[i-1] > 0:\n",
    "#                 lMax = prices[i]-prices[i-1] + lMax\n",
    "#             else:\n",
    "#                 gMax = gMax + lMax\n",
    "#                 lMax = 0\n",
    "#         return gMax\n",
    "        \n",
    "\n",
    "\n"
   ]
  }
 ],
 "metadata": {
  "kernelspec": {
   "display_name": "Python 3",
   "language": "python",
   "name": "python3"
  },
  "language_info": {
   "codemirror_mode": {
    "name": "ipython",
    "version": 3
   },
   "file_extension": ".py",
   "mimetype": "text/x-python",
   "name": "python",
   "nbconvert_exporter": "python",
   "pygments_lexer": "ipython3",
   "version": "3.7.3"
  }
 },
 "nbformat": 4,
 "nbformat_minor": 4
}
