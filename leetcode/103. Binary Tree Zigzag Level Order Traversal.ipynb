{
 "cells": [
  {
   "cell_type": "code",
   "execution_count": 1,
   "metadata": {},
   "outputs": [],
   "source": [
    "from typing import List\n",
    "from collections import deque"
   ]
  },
  {
   "cell_type": "code",
   "execution_count": 2,
   "metadata": {},
   "outputs": [],
   "source": [
    "# Definition for a binary tree node.\n",
    "class TreeNode:\n",
    "    def __init__(self, val=0, left=None, right=None):\n",
    "        self.val = val\n",
    "        self.left = left\n",
    "        self.right = right\n"
   ]
  },
  {
   "cell_type": "code",
   "execution_count": 3,
   "metadata": {},
   "outputs": [],
   "source": [
    "class Solution:\n",
    "    def zigzagLevelOrder(self, root: TreeNode) -> List[List[int]]:\n",
    "        if not root:\n",
    "            return []\n",
    "        \n",
    "        result = []\n",
    "        levelQueue = deque([root,None])\n",
    "        leftToRight = True\n",
    "        levelList = deque()\n",
    "        while levelQueue:\n",
    "            popedNode = levelQueue.popleft()\n",
    "            \n",
    "            if popedNode:\n",
    "                if leftToRight:\n",
    "                    levelList.append(popedNode.val)\n",
    "                else:\n",
    "                    levelList.appendleft(popedNode.val)\n",
    "                \n",
    "                if popedNode.left:\n",
    "                    levelQueue.append(popedNode.left)\n",
    "                if popedNode.right:\n",
    "                    levelQueue.append(popedNode.right)\n",
    "            else:\n",
    "                result.append(levelList)\n",
    "                \n",
    "                if len(levelQueue) > 0:\n",
    "                    levelQueue.append(None)\n",
    "                levelList = deque()\n",
    "                leftToRight = not leftToRight\n",
    "        return result\n"
   ]
  }
 ],
 "metadata": {
  "kernelspec": {
   "display_name": "Python 3",
   "language": "python",
   "name": "python3"
  },
  "language_info": {
   "codemirror_mode": {
    "name": "ipython",
    "version": 3
   },
   "file_extension": ".py",
   "mimetype": "text/x-python",
   "name": "python",
   "nbconvert_exporter": "python",
   "pygments_lexer": "ipython3",
   "version": "3.8.5"
  }
 },
 "nbformat": 4,
 "nbformat_minor": 4
}
