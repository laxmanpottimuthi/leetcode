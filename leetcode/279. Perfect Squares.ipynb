{
 "cells": [
  {
   "cell_type": "code",
   "execution_count": null,
   "metadata": {},
   "outputs": [],
   "source": [
    "class Solution:\n",
    "    def numSquares(self, n: int) -> int:\n",
    "        arr, i = [], 1\n",
    "        while i**2 <= n:\n",
    "            arr.append(i**2)\n",
    "            i += 1\n",
    "        if n in arr:\n",
    "            return 1\n",
    "        for e in arr:\n",
    "            if n-e in arr:\n",
    "                return 2\n",
    "        arr_set = set(arr)\n",
    "        for i in range(len(arr)):\n",
    "            for j in range(len(arr)):\n",
    "                if n-arr[i]-arr[j] in arr_set:\n",
    "                    return 3\n",
    "        return 4"
   ]
  }
 ],
 "metadata": {
  "kernelspec": {
   "display_name": "Python 3",
   "language": "python",
   "name": "python3"
  },
  "language_info": {
   "codemirror_mode": {
    "name": "ipython",
    "version": 3
   },
   "file_extension": ".py",
   "mimetype": "text/x-python",
   "name": "python",
   "nbconvert_exporter": "python",
   "pygments_lexer": "ipython3",
   "version": "3.7.3"
  }
 },
 "nbformat": 4,
 "nbformat_minor": 4
}
