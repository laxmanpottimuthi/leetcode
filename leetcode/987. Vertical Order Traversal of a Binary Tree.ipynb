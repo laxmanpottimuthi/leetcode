{
 "cells": [
  {
   "cell_type": "code",
   "execution_count": 1,
   "metadata": {},
   "outputs": [],
   "source": [
    "from typing import List\n",
    "from collections import defaultdict,deque"
   ]
  },
  {
   "cell_type": "code",
   "execution_count": 2,
   "metadata": {},
   "outputs": [],
   "source": [
    "# Definition for a binary tree node.\n",
    "class TreeNode:\n",
    "    def __init__(self, val=0, left=None, right=None):\n",
    "        self.val = val\n",
    "        self.left = left\n",
    "        self.right = right"
   ]
  },
  {
   "cell_type": "code",
   "execution_count": 3,
   "metadata": {},
   "outputs": [],
   "source": [
    "class Solution:\n",
    "    def verticalTraversal(self, root: TreeNode) -> List[List[int]]:\n",
    "        if not root:\n",
    "            return []\n",
    "        \n",
    "        queue = deque([(root,0,0)])\n",
    "        leftWidth,rightWidth = 0,0\n",
    "        \n",
    "        verticalWidths = defaultdict(list)\n",
    "        \n",
    "        while queue:\n",
    "            \n",
    "            for _ in range(len(queue)):\n",
    "                currNode, verticalWidth, depth = queue.popleft()\n",
    "                if currNode.left:\n",
    "                    queue.append((currNode.left, verticalWidth-1, depth+1))\n",
    "                    leftWidth = min(leftWidth, verticalWidth-1)\n",
    "                if currNode.right:\n",
    "                    queue.append((currNode.right, verticalWidth+1, depth+1))\n",
    "                    rightWidth = max(rightWidth, verticalWidth+1)\n",
    "                verticalWidths[verticalWidth].append((depth, currNode.val))\n",
    "                \n",
    "        return [ [val for _,val in sorted(verticalWidths[verticalWidth])] for verticalWidth in range(leftWidth, rightWidth+1)]\n",
    "\n",
    "\n"
   ]
  },
  {
   "cell_type": "code",
   "execution_count": null,
   "metadata": {},
   "outputs": [],
   "source": []
  }
 ],
 "metadata": {
  "kernelspec": {
   "display_name": "Python 3",
   "language": "python",
   "name": "python3"
  },
  "language_info": {
   "codemirror_mode": {
    "name": "ipython",
    "version": 3
   },
   "file_extension": ".py",
   "mimetype": "text/x-python",
   "name": "python",
   "nbconvert_exporter": "python",
   "pygments_lexer": "ipython3",
   "version": "3.8.5"
  }
 },
 "nbformat": 4,
 "nbformat_minor": 4
}
