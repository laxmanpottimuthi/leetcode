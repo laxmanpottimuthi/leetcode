{
 "cells": [
  {
   "cell_type": "code",
   "execution_count": 20,
   "metadata": {},
   "outputs": [],
   "source": [
    "from collections import defaultdict\n",
    "class Solution:\n",
    "    def firstUniqChar(self, s: str) -> int:\n",
    "        unique = -1\n",
    "        uniqueDic = {}    \n",
    "        for i in range(len(s)):\n",
    "            if s[i] in uniqueDic.keys():\n",
    "                uniqueDic[s[i]] += 1\n",
    "            else:\n",
    "                uniqueDic[s[i]] = 1\n",
    "        for i in uniqueDic.keys():\n",
    "            if uniqueDic[i] == 1:\n",
    "                unique = i\n",
    "                break\n",
    "        if unique == -1:\n",
    "            return unique\n",
    "        return s.index(unique)\n",
    "        "
   ]
  },
  {
   "cell_type": "code",
   "execution_count": 21,
   "metadata": {},
   "outputs": [
    {
     "data": {
      "text/plain": [
       "2"
      ]
     },
     "execution_count": 21,
     "metadata": {},
     "output_type": "execute_result"
    }
   ],
   "source": [
    "# s = \"leetcode\"\n",
    "\n",
    "# return 0.\n",
    "\n",
    "s = \"loveleetcode\"\n",
    "# return 2.\n",
    "firstUniqChar(s)"
   ]
  },
  {
   "cell_type": "code",
   "execution_count": null,
   "metadata": {},
   "outputs": [],
   "source": [
    "from collections import Counter\n",
    "def firstUniqChar(s):\n",
    "    col = collections.Counter(s)\n",
    "    for i, c in enumerate(s):\n",
    "        if col[c] == 1:\n",
    "            return i\n",
    "    return -1"
   ]
  }
 ],
 "metadata": {
  "kernelspec": {
   "display_name": "Python 3",
   "language": "python",
   "name": "python3"
  },
  "language_info": {
   "codemirror_mode": {
    "name": "ipython",
    "version": 3
   },
   "file_extension": ".py",
   "mimetype": "text/x-python",
   "name": "python",
   "nbconvert_exporter": "python",
   "pygments_lexer": "ipython3",
   "version": "3.7.3"
  }
 },
 "nbformat": 4,
 "nbformat_minor": 4
}
