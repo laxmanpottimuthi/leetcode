{
 "cells": [
  {
   "cell_type": "code",
   "execution_count": 30,
   "metadata": {},
   "outputs": [],
   "source": [
    "def groupAnagrams(strs):\n",
    "    groupHash = {}\n",
    "    for i in strs:\n",
    "        hashFormed = tuple(sorted(i))\n",
    "        if hashFormed in groupHash.keys():\n",
    "            l = groupHash[hashFormed]\n",
    "            l.append(i)\n",
    "            groupHash[hashFormed] = sorted(l)\n",
    "        else:\n",
    "            groupHash[hashFormed] = [i]\n",
    "    return list(groupHash.values())"
   ]
  },
  {
   "cell_type": "code",
   "execution_count": 32,
   "metadata": {},
   "outputs": [
    {
     "data": {
      "text/plain": [
       "True"
      ]
     },
     "execution_count": 32,
     "metadata": {},
     "output_type": "execute_result"
    }
   ],
   "source": [
    "\n",
    "groupAnagrams( [\"eat\", \"tea\", \"tan\", \"ate\", \"nat\", \"bat\"]) == [ [\"ate\",\"eat\",\"tea\"], [\"nat\",\"tan\"], [\"bat\"] ]"
   ]
  },
  {
   "cell_type": "code",
   "execution_count": null,
   "metadata": {},
   "outputs": [],
   "source": []
  }
 ],
 "metadata": {
  "kernelspec": {
   "display_name": "Python 3",
   "language": "python",
   "name": "python3"
  },
  "language_info": {
   "codemirror_mode": {
    "name": "ipython",
    "version": 3
   },
   "file_extension": ".py",
   "mimetype": "text/x-python",
   "name": "python",
   "nbconvert_exporter": "python",
   "pygments_lexer": "ipython3",
   "version": "3.7.3"
  }
 },
 "nbformat": 4,
 "nbformat_minor": 4
}
