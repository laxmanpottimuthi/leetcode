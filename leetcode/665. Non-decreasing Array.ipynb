{
 "cells": [
  {
   "cell_type": "code",
   "execution_count": null,
   "metadata": {},
   "outputs": [],
   "source": [
    "class Solution:\n",
    "    def checkPossibility(self, nums: List[int]) -> bool:\n",
    "        violation = False\n",
    "        for i in range(1,len(nums)):\n",
    "            if nums[i-1] > nums[i]:\n",
    "                if violation:\n",
    "                    return False\n",
    "                violation = True\n",
    "                if i < 2 or nums[i-2] <= nums[i]:\n",
    "                    nums[i-1] = nums[i]\n",
    "                else:\n",
    "                    nums[i] = nums[i-1]\n",
    "        return True"
   ]
  }
 ],
 "metadata": {
  "kernelspec": {
   "display_name": "Python 3",
   "language": "python",
   "name": "python3"
  },
  "language_info": {
   "codemirror_mode": {
    "name": "ipython",
    "version": 3
   },
   "file_extension": ".py",
   "mimetype": "text/x-python",
   "name": "python",
   "nbconvert_exporter": "python",
   "pygments_lexer": "ipython3",
   "version": "3.8.5"
  }
 },
 "nbformat": 4,
 "nbformat_minor": 4
}
