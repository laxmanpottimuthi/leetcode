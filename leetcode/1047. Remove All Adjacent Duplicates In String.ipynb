{
 "cells": [
  {
   "cell_type": "code",
   "execution_count": null,
   "metadata": {},
   "outputs": [],
   "source": [
    "class Solution:\n",
    "    def removeDuplicates(self, S: str) -> str:\n",
    "        lengthS = len(S)\n",
    "        if lengthS < 2:\n",
    "            return S\n",
    "        \n",
    "        stack = [S[0]]\n",
    "        for letterIndex in range(1,lengthS):\n",
    "            if stack and stack[-1] == S[letterIndex]:\n",
    "                stack.pop()\n",
    "            else:\n",
    "                stack.append(S[letterIndex])\n",
    "        return \"\".join(stack)"
   ]
  }
 ],
 "metadata": {
  "kernelspec": {
   "display_name": "Python 3",
   "language": "python",
   "name": "python3"
  },
  "language_info": {
   "codemirror_mode": {
    "name": "ipython",
    "version": 3
   },
   "file_extension": ".py",
   "mimetype": "text/x-python",
   "name": "python",
   "nbconvert_exporter": "python",
   "pygments_lexer": "ipython3",
   "version": "3.8.5"
  }
 },
 "nbformat": 4,
 "nbformat_minor": 4
}
