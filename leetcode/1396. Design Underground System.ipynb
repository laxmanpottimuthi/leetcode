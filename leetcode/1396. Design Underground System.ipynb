{
 "cells": [
  {
   "cell_type": "code",
   "execution_count": 7,
   "metadata": {},
   "outputs": [],
   "source": [
    "from collections import defaultdict\n",
    "class UndergroundSystem:\n",
    "\n",
    "    def __init__(self):\n",
    "        self.inOutTimings = defaultdict(list)\n",
    "        self.inTimings = dict()\n",
    "\n",
    "    def checkIn(self, id: int, stationName: str, t: int) -> None:\n",
    "        self.inTimings[id] = (stationName,t)\n",
    "\n",
    "    def checkOut(self, id: int, stationName: str, t: int) -> None:\n",
    "        inStation, inTime = self.inTimings[id]\n",
    "        del self.inTimings[id]\n",
    "        self.inOutTimings[(inStation,stationName)].append(t-inTime) \n",
    "        \n",
    "    def getAverageTime(self, startStation: str, endStation: str) -> float:\n",
    "        inOutTimeList = self.inOutTimings[(startStation,endStation)]\n",
    "        return sum(inOutTimeList)/len(inOutTimeList)\n",
    "\n",
    "\n",
    "# Your UndergroundSystem object will be instantiated and called as such:\n",
    "# obj = UndergroundSystem()\n",
    "# obj.checkIn(id,stationName,t)\n",
    "# obj.checkOut(id,stationName,t)\n",
    "# param_3 = obj.getAverageTime(startStation,endStation)"
   ]
  },
  {
   "cell_type": "code",
   "execution_count": null,
   "metadata": {},
   "outputs": [],
   "source": []
  }
 ],
 "metadata": {
  "kernelspec": {
   "display_name": "Python 3",
   "language": "python",
   "name": "python3"
  },
  "language_info": {
   "codemirror_mode": {
    "name": "ipython",
    "version": 3
   },
   "file_extension": ".py",
   "mimetype": "text/x-python",
   "name": "python",
   "nbconvert_exporter": "python",
   "pygments_lexer": "ipython3",
   "version": "3.8.5"
  }
 },
 "nbformat": 4,
 "nbformat_minor": 4
}
