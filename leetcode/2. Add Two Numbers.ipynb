{
 "cells": [
  {
   "cell_type": "code",
   "execution_count": 9,
   "metadata": {},
   "outputs": [],
   "source": [
    "# Definition for singly-linked list.\n",
    "class ListNode:\n",
    "    def __init__(self, val=0, next=None):\n",
    "        self.val = val\n",
    "        self.next = next\n",
    "class Solution:\n",
    "    def addTwoNumbers(self, l1: ListNode, l2: ListNode) -> ListNode:\n",
    "        \n",
    "        carry,l1Tmp,l2Tmp,digitSum = 0,None,None,0\n",
    "        result = ListNode(val=0)\n",
    "        resultPtr = result\n",
    "        while l1 or l2:\n",
    "            \n",
    "            if l1:\n",
    "                l1Tmp = l1.val\n",
    "                l1=l1.next\n",
    "            if l2:\n",
    "                l2Tmp = l2.val\n",
    "                l2=l2.next\n",
    "\n",
    "            if l1Tmp != None and l2Tmp != None:\n",
    "                digitSum = l1Tmp + l2Tmp+carry\n",
    "            elif l1Tmp != None and not l2Tmp != None:\n",
    "                digitSum = l1Tmp + carry\n",
    "            elif l2Tmp != None and not l1Tmp != None:\n",
    "                digitSum = l2Tmp + carry\n",
    "            \n",
    "            \n",
    "            carry = int(digitSum/10)\n",
    "            digit = digitSum%10\n",
    "            l1Tmp,l2Tmp=None,None\n",
    "            result.next = ListNode(val=digit)\n",
    "            result = result.next\n",
    "        if carry != 0:\n",
    "            result.next = ListNode(val=carry)\n",
    "        \n",
    "        return resultPtr.next\n",
    "    \n",
    "    def printListNode(self, listnode ):\n",
    "        if listnode == None:\n",
    "            print(\"List node none\")\n",
    "        while listnode :\n",
    "            print(listnode,listnode.val,listnode.next)\n",
    "            listnode = listnode.next"
   ]
  },
  {
   "cell_type": "code",
   "execution_count": 10,
   "metadata": {},
   "outputs": [],
   "source": [
    "def createLL(arr1):\n",
    "    res = ListNode(val = 0)\n",
    "    resPtr = res\n",
    "    for i in arr1:\n",
    "        res.next = ListNode(val = i)\n",
    "        res = res.next\n",
    "    return resPtr.next\n",
    "\n",
    "def getLL(listNode):\n",
    "    res = []\n",
    "    while listNode:\n",
    "        res.append(listNode.val)\n",
    "        listNode = listNode.next\n",
    "    return res\n",
    "sol = Solution()"
   ]
  },
  {
   "cell_type": "code",
   "execution_count": 12,
   "metadata": {},
   "outputs": [
    {
     "name": "stdout",
     "output_type": "stream",
     "text": [
      "True\n"
     ]
    }
   ],
   "source": [
    "# tmpTest1 = ListNode(val=2)\n",
    "# tmpTest1.next = ListNode(val=4)\n",
    "# tmpTest1.next.next = ListNode(val=3)\n",
    "\n",
    "# tmpTest2 = ListNode(val=5)\n",
    "# tmpTest2.next = ListNode(val=6)\n",
    "# tmpTest2.next.next = ListNode(val=4)\n",
    "\n",
    "\n",
    "# tmpTest1 = ListNode(val=0)\n",
    "# tmpTest2 = ListNode(val=0)\n",
    "\n",
    "# tmpTest1,tmpTest2 = createLL([9,9,9,9,9,9,9]),createLL([9,9,9,9])\n",
    "\n",
    "# tmpTest1,tmpTest2 = createLL([]),createLL([1,2,3])\n",
    "\n",
    "# tmpTest1,tmpTest2 = createLL([1,2,3]), createLL([])\n",
    "\n",
    "tmpTest1,tmpTest2 = createLL([6,4,5,0,4,4,9,4,1]), createLL([3,8,8,0,3,0,1,4,8])\n",
    "\n",
    "res = sol.addTwoNumbers(tmpTest1,tmpTest2)\n",
    "print(getLL(res)==[9,2,4,1,7,4,0,9,9])\n",
    "# sol.printListNode(res)"
   ]
  },
  {
   "cell_type": "code",
   "execution_count": null,
   "metadata": {},
   "outputs": [],
   "source": []
  },
  {
   "cell_type": "code",
   "execution_count": null,
   "metadata": {},
   "outputs": [],
   "source": []
  }
 ],
 "metadata": {
  "kernelspec": {
   "display_name": "Python 3",
   "language": "python",
   "name": "python3"
  },
  "language_info": {
   "codemirror_mode": {
    "name": "ipython",
    "version": 3
   },
   "file_extension": ".py",
   "mimetype": "text/x-python",
   "name": "python",
   "nbconvert_exporter": "python",
   "pygments_lexer": "ipython3",
   "version": "3.8.5"
  }
 },
 "nbformat": 4,
 "nbformat_minor": 4
}
