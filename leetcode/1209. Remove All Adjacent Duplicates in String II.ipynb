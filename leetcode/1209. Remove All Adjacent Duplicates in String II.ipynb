{
 "cells": [
  {
   "cell_type": "code",
   "execution_count": 1,
   "metadata": {},
   "outputs": [],
   "source": [
    "from collections import deque\n",
    "class Solution:\n",
    "    def removeDuplicates(self, s: str, k: int) -> str:\n",
    "        lengthString = len(s)\n",
    "        if lengthString < k:\n",
    "            return s\n",
    "        stack = []\n",
    "        for letter in s:\n",
    "            stack.append(letter)\n",
    "            if len(stack) >= k:\n",
    "                if all(letter == subLetter for subLetter in stack[-k:]):\n",
    "                    stack = stack[:-k]\n",
    "        return \"\".join(stack)\n"
   ]
  },
  {
   "cell_type": "code",
   "execution_count": 2,
   "metadata": {},
   "outputs": [],
   "source": [
    "class Solution:\n",
    "    def removeDuplicates(self, s: str, k: int) -> str:\n",
    "        lengthString = len(s)\n",
    "        if lengthString < k:\n",
    "            return s\n",
    "        stack = [[s[0],1]]\n",
    "        for i in range(1,lengthString):\n",
    "            if stack and stack[-1][0] == s[i]:\n",
    "                stack[-1][1] += 1\n",
    "                if stack[-1][1] == k:\n",
    "                    stack.pop()\n",
    "            else:\n",
    "                stack.append([s[i],1])\n",
    "        return \"\".join( letter*count for letter,count in stack)"
   ]
  },
  {
   "cell_type": "code",
   "execution_count": null,
   "metadata": {},
   "outputs": [],
   "source": [
    "class Solution:\n",
    "    def removeDuplicates(self, s: str, k: int) -> str:"
   ]
  },
  {
   "cell_type": "code",
   "execution_count": 3,
   "metadata": {},
   "outputs": [
    {
     "data": {
      "text/plain": [
       "'abcd'"
      ]
     },
     "execution_count": 3,
     "metadata": {},
     "output_type": "execute_result"
    }
   ],
   "source": [
    "sol = Solution()\n",
    "sol.removeDuplicates(s = \"abcd\", k = 2)"
   ]
  }
 ],
 "metadata": {
  "kernelspec": {
   "display_name": "Python 3",
   "language": "python",
   "name": "python3"
  },
  "language_info": {
   "codemirror_mode": {
    "name": "ipython",
    "version": 3
   },
   "file_extension": ".py",
   "mimetype": "text/x-python",
   "name": "python",
   "nbconvert_exporter": "python",
   "pygments_lexer": "ipython3",
   "version": "3.8.5"
  }
 },
 "nbformat": 4,
 "nbformat_minor": 4
}
