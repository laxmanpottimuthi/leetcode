{
 "cells": [
  {
   "cell_type": "code",
   "execution_count": 18,
   "metadata": {},
   "outputs": [
    {
     "data": {
      "text/plain": [
       "[2, 0, 2, 1, 4]"
      ]
     },
     "execution_count": 18,
     "metadata": {},
     "output_type": "execute_result"
    }
   ],
   "source": [
    "from typing import List\n",
    "from collections import defaultdict\n",
    "class Solution:\n",
    "    def advantageCount(self, A: List[int], B: List[int]) -> List[int]:\n",
    "        aSorted = sorted(A)\n",
    "        bSorted = sorted(B)\n",
    "        \n",
    "        i = 0\n",
    "        bPossible = defaultdict(list)\n",
    "        leftOvers = []\n",
    "        for a in aSorted:\n",
    "            if a > bSorted[i]:\n",
    "                bPossible[bSorted[i]].append(a)\n",
    "                i += 1\n",
    "            else:\n",
    "                leftOvers.append(a)\n",
    "                bPossible[bSorted[i]] = []\n",
    "        \n",
    "        return [bPossible[b].pop() if bPossible[b] else leftOvers.pop() for b in B]\n",
    "sol = Solution()\n",
    "sol.advantageCount(A=[2,0,4,1,2],B=[1,3,0,0,2]) "
   ]
  },
  {
   "cell_type": "code",
   "execution_count": 22,
   "metadata": {},
   "outputs": [
    {
     "data": {
      "text/plain": [
       "[2, 0, 1, 2, 4]"
      ]
     },
     "execution_count": 22,
     "metadata": {},
     "output_type": "execute_result"
    }
   ],
   "source": [
    "from typing import List\n",
    "from collections import defaultdict,deque\n",
    "class Solution:\n",
    "    def advantageCount(self, A: List[int], B: List[int]) -> List[int]:\n",
    "        bSorted = sorted((b,i) for i,b in enumerate(B))\n",
    "        res = [-1] * len(A)\n",
    "        bSorted = deque((bSorted))\n",
    "        for a in sorted(A):\n",
    "            if a > bSorted[0][0]:\n",
    "                _, ind = bSorted.popleft()\n",
    "            else:\n",
    "                _, ind = bSorted.pop()\n",
    "            res[ind] = a\n",
    "        return res\n",
    "sol = Solution()\n",
    "sol.advantageCount(A=[2,0,4,1,2],B=[1,3,0,0,2])                 \n",
    "        "
   ]
  },
  {
   "cell_type": "code",
   "execution_count": null,
   "metadata": {},
   "outputs": [],
   "source": []
  },
  {
   "cell_type": "code",
   "execution_count": 3,
   "metadata": {},
   "outputs": [
    {
     "data": {
      "text/plain": [
       "[24, 32, 8, 12]"
      ]
     },
     "execution_count": 3,
     "metadata": {},
     "output_type": "execute_result"
    }
   ],
   "source": [
    "sol = Solution()\n",
    "sol.advantageCount(A = [12,24,8,32], B = [13,25,32,11])"
   ]
  },
  {
   "cell_type": "code",
   "execution_count": 4,
   "metadata": {},
   "outputs": [
    {
     "data": {
      "text/plain": [
       "[2, 0, 1, 2, 4]"
      ]
     },
     "execution_count": 4,
     "metadata": {},
     "output_type": "execute_result"
    }
   ],
   "source": [
    "sol = Solution()\n",
    "sol.advantageCount(A=[2,0,4,1,2],B=[1,3,0,0,2]) "
   ]
  },
  {
   "cell_type": "code",
   "execution_count": null,
   "metadata": {},
   "outputs": [],
   "source": []
  }
 ],
 "metadata": {
  "kernelspec": {
   "display_name": "Python 3",
   "language": "python",
   "name": "python3"
  },
  "language_info": {
   "codemirror_mode": {
    "name": "ipython",
    "version": 3
   },
   "file_extension": ".py",
   "mimetype": "text/x-python",
   "name": "python",
   "nbconvert_exporter": "python",
   "pygments_lexer": "ipython3",
   "version": "3.8.5"
  }
 },
 "nbformat": 4,
 "nbformat_minor": 4
}
