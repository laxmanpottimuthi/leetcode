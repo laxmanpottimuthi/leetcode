{
 "cells": [
  {
   "cell_type": "code",
   "execution_count": 1,
   "metadata": {},
   "outputs": [],
   "source": [
    "import math\n",
    "class Primes():\n",
    "    \n",
    "    def prime(self,num,primes):\n",
    "        sqrt_num = int(math.sqrt(num+1))\n",
    "        for i in primes:\n",
    "            if i <= sqrt_num and num % i == 0:\n",
    "                return False\n",
    "        return True\n",
    "\n",
    "    def findPrimes(self,num):\n",
    "        if num < 1:\n",
    "            return []\n",
    "        if num <= 3:\n",
    "            return list(range(1,num+1))\n",
    "        result = [2]\n",
    "        for i in range(3,num+1, 2):\n",
    "            if self.prime(i,result):\n",
    "                result.append(i)\n",
    "        return result\n",
    "    \n",
    "    def findPrimesSieveEratosthenes(self,num):\n",
    "        primes = [True for i in range(num+1)]\n",
    "        prime=2\n",
    "        \n",
    "        while prime*prime <= num:\n",
    "            if primes[prime] == True:\n",
    "                for i in range(prime*prime, num+1,prime):\n",
    "                    primes[i]=False\n",
    "            prime += 1\n",
    "        return [i for i in range(2,num+1) if primes[i]]\n",
    "        \n",
    "    "
   ]
  },
  {
   "cell_type": "code",
   "execution_count": null,
   "metadata": {},
   "outputs": [],
   "source": []
  },
  {
   "cell_type": "code",
   "execution_count": 2,
   "metadata": {},
   "outputs": [
    {
     "data": {
      "text/plain": [
       "True"
      ]
     },
     "execution_count": 2,
     "metadata": {},
     "output_type": "execute_result"
    }
   ],
   "source": [
    "sol = Primes()\n",
    "num = 7\n",
    "sol.findPrimes(num) == sol.findPrimesSieveEratosthenes(num)"
   ]
  },
  {
   "cell_type": "code",
   "execution_count": null,
   "metadata": {},
   "outputs": [],
   "source": []
  },
  {
   "cell_type": "code",
   "execution_count": null,
   "metadata": {},
   "outputs": [],
   "source": []
  }
 ],
 "metadata": {
  "kernelspec": {
   "display_name": "Python 3",
   "language": "python",
   "name": "python3"
  },
  "language_info": {
   "codemirror_mode": {
    "name": "ipython",
    "version": 3
   },
   "file_extension": ".py",
   "mimetype": "text/x-python",
   "name": "python",
   "nbconvert_exporter": "python",
   "pygments_lexer": "ipython3",
   "version": "3.8.5"
  }
 },
 "nbformat": 4,
 "nbformat_minor": 4
}
