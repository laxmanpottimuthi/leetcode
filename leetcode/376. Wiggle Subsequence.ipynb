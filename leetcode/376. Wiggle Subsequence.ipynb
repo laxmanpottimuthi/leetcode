{
 "cells": [
  {
   "cell_type": "code",
   "execution_count": 31,
   "metadata": {},
   "outputs": [],
   "source": [
    "# Length of longest contiguous array \n",
    "class Solution(object):\n",
    "    def wiggleMaxLength(self, nums):\n",
    "        \"\"\"\n",
    "        :type nums: List[int]\n",
    "        :rtype: int\n",
    "        \"\"\"\n",
    "        sign = lambda x: (x>0) - (x<0)\n",
    "        lenNums = len(nums)\n",
    "        if not nums:\n",
    "            return 0\n",
    "        if lenNums == 1 or lenNums == 2 :\n",
    "            return lenNums\n",
    "        prevDiff = nums[1] - nums[0]\n",
    "        maxLen,locMax = 2,2\n",
    "        for i in range(2,lenNums):\n",
    "            currDiff = nums[i] - nums[i-1]\n",
    "            if sign(prevDiff) != sign(currDiff) and currDiff != 0:\n",
    "                locMax += 1\n",
    "                prevDiff = currDiff\n",
    "            else:\n",
    "                maxLen = max(maxLen, locMax)\n",
    "                locMax = 1\n",
    "        maxLen = max(maxLen,locMax)\n",
    "        return maxLen\n",
    "                \n",
    "        "
   ]
  },
  {
   "cell_type": "code",
   "execution_count": 32,
   "metadata": {},
   "outputs": [
    {
     "data": {
      "text/plain": [
       "4"
      ]
     },
     "execution_count": 32,
     "metadata": {},
     "output_type": "execute_result"
    }
   ],
   "source": [
    "sol = Solution()\n",
    "sol.wiggleMaxLength([1,17,5,10,13,15,10,5,16,8])"
   ]
  },
  {
   "cell_type": "code",
   "execution_count": null,
   "metadata": {},
   "outputs": [],
   "source": []
  }
 ],
 "metadata": {
  "kernelspec": {
   "display_name": "Python 3",
   "language": "python",
   "name": "python3"
  },
  "language_info": {
   "codemirror_mode": {
    "name": "ipython",
    "version": 3
   },
   "file_extension": ".py",
   "mimetype": "text/x-python",
   "name": "python",
   "nbconvert_exporter": "python",
   "pygments_lexer": "ipython3",
   "version": "3.8.5"
  }
 },
 "nbformat": 4,
 "nbformat_minor": 4
}
