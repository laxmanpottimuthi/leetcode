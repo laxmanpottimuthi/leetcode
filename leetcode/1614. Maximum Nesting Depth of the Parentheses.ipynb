{
 "cells": [
  {
   "cell_type": "code",
   "execution_count": null,
   "metadata": {},
   "outputs": [],
   "source": [
    "class Solution:\n",
    "    def maxDepth(self, s: str) -> int:\n",
    "        if not s:\n",
    "            return 0\n",
    "        \n",
    "        maxDepth, openParenthesis = 0,0\n",
    "        \n",
    "        for char in s:\n",
    "            if openParenthesis < 0:\n",
    "                return 0\n",
    "            if char == \"(\":\n",
    "                openParenthesis += 1\n",
    "            elif char == \")\":\n",
    "                maxDepth = max(openParenthesis, maxDepth)\n",
    "                openParenthesis -= 1\n",
    "        return maxDepth if openParenthesis == 0 else 0\n",
    "        "
   ]
  }
 ],
 "metadata": {
  "kernelspec": {
   "display_name": "Python 3",
   "language": "python",
   "name": "python3"
  },
  "language_info": {
   "codemirror_mode": {
    "name": "ipython",
    "version": 3
   },
   "file_extension": ".py",
   "mimetype": "text/x-python",
   "name": "python",
   "nbconvert_exporter": "python",
   "pygments_lexer": "ipython3",
   "version": "3.8.5"
  }
 },
 "nbformat": 4,
 "nbformat_minor": 4
}
