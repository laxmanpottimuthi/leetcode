{
 "cells": [
  {
   "cell_type": "code",
   "execution_count": 9,
   "metadata": {},
   "outputs": [],
   "source": [
    "def largestDivisibleSubset(nums):\n",
    "    numsLen = len(nums)\n",
    "    if numsLen == 0 or numsLen == 1:\n",
    "        return nums\n",
    "    nums.sort()\n",
    "    dpt = [1]*numsLen\n",
    "    for i in range(numsLen):\n",
    "        for j in range(i):\n",
    "            if nums[i] % nums[j] == 0:\n",
    "                dpt[i] += 1\n",
    "    tempind = dpt.index(max(dpt))\n",
    "    print(max(dpt))\n",
    "    largestSubset = []\n",
    "    print(dpt,tempind)\n",
    "    for i in range(tempind):\n",
    "        if nums[tempind] % nums[i] == 0:\n",
    "            largestSubset.append(nums[i])\n",
    "    largestSubset.append(nums[tempind])\n",
    "    return largestSubset"
   ]
  },
  {
   "cell_type": "code",
   "execution_count": 10,
   "metadata": {},
   "outputs": [
    {
     "name": "stdout",
     "output_type": "stream",
     "text": [
      "4\n",
      "[1, 2, 2, 3, 4] 4\n"
     ]
    },
    {
     "data": {
      "text/plain": [
       "[2, 4, 6, 12]"
      ]
     },
     "execution_count": 10,
     "metadata": {},
     "output_type": "execute_result"
    }
   ],
   "source": [
    "# nums = [1,2,3,4]\n",
    "nums =[4,2,8,6,12]\n",
    "largestDivisibleSubset(nums)"
   ]
  },
  {
   "cell_type": "code",
   "execution_count": null,
   "metadata": {},
   "outputs": [],
   "source": []
  }
 ],
 "metadata": {
  "kernelspec": {
   "display_name": "Python 3",
   "language": "python",
   "name": "python3"
  },
  "language_info": {
   "codemirror_mode": {
    "name": "ipython",
    "version": 3
   },
   "file_extension": ".py",
   "mimetype": "text/x-python",
   "name": "python",
   "nbconvert_exporter": "python",
   "pygments_lexer": "ipython3",
   "version": "3.7.3"
  }
 },
 "nbformat": 4,
 "nbformat_minor": 4
}
