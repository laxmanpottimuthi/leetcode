{
 "cells": [
  {
   "cell_type": "code",
   "execution_count": null,
   "metadata": {},
   "outputs": [],
   "source": [
    "class BrowserHistory:\n",
    "\n",
    "    def __init__(self, homepage: str):\n",
    "        self.forwardStack = []\n",
    "        self.backwardStack = []\n",
    "        self.currentUrl = homepage\n",
    "\n",
    "    def visit(self, url: str) -> None:\n",
    "        self.backwardStack.append(self.currentUrl)\n",
    "        self.forwardStack = []\n",
    "        self.currentUrl = url\n",
    "\n",
    "    def back(self, steps: int) -> str:\n",
    "        if not self.backwardStack:\n",
    "            return self.currentUrl\n",
    "        maxSteps = min(steps,len(self.backwardStack))\n",
    "        for i in range(maxSteps):\n",
    "            self.forwardStack.append(self.currentUrl)\n",
    "            self.currentUrl = self.backwardStack.pop()\n",
    "        return self.currentUrl\n",
    "    \n",
    "    def forward(self, steps: int) -> str:\n",
    "        if not self.forwardStack:\n",
    "            return self.currentUrl\n",
    "        maxSteps = min(steps,len(self.forwardStack))\n",
    "        \n",
    "        for i in range(maxSteps):\n",
    "            self.backwardStack.append(self.currentUrl)\n",
    "            self.currentUrl = self.forwardStack.pop()\n",
    "        return self.currentUrl\n",
    "        \n",
    "        \n",
    "\n",
    "\n",
    "# Your BrowserHistory object will be instantiated and called as such:\n",
    "# obj = BrowserHistory(homepage)\n",
    "# obj.visit(url)\n",
    "# param_2 = obj.back(steps)\n",
    "# param_3 = obj.forward(steps)"
   ]
  }
 ],
 "metadata": {
  "kernelspec": {
   "display_name": "Python 3",
   "language": "python",
   "name": "python3"
  },
  "language_info": {
   "codemirror_mode": {
    "name": "ipython",
    "version": 3
   },
   "file_extension": ".py",
   "mimetype": "text/x-python",
   "name": "python",
   "nbconvert_exporter": "python",
   "pygments_lexer": "ipython3",
   "version": "3.8.5"
  }
 },
 "nbformat": 4,
 "nbformat_minor": 4
}
