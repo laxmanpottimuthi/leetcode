{
 "cells": [
  {
   "cell_type": "code",
   "execution_count": 1,
   "metadata": {},
   "outputs": [],
   "source": [
    "class Solution:\n",
    "    def lengthOfLongestSubstring(self, s: str) -> int:\n",
    "        currLen = globalLen = 0\n",
    "        subStr = \"\"\n",
    "        for i in s:\n",
    "            if i not in subStr:\n",
    "                subStr = subStr + i\n",
    "                currLen += 1\n",
    "            else:\n",
    "                subStrInd = subStr.index(i)\n",
    "                subStr = subStr[subStrInd+1:]+i\n",
    "                currLen = len(subStr)\n",
    "            if currLen > globalLen:\n",
    "                globalLen = currLen\n",
    "        return globalLen"
   ]
  },
  {
   "cell_type": "code",
   "execution_count": 2,
   "metadata": {},
   "outputs": [
    {
     "name": "stdout",
     "output_type": "stream",
     "text": [
      "True\n",
      "True\n",
      "True\n",
      "True\n"
     ]
    }
   ],
   "source": [
    "sol = Solution()\n",
    "\n",
    "s = \"\"\n",
    "print(sol.lengthOfLongestSubstring(s) == 0)\n",
    "\n",
    "s= \"abc\"\n",
    "print(sol.lengthOfLongestSubstring(s) == 3)\n",
    "\n",
    "s = \"abcdaebc\"\n",
    "print(sol.lengthOfLongestSubstring(s) == 5)\n",
    "\n",
    "s= \"abasdlkn2861783u0fmno3u2r889-2po1kemdnoiq*UE-29PO3RKMFP4I3c\"\n",
    "print(sol.lengthOfLongestSubstring(s) == 22)"
   ]
  }
 ],
 "metadata": {
  "kernelspec": {
   "display_name": "Python 3",
   "language": "python",
   "name": "python3"
  },
  "language_info": {
   "codemirror_mode": {
    "name": "ipython",
    "version": 3
   },
   "file_extension": ".py",
   "mimetype": "text/x-python",
   "name": "python",
   "nbconvert_exporter": "python",
   "pygments_lexer": "ipython3",
   "version": "3.8.5"
  }
 },
 "nbformat": 4,
 "nbformat_minor": 4
}
