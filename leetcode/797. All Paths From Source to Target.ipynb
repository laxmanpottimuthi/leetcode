{
 "cells": [
  {
   "cell_type": "code",
   "execution_count": 1,
   "metadata": {},
   "outputs": [],
   "source": [
    "from typing import List\n",
    "from collections import deque"
   ]
  },
  {
   "cell_type": "code",
   "execution_count": null,
   "metadata": {},
   "outputs": [],
   "source": [
    "class Solution:\n",
    "    def allPathsSourceTarget(self, graph: List[List[int]]) -> List[List[int]]:\n",
    "        \n",
    "        target = len(graph)-1\n",
    "        paths = []\n",
    "        \n",
    "        def backtrack(currNode, path):\n",
    "            if currNode == target:\n",
    "                paths.append(path)\n",
    "                return\n",
    "            for nexNode in graph[currNode]:\n",
    "                path.append(nexNode)\n",
    "                backtrack(nexNode,path)\n",
    "                path.pop()\n",
    "        path = deque([0])\n",
    "        backtrack(0,path)\n",
    "        return paths"
   ]
  }
 ],
 "metadata": {
  "kernelspec": {
   "display_name": "Python 3",
   "language": "python",
   "name": "python3"
  },
  "language_info": {
   "codemirror_mode": {
    "name": "ipython",
    "version": 3
   },
   "file_extension": ".py",
   "mimetype": "text/x-python",
   "name": "python",
   "nbconvert_exporter": "python",
   "pygments_lexer": "ipython3",
   "version": "3.8.5"
  }
 },
 "nbformat": 4,
 "nbformat_minor": 4
}
