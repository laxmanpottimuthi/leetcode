{
 "cells": [
  {
   "cell_type": "code",
   "execution_count": 8,
   "metadata": {},
   "outputs": [],
   "source": [
    "from typing import List\n",
    "from collections import Counter\n",
    "class Solution:\n",
    "    def shortestCompletingWord(self, licensePlate: str, words: List[str]) -> str:\n",
    "        \n",
    "        def convertToLetters(licensePlate):\n",
    "            res = \"\"\n",
    "            for i in licensePlate:\n",
    "                if i.isalpha():\n",
    "                    res += i.lower()\n",
    "            return res\n",
    "        licensePlate = convertToLetters(licensePlate)\n",
    "        licensePlateCounter = Counter(licensePlate)\n",
    "        shortestWord = \"\"\n",
    "        found = True\n",
    "        for word in words:\n",
    "            wordCounter = Counter(word)\n",
    "            for i in licensePlate:\n",
    "                if licensePlateCounter[i] <= wordCounter[i]:\n",
    "                    found = True\n",
    "                    continue\n",
    "                else:\n",
    "                    found = False\n",
    "                    break\n",
    "            if found:        \n",
    "                if shortestWord != \"\" :\n",
    "                    shortestWord = word if len(shortestWord) > len(word) else shortestWord\n",
    "                else:\n",
    "                    shortestWord = word\n",
    "        return shortestWord"
   ]
  },
  {
   "cell_type": "code",
   "execution_count": 9,
   "metadata": {},
   "outputs": [
    {
     "data": {
      "text/plain": [
       "True"
      ]
     },
     "execution_count": 9,
     "metadata": {},
     "output_type": "execute_result"
    }
   ],
   "source": [
    "licensePlate = \"1s3 PSt\"\n",
    "words = [\"step\",\"steps\",\"stripe\",\"stepple\"]\n",
    "sol =Solution()\n",
    "sol.shortestCompletingWord(licensePlate,words) == 'steps'"
   ]
  },
  {
   "cell_type": "code",
   "execution_count": 10,
   "metadata": {},
   "outputs": [
    {
     "data": {
      "text/plain": [
       "True"
      ]
     },
     "execution_count": 10,
     "metadata": {},
     "output_type": "execute_result"
    }
   ],
   "source": [
    "licensePlate = \"Ah71752\"\n",
    "words = [\"suggest\",\"letter\",\"of\",\"husband\",\"easy\",\"education\",\"drug\",\"prevent\",\"writer\",\"old\"]\n",
    "sol =Solution()\n",
    "sol.shortestCompletingWord(licensePlate,words) == 'husband'"
   ]
  },
  {
   "cell_type": "code",
   "execution_count": 12,
   "metadata": {},
   "outputs": [
    {
     "data": {
      "text/plain": [
       "True"
      ]
     },
     "execution_count": 12,
     "metadata": {},
     "output_type": "execute_result"
    }
   ],
   "source": [
    "licensePlate = \"1s3 456\"\n",
    "words = [\"looks\",\"pest\",\"stew\",\"show\"]\n",
    "sol =Solution()\n",
    "sol.shortestCompletingWord(licensePlate,words) == 'pest'"
   ]
  },
  {
   "cell_type": "code",
   "execution_count": null,
   "metadata": {},
   "outputs": [],
   "source": []
  }
 ],
 "metadata": {
  "kernelspec": {
   "display_name": "Python 3",
   "language": "python",
   "name": "python3"
  },
  "language_info": {
   "codemirror_mode": {
    "name": "ipython",
    "version": 3
   },
   "file_extension": ".py",
   "mimetype": "text/x-python",
   "name": "python",
   "nbconvert_exporter": "python",
   "pygments_lexer": "ipython3",
   "version": "3.8.5"
  }
 },
 "nbformat": 4,
 "nbformat_minor": 4
}
