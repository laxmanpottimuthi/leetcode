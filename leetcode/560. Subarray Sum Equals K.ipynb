{
 "cells": [
  {
   "cell_type": "code",
   "execution_count": 1,
   "metadata": {},
   "outputs": [],
   "source": [
    "from typing import List"
   ]
  },
  {
   "cell_type": "code",
   "execution_count": 27,
   "metadata": {},
   "outputs": [],
   "source": [
    "class Solution:\n",
    "    def subarraySum(self, nums: List[int], k: int) -> int:\n",
    "        lengthNums = len(nums)\n",
    "        if not lengthNums:\n",
    "            return 0\n",
    "\n",
    "        count = 0\n",
    "        cummulativeSumOfNums = [0]\n",
    "        for i in range(lengthNums):\n",
    "            cummulativeSumOfNums.append(cummulativeSumOfNums[i]+nums[i])\n",
    "        print(cummulativeSumOfNums)\n",
    "        for startIndex in range(lengthNums):\n",
    "            for endIndex in range(startIndex+1,lengthNums+1):\n",
    "                if cummulativeSumOfNums[endIndex] - cummulativeSumOfNums[startIndex] == k:\n",
    "                    count += 1\n",
    "        return count\n",
    "                    "
   ]
  },
  {
   "cell_type": "code",
   "execution_count": 28,
   "metadata": {},
   "outputs": [
    {
     "name": "stdout",
     "output_type": "stream",
     "text": [
      "[0, 1, 2, 3]\n"
     ]
    },
    {
     "data": {
      "text/plain": [
       "2"
      ]
     },
     "execution_count": 28,
     "metadata": {},
     "output_type": "execute_result"
    }
   ],
   "source": [
    "sol = Solution()\n",
    "sol.subarraySum([1,1,1],2)"
   ]
  },
  {
   "cell_type": "code",
   "execution_count": 33,
   "metadata": {},
   "outputs": [],
   "source": [
    "from collections import defaultdict\n",
    "class Solution:\n",
    "    def subarraySum(self, nums: List[int], k: int) -> int:\n",
    "        lengthNums = len(nums)\n",
    "        if not lengthNums:\n",
    "            return 0\n",
    "\n",
    "        count = 0\n",
    "        cummulativeSumMap = defaultdict(int)\n",
    "        cummulativeSumMap[0] = 1\n",
    "        negativeSum = 0\n",
    "        cummulativeSum = 0\n",
    "        for i in nums:\n",
    "            cummulativeSum += i\n",
    "            \n",
    "            negativeSum = cummulativeSum-k\n",
    "            \n",
    "            if negativeSum in cummulativeSumMap:\n",
    "                count += cummulativeSumMap[negativeSum]\n",
    "            cummulativeSumMap[cummulativeSum] += 1\n",
    "        return count\n",
    "                "
   ]
  },
  {
   "cell_type": "code",
   "execution_count": 34,
   "metadata": {},
   "outputs": [
    {
     "data": {
      "text/plain": [
       "4"
      ]
     },
     "execution_count": 34,
     "metadata": {},
     "output_type": "execute_result"
    }
   ],
   "source": [
    "sol = Solution()\n",
    "sol.subarraySum(nums = [3,4,7,2,-3,1,4,2], k = 7)"
   ]
  },
  {
   "cell_type": "code",
   "execution_count": null,
   "metadata": {},
   "outputs": [],
   "source": []
  }
 ],
 "metadata": {
  "kernelspec": {
   "display_name": "Python 3",
   "language": "python",
   "name": "python3"
  },
  "language_info": {
   "codemirror_mode": {
    "name": "ipython",
    "version": 3
   },
   "file_extension": ".py",
   "mimetype": "text/x-python",
   "name": "python",
   "nbconvert_exporter": "python",
   "pygments_lexer": "ipython3",
   "version": "3.8.5"
  }
 },
 "nbformat": 4,
 "nbformat_minor": 4
}
