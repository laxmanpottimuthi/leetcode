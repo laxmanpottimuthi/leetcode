{
 "cells": [
  {
   "cell_type": "code",
   "execution_count": 1,
   "metadata": {},
   "outputs": [],
   "source": [
    "from typing import List\n",
    "from collections import defaultdict,deque"
   ]
  },
  {
   "cell_type": "code",
   "execution_count": 8,
   "metadata": {},
   "outputs": [],
   "source": [
    "class TreeNode:\n",
    "    def __init__(self, val=0, left=None, right=None):\n",
    "        self.val = val\n",
    "        self.left = left\n",
    "        self.right = right\n",
    "class Solution:\n",
    "    def levelOrderBottom(self, root: TreeNode) -> List[List[int]]:\n",
    "        if not root:\n",
    "            return []\n",
    "        levels = defaultdict(list)\n",
    "        levelElements = deque([(root,0)])\n",
    "        while levelElements:\n",
    "            node, level = levelElements.popleft()\n",
    "            levels[level].append(node.val)\n",
    "            if node.left:\n",
    "                levelElements.append((node.left,level+1))\n",
    "            if node.right:\n",
    "                levelElements.append((node.right,level+1))\n",
    "        return list(levels.values())[::-1]\n",
    "    def levelOrderBottom2(self, root: TreeNode) -> List[List[int]]:\n",
    "        if not root:\n",
    "            return []\n",
    "        levels = (root,)\n",
    "        res = []\n",
    "        while levels:\n",
    "            res.append([node.val for node in levels])\n",
    "            levels = tuple(childNode for node in levels for childNode in (node.left,node.right) if childNode)\n",
    "        return res[::-1]\n",
    "            "
   ]
  },
  {
   "cell_type": "code",
   "execution_count": 9,
   "metadata": {},
   "outputs": [
    {
     "data": {
      "text/plain": [
       "[[15, 7], [9, 20], [3]]"
      ]
     },
     "execution_count": 9,
     "metadata": {},
     "output_type": "execute_result"
    }
   ],
   "source": [
    "root  = TreeNode(3, TreeNode(9, TreeNode(15,None, None), TreeNode(7,None,None)), TreeNode(20,None,None))\n",
    "sol = Solution()\n",
    "# sol.levelOrderBottom(root)\n",
    "sol.levelOrderBottom2(root)"
   ]
  },
  {
   "cell_type": "code",
   "execution_count": null,
   "metadata": {},
   "outputs": [],
   "source": []
  }
 ],
 "metadata": {
  "kernelspec": {
   "display_name": "Python 3",
   "language": "python",
   "name": "python3"
  },
  "language_info": {
   "codemirror_mode": {
    "name": "ipython",
    "version": 3
   },
   "file_extension": ".py",
   "mimetype": "text/x-python",
   "name": "python",
   "nbconvert_exporter": "python",
   "pygments_lexer": "ipython3",
   "version": "3.8.5"
  }
 },
 "nbformat": 4,
 "nbformat_minor": 4
}
