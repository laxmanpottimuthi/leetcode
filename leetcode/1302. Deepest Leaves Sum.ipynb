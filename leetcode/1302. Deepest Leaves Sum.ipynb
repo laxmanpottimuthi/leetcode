{
 "cells": [
  {
   "cell_type": "code",
   "execution_count": 1,
   "metadata": {},
   "outputs": [],
   "source": [
    "from collections import deque"
   ]
  },
  {
   "cell_type": "code",
   "execution_count": 2,
   "metadata": {},
   "outputs": [],
   "source": [
    "# Definition for a binary tree node.\n",
    "class TreeNode:\n",
    "    def __init__(self, val=0, left=None, right=None):\n",
    "        self.val = val\n",
    "        self.left = left\n",
    "        self.right = right\n",
    "class Solution:\n",
    "    def deepestLeavesSum(self, root: TreeNode) -> int:\n",
    "        if not root:\n",
    "            return 0\n",
    "        \n",
    "        depth = self.findDepth(root)\n",
    "        sumLevel = self.sumOfNodesAtDepth(root,depth)\n",
    "        return sumLevel\n",
    "        \n",
    "        \n",
    "    def sumOfNodesAtDepth(self,root, level):\n",
    "        sumLevel = 0\n",
    "        queue = deque([(root,0)])\n",
    "        while queue:\n",
    "            node,depth = queue.popleft()\n",
    "            if depth == level:\n",
    "                sumLevel += node.val\n",
    "            if node.left:\n",
    "                queue.append((node.left,depth+1))\n",
    "            if node.right:\n",
    "                queue.append((node.right,depth+1))\n",
    "                \n",
    "        return sumLevel\n",
    "        \n",
    "    def findDepth(self,root):\n",
    "        queue = deque([(root,0)])\n",
    "        while queue:\n",
    "            node,depth = queue.popleft()\n",
    "            \n",
    "            if node.left:\n",
    "                queue.append((node.left,depth+1))\n",
    "            if node.right:\n",
    "                queue.append((node.right,depth+1))\n",
    "                \n",
    "        return depth\n",
    "                "
   ]
  },
  {
   "cell_type": "code",
   "execution_count": 3,
   "metadata": {},
   "outputs": [],
   "source": [
    "class Solution:\n",
    "    def deepestLeavesSum(self, root: TreeNode) -> int:\n",
    "        if not root:\n",
    "            return 0\n",
    "        sumLevel = maxDepth = 0\n",
    "        queue = deque([(root,0)])\n",
    "        while queue:\n",
    "            node,depth = queue.popleft()\n",
    "            if node.left is None and node.right is None:\n",
    "                if depth > maxDepth:\n",
    "                    sumLevel = node.val\n",
    "                    maxDepth = depth\n",
    "                elif depth == maxDepth:\n",
    "                    sumLevel += node.val\n",
    "            else:\n",
    "                if node.left:\n",
    "                    queue.append((node.left,depth+1))\n",
    "                if node.right:\n",
    "                    queue.append((node.right,depth+1))\n",
    "                \n",
    "        return sumLevel"
   ]
  },
  {
   "cell_type": "code",
   "execution_count": null,
   "metadata": {},
   "outputs": [],
   "source": [
    "class Solution:\n",
    "    def deepestLeavesSum(self, root: TreeNode) -> int:\n",
    "        level = [root]\n",
    "        \n",
    "        while level:\n",
    "            next_level = []\n",
    "            for node in level:\n",
    "                if node.left:\n",
    "                    next_level.append(node.left)\n",
    "                if node.right:\n",
    "                    next_level.append(node.right)\n",
    "            if next_level:\n",
    "                level = next_level\n",
    "            else:\n",
    "                return sum([node.val for node in level])"
   ]
  }
 ],
 "metadata": {
  "kernelspec": {
   "display_name": "Python 3",
   "language": "python",
   "name": "python3"
  },
  "language_info": {
   "codemirror_mode": {
    "name": "ipython",
    "version": 3
   },
   "file_extension": ".py",
   "mimetype": "text/x-python",
   "name": "python",
   "nbconvert_exporter": "python",
   "pygments_lexer": "ipython3",
   "version": "3.8.5"
  }
 },
 "nbformat": 4,
 "nbformat_minor": 4
}
