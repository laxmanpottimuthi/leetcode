{
 "cells": [
  {
   "cell_type": "code",
   "execution_count": 1,
   "metadata": {},
   "outputs": [],
   "source": [
    "from typing import List\n",
    "from collections import deque,defaultdict"
   ]
  },
  {
   "cell_type": "code",
   "execution_count": 2,
   "metadata": {},
   "outputs": [],
   "source": [
    "# Definition for a binary tree node.\n",
    "\n",
    "class TreeNode:\n",
    "    def __init__(self, val=0, left=None, right=None):\n",
    "        self.val = val\n",
    "        self.left = left\n",
    "        self.right = right\n",
    "class Solution:\n",
    "    def averageOfLevels(self, root: TreeNode) -> List[float]:\n",
    "        if not root:\n",
    "            return []\n",
    "        levelMap = defaultdict(list)\n",
    "        elementsLevel = deque([(root,1)])\n",
    "        elementsLevel\n",
    "        level = 0\n",
    "        while elementsLevel:\n",
    "            node, level = elementsLevel.popleft()            \n",
    "            levelMap[level].append(node.val)\n",
    "            if node.left:\n",
    "                elementsLevel.append((node.left,level+1))\n",
    "            if node.right:\n",
    "                elementsLevel.append((node.right,level+1))\n",
    "        \n",
    "        return [ sum(levelMap[i])/len(levelMap[i])  for i in levelMap.keys()]"
   ]
  },
  {
   "cell_type": "code",
   "execution_count": 3,
   "metadata": {},
   "outputs": [],
   "source": [
    " root  = TreeNode(3, TreeNode(9, TreeNode(15,None, None), TreeNode(7,None,None)), TreeNode(20,None,None))"
   ]
  },
  {
   "cell_type": "code",
   "execution_count": 4,
   "metadata": {},
   "outputs": [
    {
     "data": {
      "text/plain": [
       "True"
      ]
     },
     "execution_count": 4,
     "metadata": {},
     "output_type": "execute_result"
    }
   ],
   "source": [
    "sol = Solution()\n",
    "sol.averageOfLevels(root) == [3.0, 14.5, 11.0]"
   ]
  },
  {
   "cell_type": "code",
   "execution_count": 5,
   "metadata": {},
   "outputs": [],
   "source": [
    "class TreeNode:\n",
    "    def __init__(self, val=0, left=None, right=None):\n",
    "        self.val = val\n",
    "        self.left = left\n",
    "        self.right = right\n",
    "class Solution:\n",
    "    def averageOfLevels(self, root: TreeNode) -> List[float]:\n",
    "        if not root:\n",
    "            return []\n",
    "        level = (root,)\n",
    "        res = []\n",
    "        while level:          \n",
    "            res.append(sum(node.val for node in level) / len(level))\n",
    "            level = tuple(childNode for parentNode in level for childNode in (parentNode.left,parentNode.right) if childNode)\n",
    "        return res\n",
    "        "
   ]
  },
  {
   "cell_type": "code",
   "execution_count": 6,
   "metadata": {},
   "outputs": [
    {
     "data": {
      "text/plain": [
       "True"
      ]
     },
     "execution_count": 6,
     "metadata": {},
     "output_type": "execute_result"
    }
   ],
   "source": [
    "root  = TreeNode(3, TreeNode(9, TreeNode(15,None, None), TreeNode(7,None,None)), TreeNode(20,None,None))\n",
    "sol = Solution()    \n",
    "sol.averageOfLevels(root) == [3.0, 14.5, 11.0]"
   ]
  },
  {
   "cell_type": "code",
   "execution_count": null,
   "metadata": {},
   "outputs": [],
   "source": []
  }
 ],
 "metadata": {
  "kernelspec": {
   "display_name": "Python 3",
   "language": "python",
   "name": "python3"
  },
  "language_info": {
   "codemirror_mode": {
    "name": "ipython",
    "version": 3
   },
   "file_extension": ".py",
   "mimetype": "text/x-python",
   "name": "python",
   "nbconvert_exporter": "python",
   "pygments_lexer": "ipython3",
   "version": "3.8.5"
  }
 },
 "nbformat": 4,
 "nbformat_minor": 4
}
