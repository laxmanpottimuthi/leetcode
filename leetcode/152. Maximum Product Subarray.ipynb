{
 "cells": [
  {
   "cell_type": "code",
   "execution_count": null,
   "metadata": {},
   "outputs": [],
   "source": [
    "from typing import List\n",
    "class Solution:\n",
    "    def maxProduct(self, nums: List[int]) -> int:\n",
    "        if not nums:\n",
    "            return 0\n",
    "        localMax = localMin = globalMax = nums[0]\n",
    "        \n",
    "        for i in range(1,len(nums)):\n",
    "            currNum = nums[i]\n",
    "            localMax, localMin = max(currNum, currNum*localMax, currNum*localMin), min(currNum, currNum*localMax, currNum*localMin)\n",
    "            \n",
    "            globalMax = max(globalMax, localMax)\n",
    "        return globalMax\n",
    "            \n",
    "        "
   ]
  }
 ],
 "metadata": {
  "kernelspec": {
   "display_name": "Python 3",
   "language": "python",
   "name": "python3"
  },
  "language_info": {
   "codemirror_mode": {
    "name": "ipython",
    "version": 3
   },
   "file_extension": ".py",
   "mimetype": "text/x-python",
   "name": "python",
   "nbconvert_exporter": "python",
   "pygments_lexer": "ipython3",
   "version": "3.8.5"
  }
 },
 "nbformat": 4,
 "nbformat_minor": 4
}
