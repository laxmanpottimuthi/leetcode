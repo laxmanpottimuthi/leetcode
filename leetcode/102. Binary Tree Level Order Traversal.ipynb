{
 "cells": [
  {
   "cell_type": "code",
   "execution_count": 3,
   "metadata": {},
   "outputs": [],
   "source": [
    "# Definition for a binary tree node.\n",
    "from typing import List\n",
    "class TreeNode:\n",
    "    def __init__(self, val=0, left=None, right=None):\n",
    "        self.val = val\n",
    "        self.left = left\n",
    "        self.right = right\n",
    "class Solution:\n",
    "    def levelOrder(self, root: TreeNode) -> List[List[int]]:\n",
    "        from collections import deque\n",
    "        if not root:\n",
    "            return []\n",
    "        queue = deque([root])\n",
    "        levelOrder = []\n",
    "        while queue:\n",
    "            levelElements = []\n",
    "            for _ in range(len(queue)):\n",
    "                head = queue.popleft()\n",
    "                if head:\n",
    "                    queue.append(head.left)\n",
    "                    queue.append(head.right)\n",
    "                    levelElements.append(head.val)\n",
    "            if levelElements != []:\n",
    "                levelOrder.append(levelElements)\n",
    "\n",
    "        return levelOrder\n",
    "    \n",
    "    "
   ]
  },
  {
   "cell_type": "code",
   "execution_count": null,
   "metadata": {},
   "outputs": [],
   "source": []
  }
 ],
 "metadata": {
  "kernelspec": {
   "display_name": "Python 3",
   "language": "python",
   "name": "python3"
  },
  "language_info": {
   "codemirror_mode": {
    "name": "ipython",
    "version": 3
   },
   "file_extension": ".py",
   "mimetype": "text/x-python",
   "name": "python",
   "nbconvert_exporter": "python",
   "pygments_lexer": "ipython3",
   "version": "3.7.3"
  }
 },
 "nbformat": 4,
 "nbformat_minor": 4
}
