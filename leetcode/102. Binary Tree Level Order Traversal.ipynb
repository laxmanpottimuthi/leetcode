{
 "cells": [
  {
   "cell_type": "code",
   "execution_count": 3,
   "metadata": {},
   "outputs": [],
   "source": [
    "# Definition for a binary tree node.\n",
    "from typing import List\n",
    "class TreeNode:\n",
    "    def __init__(self, val=0, left=None, right=None):\n",
    "        self.val = val\n",
    "        self.left = left\n",
    "        self.right = right\n",
    "class Solution:\n",
    "    def levelOrder(self, root: TreeNode) -> List[List[int]]:\n",
    "        from collections import deque\n",
    "        if not root:\n",
    "            return []\n",
    "        queue = deque([root])\n",
    "        levelOrder = []\n",
    "        while queue:\n",
    "            levelElements = []\n",
    "            for _ in range(len(queue)):\n",
    "                head = queue.popleft()\n",
    "                if head:\n",
    "                    queue.append(head.left)\n",
    "                    queue.append(head.right)\n",
    "                    levelElements.append(head.val)\n",
    "            if levelElements != []:\n",
    "                levelOrder.append(levelElements)\n",
    "\n",
    "        return levelOrder\n",
    "    \n",
    "    "
   ]
  },
  {
   "cell_type": "code",
   "execution_count": 6,
   "metadata": {},
   "outputs": [],
   "source": [
    "from typing import List\n",
    "from collections import deque,defaultdict\n",
    "class TreeNode:\n",
    "    def __init__(self, val=0, left=None, right=None):\n",
    "        self.val = val\n",
    "        self.left = left\n",
    "        self.right = right\n",
    "class Solution:\n",
    "    def levelOrder(self, root: TreeNode) -> List[List[int]]:\n",
    "        if not root:\n",
    "            return []\n",
    "        levelElements = deque([(root,1)])\n",
    "        levels = defaultdict(list)\n",
    "        level = 0\n",
    "        while levelElements:\n",
    "            node, level = levelElements.popleft()\n",
    "            levels[level].append(node.val)\n",
    "            if node.left:\n",
    "                levelElements.append((node.left,level+1))\n",
    "            if node.right:\n",
    "                levelElements.append((node.right,level+1))\n",
    "        return [levels[level] for level in levels.keys()]\n",
    "            \n",
    "        "
   ]
  },
  {
   "cell_type": "code",
   "execution_count": 7,
   "metadata": {},
   "outputs": [
    {
     "data": {
      "text/plain": [
       "[[<__main__.TreeNode at 0x10a8efc10>],\n",
       " [<__main__.TreeNode at 0x10a8ef910>, <__main__.TreeNode at 0x10a8efca0>],\n",
       " [<__main__.TreeNode at 0x10a8ef310>, <__main__.TreeNode at 0x10a8ef700>]]"
      ]
     },
     "execution_count": 7,
     "metadata": {},
     "output_type": "execute_result"
    }
   ],
   "source": [
    "sol = Solution()\n",
    "root  = TreeNode(3, TreeNode(9, TreeNode(15,None, None), TreeNode(7,None,None)), TreeNode(20,None,None))\n",
    "sol.levelOrder(root)"
   ]
  },
  {
   "cell_type": "code",
   "execution_count": null,
   "metadata": {},
   "outputs": [],
   "source": []
  }
 ],
 "metadata": {
  "kernelspec": {
   "display_name": "Python 3",
   "language": "python",
   "name": "python3"
  },
  "language_info": {
   "codemirror_mode": {
    "name": "ipython",
    "version": 3
   },
   "file_extension": ".py",
   "mimetype": "text/x-python",
   "name": "python",
   "nbconvert_exporter": "python",
   "pygments_lexer": "ipython3",
   "version": "3.8.5"
  }
 },
 "nbformat": 4,
 "nbformat_minor": 4
}
