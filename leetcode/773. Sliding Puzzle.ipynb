{
 "cells": [
  {
   "cell_type": "code",
   "execution_count": 1,
   "metadata": {},
   "outputs": [
    {
     "data": {
      "text/plain": [
       "14"
      ]
     },
     "execution_count": 1,
     "metadata": {},
     "output_type": "execute_result"
    }
   ],
   "source": [
    "from typing import List\n",
    "from collections import deque\n",
    "class Solution:\n",
    "    def slidingPuzzle(self, board: List[List[int]]) -> int:\n",
    "        m = len(board)\n",
    "        n = len(board[0])\n",
    "        maxNumber = m*n -1\n",
    "        target = tuple([i for i in range(1, maxNumber+1)] + [0])\n",
    "        board = tuple([board[i][j] for i in range(m) for j in range(n)])\n",
    "        \n",
    "        visitedState = {board}\n",
    "        swapDirections = [-1,1,-n,n]\n",
    "        queue = deque([(board, board.index(0),0 )])\n",
    "        \n",
    "        while queue:\n",
    "            board, zeroInd, moves = queue.popleft()\n",
    "            if board == target: return moves\n",
    "        \n",
    "            for i in swapDirections:\n",
    "                \n",
    "                newDir = zeroInd+i\n",
    "                if newDir//n != zeroInd//n and newDir%n != zeroInd%n:\n",
    "                    continue\n",
    "\n",
    "                if 0 <= newDir <= m*n-1:\n",
    "                    newBoard = list(board)\n",
    "                    newBoard[zeroInd], newBoard[newDir] = newBoard[newDir], newBoard[zeroInd]\n",
    "                    newBoard = tuple(newBoard)\n",
    "                    if newBoard not in visitedState:\n",
    "                        visitedState.add(newBoard)\n",
    "                        queue.append((newBoard, newDir, moves+1))\n",
    "        return -1\n",
    "        \n",
    "sol = Solution()\n",
    "sol.slidingPuzzle([[3,2,4],[1,5,0]])        "
   ]
  },
  {
   "cell_type": "code",
   "execution_count": null,
   "metadata": {},
   "outputs": [],
   "source": []
  },
  {
   "cell_type": "code",
   "execution_count": 2,
   "metadata": {},
   "outputs": [
    {
     "name": "stdout",
     "output_type": "stream",
     "text": [
      "14\n"
     ]
    }
   ],
   "source": [
    "from queue import Queue\n",
    "\n",
    "class Solution:\n",
    "    def __init__(self):\n",
    "        self.directions = [[1,0], [0,1], [-1,0], [0,-1]]\n",
    "        self.end_state = [[1,2,3],[4,5,0]]\n",
    "    \n",
    "    \n",
    "    def get_state(self, grid):\n",
    "        return (tuple(grid[0]), tuple(grid[1]))\n",
    "    \n",
    "    \n",
    "    def bfs(self, row, col, grid):\n",
    "        q = Queue()\n",
    "        q.put((row, col, grid, 0))\n",
    "        visited = set([])\n",
    "        visited.add(self.get_state(grid))\n",
    "        while not q.empty():\n",
    "            i, j, curr_grid, dist = q.get()\n",
    "            if curr_grid == self.end_state: \n",
    "                return dist\n",
    "            for di, dj in self.directions:\n",
    "                if 0 <= i + di < len(curr_grid) and 0 <= j + dj < len(curr_grid[0]):\n",
    "                    cand_grid = [list(line) for line in curr_grid]\n",
    "                    cand_grid[i + di][j + dj], cand_grid[i][j] = cand_grid[i][j], cand_grid[i + di][j + dj]\n",
    "                    if self.get_state(cand_grid) in visited: continue\n",
    "                    q.put((i + di, j + dj, cand_grid, dist + 1))\n",
    "                    visited.add(self.get_state(cand_grid))\n",
    "        return -1\n",
    "        \n",
    "    \n",
    "    def find_min_moves(self, grid):\n",
    "        for i in range(len(grid)):\n",
    "            for j in range(len(grid[0])):\n",
    "                if grid[i][j] == 0:\n",
    "                    start_point = (i, j)\n",
    "                    break\n",
    "        return self.bfs(start_point[0], start_point[1], grid)\n",
    "\n",
    "# if __name__==\"__main__\":\n",
    "sol_object = Solution()\n",
    "grid = [[3,2,4],[1,5,0]]\n",
    "print(sol_object.find_min_moves(grid))\n",
    "        \n"
   ]
  },
  {
   "cell_type": "code",
   "execution_count": null,
   "metadata": {},
   "outputs": [],
   "source": []
  }
 ],
 "metadata": {
  "kernelspec": {
   "display_name": "Python 3",
   "language": "python",
   "name": "python3"
  },
  "language_info": {
   "codemirror_mode": {
    "name": "ipython",
    "version": 3
   },
   "file_extension": ".py",
   "mimetype": "text/x-python",
   "name": "python",
   "nbconvert_exporter": "python",
   "pygments_lexer": "ipython3",
   "version": "3.8.5"
  }
 },
 "nbformat": 4,
 "nbformat_minor": 4
}
