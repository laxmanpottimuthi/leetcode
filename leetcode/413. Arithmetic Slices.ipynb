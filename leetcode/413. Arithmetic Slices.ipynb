{
 "cells": [
  {
   "cell_type": "code",
   "execution_count": 1,
   "metadata": {},
   "outputs": [],
   "source": [
    "#Using formula\n",
    "from typing import List \n",
    "class Solution:\n",
    "    def numberOfArithmeticSlices(self, A: List[int]) -> int:\n",
    "        \n",
    "        if (lenA := len(A)) < 3:\n",
    "            return 0\n",
    "        \"\"\"\n",
    "        res: result \n",
    "        subSequenceCount: sub sequence which is arthmetic. It get reset once the arthmetic breaks\n",
    "        \"\"\"\n",
    "        res,subSequenceCount = 0,0\n",
    "        \n",
    "        for i in range(2,lenA):\n",
    "            if (A[i-1]-A[i-2]) == (A[i]-A[i-1]):\n",
    "                subSequenceCount += 1\n",
    "            else:\n",
    "                res += (subSequenceCount+1)*(subSequenceCount/2)\n",
    "                subSequenceCount = 0\n",
    "        res += (subSequenceCount+1)*(subSequenceCount/2)\n",
    "        return res\n",
    "            \n",
    "            \n",
    "        "
   ]
  },
  {
   "cell_type": "code",
   "execution_count": null,
   "metadata": {},
   "outputs": [],
   "source": [
    "#Using DP\n",
    "from typing import List \n",
    "class Solution:\n",
    "    def numberOfArithmeticSlices(self, A: List[int]) -> int:\n",
    "        "
   ]
  }
 ],
 "metadata": {
  "kernelspec": {
   "display_name": "Python 3",
   "language": "python",
   "name": "python3"
  },
  "language_info": {
   "codemirror_mode": {
    "name": "ipython",
    "version": 3
   },
   "file_extension": ".py",
   "mimetype": "text/x-python",
   "name": "python",
   "nbconvert_exporter": "python",
   "pygments_lexer": "ipython3",
   "version": "3.8.5"
  }
 },
 "nbformat": 4,
 "nbformat_minor": 4
}
