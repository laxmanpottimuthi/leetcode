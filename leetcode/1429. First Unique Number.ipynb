{
 "cells": [
  {
   "cell_type": "code",
   "execution_count": 1,
   "metadata": {},
   "outputs": [],
   "source": [
    "from typing import List\n",
    "from collections import OrderedDict"
   ]
  },
  {
   "cell_type": "code",
   "execution_count": 2,
   "metadata": {},
   "outputs": [],
   "source": [
    "class FirstUnique:\n",
    "\n",
    "    def __init__(self, nums: List[int]):\n",
    "        self.queue = OrderedDict()\n",
    "        self.uniqueSet = {}\n",
    "        for num in nums:\n",
    "            self.add(num)\n",
    "\n",
    "    def showFirstUnique(self) -> int:\n",
    "        if self.queue:\n",
    "            return next(iter(self.queue))\n",
    "        return -1\n",
    "        \n",
    "\n",
    "    def add(self, value: int) -> None:\n",
    "        \n",
    "        if value not in self.uniqueSet:\n",
    "            self.uniqueSet[value] = True\n",
    "            self.queue[value] = None\n",
    "        elif self.uniqueSet[value]:\n",
    "            self.queue.pop(value)\n",
    "            self.uniqueSet[value] = False\n",
    "\n",
    "\n",
    "# Your FirstUnique object will be instantiated and called as such:\n",
    "# obj = FirstUnique(nums)\n",
    "# param_1 = obj.showFirstUnique()\n",
    "# obj.add(value)"
   ]
  },
  {
   "cell_type": "code",
   "execution_count": null,
   "metadata": {},
   "outputs": [],
   "source": []
  }
 ],
 "metadata": {
  "kernelspec": {
   "display_name": "Python 3",
   "language": "python",
   "name": "python3"
  },
  "language_info": {
   "codemirror_mode": {
    "name": "ipython",
    "version": 3
   },
   "file_extension": ".py",
   "mimetype": "text/x-python",
   "name": "python",
   "nbconvert_exporter": "python",
   "pygments_lexer": "ipython3",
   "version": "3.8.5"
  }
 },
 "nbformat": 4,
 "nbformat_minor": 4
}
