{
 "cells": [
  {
   "cell_type": "code",
   "execution_count": 1,
   "metadata": {},
   "outputs": [],
   "source": [
    "from typing import List\n",
    "class Solution:\n",
    "    def canFormArray(self, arr: List[int], pieces: List[List[int]]) -> bool:\n",
    "        if len(pieces) == 1:\n",
    "            return arr == pieces[0]\n",
    "        if len(pieces) == 0 and len(arr):\n",
    "            return True\n",
    "        if len(pieces) == 0 and len(arr) != 0:\n",
    "            return False\n",
    "        \n",
    "        count = len(arr)\n",
    "        for piece in pieces:\n",
    "            if piece[0] not in arr:\n",
    "                return False\n",
    "            else:\n",
    "                arrInd = arr.index(piece[0])\n",
    "                subArr = arr[arrInd:arrInd+len(piece)]\n",
    "                if subArr != piece:\n",
    "                    return False\n",
    "                arr = arr[:arrInd] + [float('-inf')]*len(piece) + arr[arrInd+len(piece):]\n",
    "                count -= len(piece)\n",
    "        if count == 0:\n",
    "            return True\n",
    "        else:\n",
    "            return False"
   ]
  },
  {
   "cell_type": "code",
   "execution_count": 2,
   "metadata": {},
   "outputs": [],
   "source": [
    "from typing import List\n",
    "class Solution:\n",
    "    def canFormArray(self, arr: List[int], pieces: List[List[int]]) -> bool:\n",
    "        if len(pieces) == 1:\n",
    "            return arr == pieces[0]\n",
    "        if len(pieces) == 0 and len(arr):\n",
    "            return True\n",
    "        if len(pieces) == 0 and len(arr) != 0:\n",
    "            return False\n",
    "        \n",
    "        count = len(arr)\n",
    "        for piece in pieces:\n",
    "            if piece[0] not in arr:\n",
    "                return False\n",
    "            else:\n",
    "                arrInd = arr.index(piece[0])\n",
    "                subArr = arr[arrInd:arrInd+len(piece)]\n",
    "                if subArr != piece:\n",
    "                    return False\n",
    "                count -= len(piece)\n",
    "        if count == 0:\n",
    "            return True\n",
    "        else:\n",
    "            return False"
   ]
  },
  {
   "cell_type": "code",
   "execution_count": 3,
   "metadata": {},
   "outputs": [
    {
     "name": "stdout",
     "output_type": "stream",
     "text": [
      "sol True\n",
      "sol True\n",
      "Sol True\n",
      "sol True\n",
      "sol True\n"
     ]
    }
   ],
   "source": [
    "sol = Solution()\n",
    "\n",
    "arr,pieces = [15,88], [[88],[15]]\n",
    "print(\"sol\", sol.canFormArray(arr,pieces) == True)\n",
    "\n",
    "arr = [85]\n",
    "pieces = [[85]]\n",
    "print(\"sol\", sol.canFormArray(arr,pieces) == True)\n",
    "\n",
    "\n",
    "arr = [49,18,16]\n",
    "pieces = [[16,18,49]]\n",
    "print(\"Sol\",sol.canFormArray(arr,pieces) == False)\n",
    "\n",
    "arr = [2,82,79,95,28]\n",
    "pieces = [[2],[82],[28],[79,95]]\n",
    "print(\"sol\",sol.canFormArray(arr,pieces) == True)\n",
    "\n",
    "arr = [1,2,3]\n",
    "pieces = [[2],[1,3]]\n",
    "print(\"sol\",sol.canFormArray(arr,pieces) == False)"
   ]
  },
  {
   "cell_type": "code",
   "execution_count": null,
   "metadata": {},
   "outputs": [],
   "source": []
  }
 ],
 "metadata": {
  "kernelspec": {
   "display_name": "Python 3",
   "language": "python",
   "name": "python3"
  },
  "language_info": {
   "codemirror_mode": {
    "name": "ipython",
    "version": 3
   },
   "file_extension": ".py",
   "mimetype": "text/x-python",
   "name": "python",
   "nbconvert_exporter": "python",
   "pygments_lexer": "ipython3",
   "version": "3.8.5"
  }
 },
 "nbformat": 4,
 "nbformat_minor": 4
}
