{
 "cells": [
  {
   "cell_type": "code",
   "execution_count": 1,
   "metadata": {},
   "outputs": [],
   "source": [
    "from typing import List\n",
    "class Solution:\n",
    "    def findLongestWord(self, s: str, d: List[str]) -> str:\n",
    "        maxStr = \"\"\n",
    "        lenS = len(s)\n",
    "        for subD in d:\n",
    "            sPtr,subDPtr = 0,0\n",
    "            \n",
    "            while subDPtr < len(subD) and sPtr < lenS :\n",
    "                if subD[subDPtr] == s[sPtr]:\n",
    "                    subDPtr += 1\n",
    "                sPtr += 1\n",
    "            if subDPtr == len(subD):\n",
    "                maxStr = maxStr if len(maxStr) > len(subD) else subD\n",
    "                if len(subD) == len(maxStr):\n",
    "                    maxStr = max(maxStr,subD)\n",
    "                \n",
    "        return maxStr"
   ]
  },
  {
   "cell_type": "code",
   "execution_count": 2,
   "metadata": {},
   "outputs": [
    {
     "data": {
      "text/plain": [
       "'apple'"
      ]
     },
     "execution_count": 2,
     "metadata": {},
     "output_type": "execute_result"
    }
   ],
   "source": [
    "s = \"abpcplea\"\n",
    "d = [\"ale\",\"monkey\",\"plea\",\"apple\"]\n",
    "sol =Solution()\n",
    "sol.findLongestWord(s,d)\n"
   ]
  }
 ],
 "metadata": {
  "kernelspec": {
   "display_name": "Python 3",
   "language": "python",
   "name": "python3"
  },
  "language_info": {
   "codemirror_mode": {
    "name": "ipython",
    "version": 3
   },
   "file_extension": ".py",
   "mimetype": "text/x-python",
   "name": "python",
   "nbconvert_exporter": "python",
   "pygments_lexer": "ipython3",
   "version": "3.8.5"
  }
 },
 "nbformat": 4,
 "nbformat_minor": 4
}
