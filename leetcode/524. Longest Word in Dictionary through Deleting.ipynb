{
 "cells": [
  {
   "cell_type": "code",
   "execution_count": 1,
   "metadata": {},
   "outputs": [],
   "source": [
    "from typing import List\n",
    "class Solution:\n",
    "    def findLongestWord(self, s: str, d: List[str]) -> str:\n",
    "        maxStr = \"\"\n",
    "        lenS = len(s)\n",
    "        for subD in d:\n",
    "            sPtr,subDPtr = 0,0\n",
    "            \n",
    "            while subDPtr < len(subD) and sPtr < lenS :\n",
    "                if subD[subDPtr] == s[sPtr]:\n",
    "                    subDPtr += 1\n",
    "                sPtr += 1\n",
    "            if subDPtr == len(subD):\n",
    "                if len(maxStr) < len(subD):\n",
    "                    maxStr = subD\n",
    "                elif len(maxStr) == len(subD):\n",
    "                    maxStr = min(maxStr, subD)\n",
    "                \n",
    "        return maxStr\n",
    "\"\"\" \n",
    "Sorting the list\n",
    "\"\"\"\n",
    "from typing import List\n",
    "class Solution:\n",
    "    def findLongestWord(self, s: str, d: List[str]) -> str:\n",
    "        maxStr = \"\"\n",
    "        lenS = len(s)\n",
    "        d = sorted([i for i in d if lenS >= len(i)])\n",
    "        for subD in d:\n",
    "            \n",
    "            sPtr,subDPtr = 0,0\n",
    "            \n",
    "            while subDPtr < len(subD) and sPtr < lenS :\n",
    "                if subD[subDPtr] == s[sPtr]:\n",
    "                    subDPtr += 1\n",
    "                sPtr += 1\n",
    "            if subDPtr == len(subD):\n",
    "                if len(maxStr) < len(subD):\n",
    "                    maxStr = subD\n",
    "                elif len(maxStr) == len(subD):\n",
    "                    maxStr = min(maxStr, subD)\n",
    "                \n",
    "        return maxStr"
   ]
  },
  {
   "cell_type": "code",
   "execution_count": null,
   "metadata": {},
   "outputs": [],
   "source": [
    "from typing import List\n",
    "class Solution:\n",
    "    def findLongestWord(self, s: str, d: List[str]) -> str:\n",
    "        maxStr = \"\"\n",
    "        lenS = len(s)\n",
    "        d.sort(key = lambda x: len(x),reverse = True)\n",
    "        for subD in d:\n",
    "            lenSubD = len(subD)\n",
    "            if lenSubD < len(maxStr):\n",
    "                return maxStr\n",
    "            if lenSubD > lenS :\n",
    "                continue\n",
    "            sPtr,subDPtr = 0,0\n",
    "            \n",
    "            while subDPtr < lenSubD and sPtr < lenS :\n",
    "                if (subDPtr == 0 and lenS - sPtr < lenSubD) :\n",
    "                    break\n",
    "                \n",
    "                if subD[subDPtr] == s[sPtr]:\n",
    "                    subDPtr += 1\n",
    "                sPtr += 1\n",
    "            if subDPtr == lenSubD:\n",
    "                if len(maxStr) < lenSubD:\n",
    "                    maxStr = subD\n",
    "                elif len(maxStr) == lenSubD:\n",
    "                    maxStr = min(maxStr, subD)\n",
    "                \n",
    "        return maxStr"
   ]
  },
  {
   "cell_type": "code",
   "execution_count": 3,
   "metadata": {},
   "outputs": [
    {
     "data": {
      "text/plain": [
       "'apple'"
      ]
     },
     "execution_count": 3,
     "metadata": {},
     "output_type": "execute_result"
    }
   ],
   "source": [
    "s = \"abpcplea\"\n",
    "d = [\"ale\",\"monkey\",\"plea\",\"apple\"]\n",
    "sol =Solution()\n",
    "sol.findLongestWord(s,d)\n"
   ]
  },
  {
   "cell_type": "code",
   "execution_count": 5,
   "metadata": {},
   "outputs": [
    {
     "ename": "ValueError",
     "evalue": "substring not found",
     "output_type": "error",
     "traceback": [
      "\u001b[0;31m---------------------------------------------------------------------------\u001b[0m",
      "\u001b[0;31mValueError\u001b[0m                                Traceback (most recent call last)",
      "\u001b[0;32m<ipython-input-5-87ffe42311cd>\u001b[0m in \u001b[0;36m<module>\u001b[0;34m\u001b[0m\n\u001b[1;32m      3\u001b[0m \u001b[0mw\u001b[0m \u001b[0;34m=\u001b[0m \u001b[0;34m\"abcdu\"\u001b[0m\u001b[0;34m\u001b[0m\u001b[0;34m\u001b[0m\u001b[0m\n\u001b[1;32m      4\u001b[0m \u001b[0;32mfor\u001b[0m \u001b[0mc\u001b[0m \u001b[0;32min\u001b[0m \u001b[0mw\u001b[0m\u001b[0;34m:\u001b[0m\u001b[0;34m\u001b[0m\u001b[0;34m\u001b[0m\u001b[0m\n\u001b[0;32m----> 5\u001b[0;31m     \u001b[0mpos\u001b[0m \u001b[0;34m=\u001b[0m \u001b[0ms\u001b[0m\u001b[0;34m.\u001b[0m\u001b[0mindex\u001b[0m\u001b[0;34m(\u001b[0m\u001b[0mc\u001b[0m\u001b[0;34m,\u001b[0m\u001b[0mpos\u001b[0m\u001b[0;34m+\u001b[0m\u001b[0;36m1\u001b[0m\u001b[0;34m)\u001b[0m\u001b[0;34m\u001b[0m\u001b[0;34m\u001b[0m\u001b[0m\n\u001b[0m",
      "\u001b[0;31mValueError\u001b[0m: substring not found"
     ]
    }
   ],
   "source": [
    "s = 'abecd'\n",
    "pos = -1\n",
    "w = \"abcdu\"\n",
    "for c in w:\n",
    "    pos = s.index(c,pos+1)"
   ]
  },
  {
   "cell_type": "code",
   "execution_count": null,
   "metadata": {},
   "outputs": [],
   "source": []
  }
 ],
 "metadata": {
  "kernelspec": {
   "display_name": "Python 3",
   "language": "python",
   "name": "python3"
  },
  "language_info": {
   "codemirror_mode": {
    "name": "ipython",
    "version": 3
   },
   "file_extension": ".py",
   "mimetype": "text/x-python",
   "name": "python",
   "nbconvert_exporter": "python",
   "pygments_lexer": "ipython3",
   "version": "3.8.5"
  }
 },
 "nbformat": 4,
 "nbformat_minor": 4
}
