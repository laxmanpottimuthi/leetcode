{
 "cells": [
  {
   "cell_type": "code",
   "execution_count": 2,
   "metadata": {},
   "outputs": [],
   "source": [
    "class Leaderboard:\n",
    "\n",
    "    def __init__(self):\n",
    "        self.scoreBoard = {}\n",
    "\n",
    "    def addScore(self, playerId: int, score: int) -> None:\n",
    "        self.scoreBoard[playerId] = self.scoreBoard.get(playerId,0) + score\n",
    "\n",
    "    def top(self, K: int) -> int:\n",
    "        \n",
    "        heap = []\n",
    "        for score in self.scoreBoard.values():\n",
    "            heapq.heappush(heap,score)\n",
    "            if len(heap) > K:\n",
    "                heapq.heappop(heap)\n",
    "        scoreSum = 0\n",
    "        while heap:\n",
    "            scoreSum += heapq.heappop(heap)\n",
    "        return scoreSum\n",
    "\n",
    "    def reset(self, playerId: int) -> None:\n",
    "        self.scoreBoard[playerId] = 0\n",
    "\n",
    "\n",
    "# Your Leaderboard object will be instantiated and called as such:\n",
    "# obj = Leaderboard()\n",
    "# obj.addScore(playerId,score)\n",
    "# param_2 = obj.top(K)\n",
    "# obj.reset(playerId)"
   ]
  },
  {
   "cell_type": "code",
   "execution_count": null,
   "metadata": {},
   "outputs": [],
   "source": []
  }
 ],
 "metadata": {
  "kernelspec": {
   "display_name": "Python 3",
   "language": "python",
   "name": "python3"
  },
  "language_info": {
   "codemirror_mode": {
    "name": "ipython",
    "version": 3
   },
   "file_extension": ".py",
   "mimetype": "text/x-python",
   "name": "python",
   "nbconvert_exporter": "python",
   "pygments_lexer": "ipython3",
   "version": "3.8.5"
  }
 },
 "nbformat": 4,
 "nbformat_minor": 4
}
