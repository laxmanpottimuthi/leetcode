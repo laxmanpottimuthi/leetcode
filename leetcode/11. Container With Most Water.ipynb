{
 "cells": [
  {
   "cell_type": "code",
   "execution_count": 18,
   "metadata": {},
   "outputs": [],
   "source": [
    "from typing import List\n",
    "class Solution:\n",
    "    def maxArea(self, height: List[int]) -> int:\n",
    "        lenArr = len(height)\n",
    "        \n",
    "        head = 0\n",
    "        tail = len(height) - 1\n",
    "        maxArea = 0\n",
    "        while head < tail:\n",
    "            if height[tail] < height[head]:\n",
    "                carryHeight = height[tail]\n",
    "                tail -= 1\n",
    "            else:\n",
    "                carryHeight = height[head]\n",
    "                head += 1\n",
    "            currArea = abs((tail-head+1) * carryHeight)\n",
    "            maxArea = max(currArea,maxArea)\n",
    "        return maxArea\n",
    "        "
   ]
  },
  {
   "cell_type": "code",
   "execution_count": 19,
   "metadata": {},
   "outputs": [
    {
     "data": {
      "text/plain": [
       "1"
      ]
     },
     "execution_count": 19,
     "metadata": {},
     "output_type": "execute_result"
    }
   ],
   "source": [
    "sol = Solution()\n",
    "# height = [1,8,6,2,5,4,8,3,7]\n",
    "# height = [4,3,2,1,4]\n",
    "height = [1,1]\n",
    "sol.maxArea(height)"
   ]
  },
  {
   "cell_type": "code",
   "execution_count": null,
   "metadata": {},
   "outputs": [],
   "source": []
  }
 ],
 "metadata": {
  "kernelspec": {
   "display_name": "Python 3",
   "language": "python",
   "name": "python3"
  },
  "language_info": {
   "codemirror_mode": {
    "name": "ipython",
    "version": 3
   },
   "file_extension": ".py",
   "mimetype": "text/x-python",
   "name": "python",
   "nbconvert_exporter": "python",
   "pygments_lexer": "ipython3",
   "version": "3.8.5"
  }
 },
 "nbformat": 4,
 "nbformat_minor": 4
}
