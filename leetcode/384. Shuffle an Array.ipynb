{
 "cells": [
  {
   "cell_type": "code",
   "execution_count": 12,
   "metadata": {},
   "outputs": [],
   "source": [
    "from typing import List\n",
    "from random import randrange\n",
    "class Solution:\n",
    "\n",
    "    def __init__(self, nums: List[int]):\n",
    "        self.nums = nums\n",
    "        self.old = self.nums.copy()\n",
    "\n",
    "    def reset(self) -> List[int]:\n",
    "        \"\"\"\n",
    "        Resets the array to its original configuration and return it.\n",
    "        \"\"\"\n",
    "        self.nums = self.old\n",
    "        self.old = self.old.copy()\n",
    "        return self.nums\n",
    "        \n",
    "\n",
    "    def shuffle(self) -> List[int]:\n",
    "        \"\"\"\n",
    "        Returns a random shuffling of the array.\n",
    "        \"\"\"\n",
    "        aux = list(self.nums)\n",
    "        for idx in range(len(self.nums)):\n",
    "            remove_idx = random.randrange(len(aux))\n",
    "            self.nums[idx] = aux.pop(remove_idx)\n",
    "\n",
    "        return self.nums\n",
    "    \n",
    "    def shuffleFisherYates(self) -> List[int]:\n",
    "        \"\"\"\n",
    "        Does not use extra space.\n",
    "        \"\"\"\n",
    "        lenNums = len(self.nums)\n",
    "        for i in range(lenNums):\n",
    "            shuffleIndex = randrange(i,lenNums)\n",
    "            self.nums[i], self.nums[shuffleIndex] = self.nums[shuffleIndex], self.nums[i]\n",
    "        return self.nums\n",
    "\n",
    "\n",
    "# Your Solution object will be instantiated and called as such:\n",
    "# obj = Solution(nums)\n",
    "# param_1 = obj.reset()\n",
    "# param_2 = obj.shuffle()"
   ]
  },
  {
   "cell_type": "code",
   "execution_count": 13,
   "metadata": {},
   "outputs": [],
   "source": [
    "nums = [1,2,3]"
   ]
  },
  {
   "cell_type": "code",
   "execution_count": 14,
   "metadata": {},
   "outputs": [],
   "source": [
    "obj = Solution(nums)\n",
    "param_1 = obj.reset()\n",
    "param_2 = obj.shuffle()"
   ]
  },
  {
   "cell_type": "code",
   "execution_count": null,
   "metadata": {},
   "outputs": [],
   "source": []
  }
 ],
 "metadata": {
  "kernelspec": {
   "display_name": "Python 3",
   "language": "python",
   "name": "python3"
  },
  "language_info": {
   "codemirror_mode": {
    "name": "ipython",
    "version": 3
   },
   "file_extension": ".py",
   "mimetype": "text/x-python",
   "name": "python",
   "nbconvert_exporter": "python",
   "pygments_lexer": "ipython3",
   "version": "3.7.3"
  }
 },
 "nbformat": 4,
 "nbformat_minor": 4
}
