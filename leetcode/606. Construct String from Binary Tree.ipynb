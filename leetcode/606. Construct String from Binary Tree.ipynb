{
 "cells": [
  {
   "cell_type": "code",
   "execution_count": 1,
   "metadata": {},
   "outputs": [],
   "source": [
    "# Definition for a binary tree node.\n",
    "class TreeNode:\n",
    "    def __init__(self, val=0, left=None, right=None):\n",
    "        self.val = val\n",
    "        self.left = left\n",
    "        self.right = right\n",
    "node = TreeNode(val= 1, \n",
    "                left= TreeNode(val= 2, \n",
    "                               left= TreeNode(val= 4, \n",
    "                                              left= None, \n",
    "                                              right= None), \n",
    "                               right= None), \n",
    "                right= TreeNode(val= 3, \n",
    "                                left= None, \n",
    "                                right= None))\n"
   ]
  },
  {
   "cell_type": "code",
   "execution_count": null,
   "metadata": {},
   "outputs": [],
   "source": []
  },
  {
   "cell_type": "code",
   "execution_count": 2,
   "metadata": {},
   "outputs": [],
   "source": [
    "class Solution:\n",
    "    def tree2str(self, t: TreeNode) -> str:\n",
    "        if not t:\n",
    "            return \"\"\n",
    "        res = \"\"\n",
    "        stack = []\n",
    "        stack.append(t)\n",
    "        while stack:\n",
    "            node = stack.pop()\n",
    "            if not res:\n",
    "                tempRes = \"\" + str(node.val)\n",
    "\n",
    "            if node.left:\n",
    "                tempRes += \"(\" + self.tree2str(node.left) + \")\"\n",
    "            else:\n",
    "                if node.right:\n",
    "                    tempRes += \"()\"\n",
    "            if node.right:\n",
    "                tempRes += \"(\"+ self.tree2str(node.right) + \")\"\n",
    "\n",
    "            res += tempRes\n",
    "        return res"
   ]
  },
  {
   "cell_type": "code",
   "execution_count": 3,
   "metadata": {},
   "outputs": [
    {
     "data": {
      "text/plain": [
       "'1(2(4))(3)'"
      ]
     },
     "execution_count": 3,
     "metadata": {},
     "output_type": "execute_result"
    }
   ],
   "source": [
    "sol = Solution()\n",
    "sol.tree2str(node)"
   ]
  },
  {
   "cell_type": "code",
   "execution_count": null,
   "metadata": {},
   "outputs": [],
   "source": []
  }
 ],
 "metadata": {
  "kernelspec": {
   "display_name": "Python 3",
   "language": "python",
   "name": "python3"
  },
  "language_info": {
   "codemirror_mode": {
    "name": "ipython",
    "version": 3
   },
   "file_extension": ".py",
   "mimetype": "text/x-python",
   "name": "python",
   "nbconvert_exporter": "python",
   "pygments_lexer": "ipython3",
   "version": "3.8.5"
  }
 },
 "nbformat": 4,
 "nbformat_minor": 4
}
