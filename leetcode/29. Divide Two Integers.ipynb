{
 "cells": [
  {
   "cell_type": "code",
   "execution_count": null,
   "metadata": {},
   "outputs": [],
   "source": [
    "class Solution:\n",
    "    def divide(self, dividend: int, divisor: int) -> int:\n",
    "        d, div, count = abs(dividend), abs(divisor), 0\n",
    "        def check(d, div):\n",
    "            i, count, c = 0, 0, 0\n",
    "            while d >= div:\n",
    "                if i == 0:\n",
    "                    count = 1\n",
    "                d -= div\n",
    "                div += div\n",
    "                if i != 0 :\n",
    "                    count += count\n",
    "                c += count\n",
    "                i += 1\n",
    "            return d, c\n",
    "        while d >= abs(divisor):\n",
    "            d, c = check(d, div)\n",
    "            print(d, c)\n",
    "            count += c\n",
    "        if dividend < 0 or divisor < 0:\n",
    "            if not (dividend < 0 and divisor < 0):\n",
    "                sign = count + count\n",
    "                count = count - sign\n",
    "                \n",
    "        if -(2) ** 31 > count or count > 2 ** 31 - 1:\n",
    "            return 2 ** 31 - 1\n",
    "        return count"
   ]
  }
 ],
 "metadata": {
  "kernelspec": {
   "display_name": "Python 3",
   "language": "python",
   "name": "python3"
  },
  "language_info": {
   "codemirror_mode": {
    "name": "ipython",
    "version": 3
   },
   "file_extension": ".py",
   "mimetype": "text/x-python",
   "name": "python",
   "nbconvert_exporter": "python",
   "pygments_lexer": "ipython3",
   "version": "3.8.5"
  }
 },
 "nbformat": 4,
 "nbformat_minor": 4
}
