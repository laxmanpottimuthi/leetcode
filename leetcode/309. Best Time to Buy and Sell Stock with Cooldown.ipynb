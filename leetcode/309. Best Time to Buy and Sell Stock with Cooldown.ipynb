{
 "cells": [
  {
   "cell_type": "code",
   "execution_count": null,
   "metadata": {},
   "outputs": [],
   "source": [
    "class Solution:\n",
    "    def maxProfit(self, prices: List[int]) -> int:\n",
    "        numberOfDays = len(prices)\n",
    "        if numberOfDays < 2:\n",
    "            return 0\n",
    "        \n",
    "        pre_sold = 0 \n",
    "        sold = 0\n",
    "        bought = -prices[0]\n",
    "        \n",
    "        for day in range(1,numberOfDays):\n",
    "            sold_old = sold\n",
    "            sold = max(sold, bought+prices[day])\n",
    "            bought = max(bought, pre_sold-prices[day])\n",
    "            pre_sold = sold_old\n",
    "            \n",
    "        return sold"
   ]
  }
 ],
 "metadata": {
  "kernelspec": {
   "display_name": "Python 3",
   "language": "python",
   "name": "python3"
  },
  "language_info": {
   "codemirror_mode": {
    "name": "ipython",
    "version": 3
   },
   "file_extension": ".py",
   "mimetype": "text/x-python",
   "name": "python",
   "nbconvert_exporter": "python",
   "pygments_lexer": "ipython3",
   "version": "3.8.5"
  }
 },
 "nbformat": 4,
 "nbformat_minor": 4
}
