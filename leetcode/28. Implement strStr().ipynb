{
 "cells": [
  {
   "cell_type": "code",
   "execution_count": 50,
   "metadata": {},
   "outputs": [],
   "source": [
    "\n",
    "def strStr(haystack: str, needle: str) -> int:\n",
    "    if not len(needle):\n",
    "        return 0\n",
    "    if len(needle) == len(haystack):\n",
    "        if needle == haystack:\n",
    "            return 0\n",
    "        else:\n",
    "            return -1\n",
    "        \n",
    "    for i in range(len(haystack)):\n",
    "        print(\"hay[i]\",haystack[i])\n",
    "        if haystack[i] == needle[0]:\n",
    "            if len(needle) == 1:\n",
    "                return i\n",
    "            for x in range(1, len(needle)):\n",
    "                print(\"x ,x+i\", x, x+i)\n",
    "                print(\"__________\")\n",
    "                if i+x < len(haystack) and needle[x] == haystack[i+x]:\n",
    "                    if x == len(needle)-1:\n",
    "                        return i\n",
    "    return -1\n",
    "            \n",
    "            "
   ]
  },
  {
   "cell_type": "code",
   "execution_count": 51,
   "metadata": {},
   "outputs": [
    {
     "name": "stdout",
     "output_type": "stream",
     "text": [
      "hay[i] m\n",
      "hay[i] i\n",
      "hay[i] s\n",
      "x ,x+i 1 3\n",
      "__________\n",
      "x ,x+i 2 4\n",
      "__________\n",
      "x ,x+i 3 5\n",
      "__________\n",
      "hay[i] s\n",
      "x ,x+i 1 4\n",
      "__________\n",
      "x ,x+i 2 5\n",
      "__________\n",
      "x ,x+i 3 6\n",
      "__________\n",
      "hay[i] i\n",
      "hay[i] s\n",
      "x ,x+i 1 6\n",
      "__________\n",
      "x ,x+i 2 7\n",
      "__________\n",
      "x ,x+i 3 8\n",
      "__________\n"
     ]
    },
    {
     "data": {
      "text/plain": [
       "5"
      ]
     },
     "execution_count": 51,
     "metadata": {},
     "output_type": "execute_result"
    }
   ],
   "source": [
    "# haystack = \"dsafljdskfjsdfjkshdflasjrhewifnliduehjsjkdfhkdfkjdf\"\n",
    "# needle = \"sk\"\n",
    "\n",
    "# haystack = \"slajhfiueahndfkjsdhufnlskdjfhywqhnleijfdiyvhsliuhrflsidkbfliuhdfilfgyhsdsdlifjdjvbnsyilukfdjnbvlhskdjfndlhfsiufhfgidugghbjggdsfgjdgftysdjfgyskudyfjgfcbstduyfgjkvbbkvuydjsgfsydfgsjtfsgfsfufhsbyghbfs\"\n",
    "# needle = \"sds\"\n",
    "\n",
    "haystack = \"mississippi\"\n",
    "needle = \"sipp\"\n",
    "\n",
    "\n",
    "\n",
    "\n",
    "strStr(haystack,needle)"
   ]
  },
  {
   "cell_type": "code",
   "execution_count": 28,
   "metadata": {},
   "outputs": [
    {
     "name": "stdout",
     "output_type": "stream",
     "text": [
      "yes\n"
     ]
    }
   ],
   "source": [
    "if needle in haystack::\n",
    "        "
   ]
  },
  {
   "cell_type": "code",
   "execution_count": null,
   "metadata": {},
   "outputs": [],
   "source": []
  }
 ],
 "metadata": {
  "kernelspec": {
   "display_name": "Python 3",
   "language": "python",
   "name": "python3"
  },
  "language_info": {
   "codemirror_mode": {
    "name": "ipython",
    "version": 3
   },
   "file_extension": ".py",
   "mimetype": "text/x-python",
   "name": "python",
   "nbconvert_exporter": "python",
   "pygments_lexer": "ipython3",
   "version": "3.7.3"
  }
 },
 "nbformat": 4,
 "nbformat_minor": 4
}
