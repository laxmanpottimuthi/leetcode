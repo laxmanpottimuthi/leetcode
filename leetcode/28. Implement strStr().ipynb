{
 "cells": [
  {
   "cell_type": "code",
   "execution_count": 54,
   "metadata": {},
   "outputs": [],
   "source": [
    "\n",
    "def strStr(haystack: str, needle: str) -> int:\n",
    "    if not len(needle):\n",
    "        return 0\n",
    "    if len(needle) == len(haystack):\n",
    "        if needle == haystack:\n",
    "            return 0\n",
    "        else:\n",
    "            return -1\n",
    "        \n",
    "    for i in range(len(haystack)):\n",
    "        if haystack[i] == needle[0]:\n",
    "            if len(needle) == 1:\n",
    "                return i\n",
    "            for x in range(1, len(needle)):\n",
    "                if i+x < len(haystack) and needle[x] == haystack[i+x]:\n",
    "                    if x == len(needle)-1:\n",
    "                        return i\n",
    "                else:\n",
    "                    break\n",
    "    return -1\n",
    "            "
   ]
  },
  {
   "cell_type": "code",
   "execution_count": 55,
   "metadata": {},
   "outputs": [
    {
     "data": {
      "text/plain": [
       "6"
      ]
     },
     "execution_count": 55,
     "metadata": {},
     "output_type": "execute_result"
    }
   ],
   "source": [
    "# haystack = \"dsafljdskfjsdfjkshdflasjrhewifnliduehjsjkdfhkdfkjdf\"\n",
    "# needle = \"sk\"\n",
    "\n",
    "# haystack = \"slajhfiueahndfkjsdhufnlskdjfhywqhnleijfdiyvhsliuhrflsidkbfliuhdfilfgyhsdsdlifjdjvbnsyilukfdjnbvlhskdjfndlhfsiufhfgidugghbjggdsfgjdgftysdjfgyskudyfjgfcbstduyfgjkvbbkvuydjsgfsydfgsjtfsgfsfufhsbyghbfs\"\n",
    "# needle = \"sds\"\n",
    "\n",
    "haystack = \"mississippi\"\n",
    "needle = \"sipp\"\n",
    "\n",
    "\n",
    "\n",
    "\n",
    "strStr(haystack,needle)"
   ]
  },
  {
   "cell_type": "code",
   "execution_count": null,
   "metadata": {},
   "outputs": [],
   "source": []
  },
  {
   "cell_type": "code",
   "execution_count": null,
   "metadata": {},
   "outputs": [],
   "source": []
  }
 ],
 "metadata": {
  "kernelspec": {
   "display_name": "Python 3",
   "language": "python",
   "name": "python3"
  },
  "language_info": {
   "codemirror_mode": {
    "name": "ipython",
    "version": 3
   },
   "file_extension": ".py",
   "mimetype": "text/x-python",
   "name": "python",
   "nbconvert_exporter": "python",
   "pygments_lexer": "ipython3",
   "version": "3.7.3"
  }
 },
 "nbformat": 4,
 "nbformat_minor": 4
}
