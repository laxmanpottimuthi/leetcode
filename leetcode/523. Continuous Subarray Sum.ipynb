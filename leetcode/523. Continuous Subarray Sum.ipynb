{
 "cells": [
  {
   "cell_type": "code",
   "execution_count": 2,
   "metadata": {},
   "outputs": [],
   "source": [
    "from typing import List\n",
    "from collections import defaultdict"
   ]
  },
  {
   "cell_type": "code",
   "execution_count": 6,
   "metadata": {},
   "outputs": [],
   "source": [
    "class Solution:\n",
    "    def checkSubarraySum(self, nums: List[int], k: int) -> bool:\n",
    "        lengthNums = len(nums)\n",
    "        if k == 0 or not lengthNums:\n",
    "            return False\n",
    "        \n",
    "        cummulativeSumMap = defaultdict(int)\n",
    "        cummulativeSum = 0\n",
    "        cummulativeSumMap[0] = -1\n",
    "        for i,num in enumerate(nums):\n",
    "            cummulativeSum += num\n",
    "            cummulativeSum %= k\n",
    "            \n",
    "            if cummulativeSum in cummulativeSumMap:\n",
    "                if i - cummulativeSumMap[cummulativeSum] > 1:\n",
    "                    return True\n",
    "            else:\n",
    "                cummulativeSumMap[cummulativeSum, i]\n",
    "        return False\n",
    "            "
   ]
  },
  {
   "cell_type": "code",
   "execution_count": null,
   "metadata": {},
   "outputs": [],
   "source": []
  }
 ],
 "metadata": {
  "kernelspec": {
   "display_name": "Python 3",
   "language": "python",
   "name": "python3"
  },
  "language_info": {
   "codemirror_mode": {
    "name": "ipython",
    "version": 3
   },
   "file_extension": ".py",
   "mimetype": "text/x-python",
   "name": "python",
   "nbconvert_exporter": "python",
   "pygments_lexer": "ipython3",
   "version": "3.8.5"
  }
 },
 "nbformat": 4,
 "nbformat_minor": 4
}
