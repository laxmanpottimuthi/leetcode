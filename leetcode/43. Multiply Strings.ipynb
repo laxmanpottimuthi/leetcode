{
 "cells": [
  {
   "cell_type": "code",
   "execution_count": 19,
   "metadata": {},
   "outputs": [],
   "source": [
    "class Solution:\n",
    "    def multiply(self, num1: str, num2: str) -> str:\n",
    "        \n",
    "        def strToInt(num):\n",
    "            strIntDict = { \"1\":1, \"2\":2,\"3\":3,\"4\":4,\"5\":5,\"6\":6,\"7\":7,\"8\":8,\"9\":9,\"0\":0 }\n",
    "            lenNum = len(num)-1\n",
    "            mul = 1\n",
    "            integer = 0\n",
    "            while lenNum >= 0:\n",
    "                strNum = strIntDict[num[lenNum]]\n",
    "                integer += strNum*mul\n",
    "                mul *= 10\n",
    "                lenNum -= 1\n",
    "            return integer\n",
    "        \n",
    "        def intToStr(num):\n",
    "            if num == 0:\n",
    "                return \"0\"\n",
    "            intStrDict = { 1:\"1\", 2:\"2\",3:\"3\",4:\"4\",5:\"5\",6:\"6\",7:\"7\",8:\"8\",9:\"9\",0:\"0\" }\n",
    "            strInt = \"\"\n",
    "            while num:\n",
    "                lastPlace = num%10\n",
    "                strInt = intStrDict[lastPlace] + strInt\n",
    "                num //= 10\n",
    "            return strInt\n",
    "        product = strToInt(num1) * strToInt(num2)\n",
    "        return intToStr(product)\n"
   ]
  },
  {
   "cell_type": "code",
   "execution_count": null,
   "metadata": {},
   "outputs": [],
   "source": []
  },
  {
   "cell_type": "code",
   "execution_count": null,
   "metadata": {},
   "outputs": [],
   "source": []
  },
  {
   "cell_type": "code",
   "execution_count": null,
   "metadata": {},
   "outputs": [],
   "source": []
  }
 ],
 "metadata": {
  "kernelspec": {
   "display_name": "Python 3",
   "language": "python",
   "name": "python3"
  },
  "language_info": {
   "codemirror_mode": {
    "name": "ipython",
    "version": 3
   },
   "file_extension": ".py",
   "mimetype": "text/x-python",
   "name": "python",
   "nbconvert_exporter": "python",
   "pygments_lexer": "ipython3",
   "version": "3.8.5"
  }
 },
 "nbformat": 4,
 "nbformat_minor": 4
}
