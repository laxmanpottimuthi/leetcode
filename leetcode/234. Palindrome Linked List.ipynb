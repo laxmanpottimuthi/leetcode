{
 "cells": [
  {
   "cell_type": "code",
   "execution_count": 2,
   "metadata": {},
   "outputs": [],
   "source": [
    "# Definition for singly-linked list.\n",
    "class ListNode:\n",
    "    def __init__(self, val=0, next=None):\n",
    "        self.val = val\n",
    "        self.next = next"
   ]
  },
  {
   "cell_type": "code",
   "execution_count": 3,
   "metadata": {},
   "outputs": [],
   "source": [
    "\n",
    "class Solution:\n",
    "    def isPalindrome(self, head: ListNode) -> bool:\n",
    "        res = []\n",
    "        cur_node = head\n",
    "        while cur_node is not None:\n",
    "            res.append(cur_node.val)\n",
    "            cur_node = cur_node.next\n",
    "        return res == res[::-1]\n",
    "    \n",
    "        "
   ]
  },
  {
   "cell_type": "code",
   "execution_count": 4,
   "metadata": {},
   "outputs": [],
   "source": [
    "# Definition for singly-linked list.\n",
    "# class ListNode:\n",
    "#     def __init__(self, val=0, next=None):\n",
    "#         self.val = val\n",
    "#         self.next = next\n",
    "\n",
    "class Solution:\n",
    "    def isPalindrome(self, head: ListNode) -> bool:\n",
    "        slowPtr, fastPtr = head,head\n",
    "        \n",
    "        while fastPtr.next and fastPtr.next.next:\n",
    "            fastPtr = fastPtr.next.next\n",
    "            slowPtr = slowPtr.next\n",
    "        \n",
    "        #reverse second half\n",
    "        \n",
    "        cur = None\n",
    "        nextPtr = slowPtr.next\n",
    "        while nextPtr:\n",
    "            tmp = nextPtr.next\n",
    "            nextPtr.next = cur\n",
    "            cur = nextPtr\n",
    "            nextPtr = tmp\n",
    "        \n",
    "        tailPtr = cur\n",
    "        headPtr = head\n",
    "        \n",
    "        while tailPtr and headPtr:\n",
    "            if tailPtr.val != headPtr.val:\n",
    "                return False\n",
    "            tailPtr = tailPtr.next\n",
    "            headPtr = headPtr.next\n",
    "        return True"
   ]
  },
  {
   "cell_type": "code",
   "execution_count": null,
   "metadata": {},
   "outputs": [],
   "source": []
  }
 ],
 "metadata": {
  "kernelspec": {
   "display_name": "Python 3",
   "language": "python",
   "name": "python3"
  },
  "language_info": {
   "codemirror_mode": {
    "name": "ipython",
    "version": 3
   },
   "file_extension": ".py",
   "mimetype": "text/x-python",
   "name": "python",
   "nbconvert_exporter": "python",
   "pygments_lexer": "ipython3",
   "version": "3.8.5"
  }
 },
 "nbformat": 4,
 "nbformat_minor": 4
}
