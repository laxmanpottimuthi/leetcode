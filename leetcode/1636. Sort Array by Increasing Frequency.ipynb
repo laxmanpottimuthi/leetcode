{
 "cells": [
  {
   "cell_type": "code",
   "execution_count": 24,
   "metadata": {},
   "outputs": [],
   "source": [
    "from typing import List\n",
    "from collections import Counter\n",
    "class Solution:\n",
    "    def frequencySort(self, nums: List[int]) -> List[int]:\n",
    "        counterNums = Counter(nums)\n",
    "        return sorted(nums, key=lambda x: (counterNums[x], -x))"
   ]
  },
  {
   "cell_type": "code",
   "execution_count": 25,
   "metadata": {},
   "outputs": [
    {
     "data": {
      "text/plain": [
       "[1, 3, 3, 2, 2]"
      ]
     },
     "execution_count": 25,
     "metadata": {},
     "output_type": "execute_result"
    }
   ],
   "source": [
    "sol = Solution()\n",
    "array = [1,3,4,4,3,3,4,5,2,2,2]\n",
    "# array = [-1,1,-6,4,5,-6,1,4,1]\n",
    "# sol.frequencySort(array) == [5,-1,4,4,-6,-6,1,1,1]\n",
    "# array= [1,1,2,2,2,3]\n",
    "# sol.frequencySort(array) == [3,1,1,2,2,2]\n",
    "array= [2,3,1,3,2]\n",
    "sol.frequencySort(array) # == [1,3,3,2,2]"
   ]
  },
  {
   "cell_type": "code",
   "execution_count": null,
   "metadata": {},
   "outputs": [],
   "source": []
  }
 ],
 "metadata": {
  "kernelspec": {
   "display_name": "Python 3",
   "language": "python",
   "name": "python3"
  },
  "language_info": {
   "codemirror_mode": {
    "name": "ipython",
    "version": 3
   },
   "file_extension": ".py",
   "mimetype": "text/x-python",
   "name": "python",
   "nbconvert_exporter": "python",
   "pygments_lexer": "ipython3",
   "version": "3.8.5"
  }
 },
 "nbformat": 4,
 "nbformat_minor": 4
}
