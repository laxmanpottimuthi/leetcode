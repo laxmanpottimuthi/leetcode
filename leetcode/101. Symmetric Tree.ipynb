{
 "cells": [
  {
   "cell_type": "code",
   "execution_count": 2,
   "metadata": {},
   "outputs": [],
   "source": [
    "from collections import deque\n",
    "# Definition for a binary tree node.\n",
    "class TreeNode:\n",
    "    def __init__(self, val=0, left=None, right=None):\n",
    "        self.val = val\n",
    "        self.left = left\n",
    "        self.right = right\n"
   ]
  },
  {
   "cell_type": "code",
   "execution_count": 4,
   "metadata": {},
   "outputs": [],
   "source": [
    "#Level Order\n",
    "class Solution:\n",
    "    def isSymmetric(self, root: TreeNode) -> bool:\n",
    "        from collections import deque\n",
    "        if not root:\n",
    "            return True\n",
    "        queue = deque([root])\n",
    "        while queue:\n",
    "            levelElements = []\n",
    "            for _ in range(len(queue)):\n",
    "                head = queue.popleft()\n",
    "                if head:\n",
    "                    queue.append(head.left)\n",
    "                    queue.append(head.right)\n",
    "                    levelElements.append(head.val)\n",
    "                else:\n",
    "                    levelElements.append(None)\n",
    "            \n",
    "            if levelElements != levelElements[::-1]:\n",
    "                return False\n",
    "        return True\n",
    "\n",
    "        "
   ]
  },
  {
   "cell_type": "code",
   "execution_count": null,
   "metadata": {},
   "outputs": [],
   "source": []
  }
 ],
 "metadata": {
  "kernelspec": {
   "display_name": "Python 3",
   "language": "python",
   "name": "python3"
  },
  "language_info": {
   "codemirror_mode": {
    "name": "ipython",
    "version": 3
   },
   "file_extension": ".py",
   "mimetype": "text/x-python",
   "name": "python",
   "nbconvert_exporter": "python",
   "pygments_lexer": "ipython3",
   "version": "3.7.3"
  }
 },
 "nbformat": 4,
 "nbformat_minor": 4
}
