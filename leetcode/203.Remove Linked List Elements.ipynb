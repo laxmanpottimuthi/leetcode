{
 "cells": [
  {
   "cell_type": "code",
   "execution_count": null,
   "metadata": {},
   "outputs": [],
   "source": [
    "# Definition for singly-linked list.\n",
    "# class ListNode:\n",
    "#     def __init__(self, val=0, next=None):\n",
    "#         self.val = val\n",
    "#         self.next = next\n",
    "class Solution:\n",
    "    def removeElements(self, head: ListNode, val: int) -> ListNode:\n",
    "        if head == None:\n",
    "            return head\n",
    "        prev = None\n",
    "        cur = head\n",
    "        while head.next != None:\n",
    "            if head.val == val:\n",
    "                prev = prev\n",
    "            else:\n",
    "                prev = head\n",
    "            if head.val == val:\n",
    "                if head.next != None:\n",
    "                    head.val = head.next.val\n",
    "                    head.next = head.next.next\n",
    "            else:\n",
    "                head = head.next\n",
    "        if head.val == val:\n",
    "            if prev != None:\n",
    "                prev.next = None\n",
    "            else:\n",
    "                return None\n",
    "                \n",
    "        return cur\n",
    "\n",
    "                "
   ]
  }
 ],
 "metadata": {
  "kernelspec": {
   "display_name": "Python 3",
   "language": "python",
   "name": "python3"
  },
  "language_info": {
   "codemirror_mode": {
    "name": "ipython",
    "version": 3
   },
   "file_extension": ".py",
   "mimetype": "text/x-python",
   "name": "python",
   "nbconvert_exporter": "python",
   "pygments_lexer": "ipython3",
   "version": "3.7.3"
  }
 },
 "nbformat": 4,
 "nbformat_minor": 4
}
