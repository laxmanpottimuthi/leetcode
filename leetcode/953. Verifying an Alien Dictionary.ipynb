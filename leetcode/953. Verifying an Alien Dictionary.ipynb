{
 "cells": [
  {
   "cell_type": "code",
   "execution_count": 1,
   "metadata": {},
   "outputs": [],
   "source": [
    "from typing import List\n",
    "class Solution:\n",
    "    def isAlienSorted(self, words: List[str], order: str) -> bool:\n",
    "        lenWords = len(words)\n",
    "        if lenWords == 0 or lenWords == 1:\n",
    "            return True\n",
    "        prevWord = words[0]\n",
    "        hashAlien = { c:i for i,c in enumerate(order)}\n",
    "        for i in range(1,lenWords):\n",
    "            currWord = words[i]\n",
    "            lenPrev = 0\n",
    "            lenCurr = 0\n",
    "            while lenCurr < len(currWord) and lenPrev < len(prevWord):\n",
    "                if hashAlien[currWord[lenCurr]] > hashAlien[prevWord[lenPrev]]:\n",
    "                    break\n",
    "                elif hashAlien[currWord[lenCurr]] < hashAlien[prevWord[lenPrev]]:\n",
    "                    return False\n",
    "                else:\n",
    "                    lenPrev += 1\n",
    "                    lenCurr += 1\n",
    "            if lenPrev != len(prevWord) and lenCurr == len(currWord):\n",
    "                return False\n",
    "            prevWord = currWord\n",
    "        return True"
   ]
  },
  {
   "cell_type": "code",
   "execution_count": 2,
   "metadata": {},
   "outputs": [],
   "source": [
    "words = [\"hello\",\"leetcode\"]\n",
    "order = \"hlabcdefgijkmnopqrstuvwxyz\""
   ]
  },
  {
   "cell_type": "code",
   "execution_count": 3,
   "metadata": {},
   "outputs": [
    {
     "data": {
      "text/plain": [
       "False"
      ]
     },
     "execution_count": 3,
     "metadata": {},
     "output_type": "execute_result"
    }
   ],
   "source": [
    "sol = Solution()\n",
    "sol.isAlienSorted(words = [\"word\",\"world\",\"row\"], order = \"worldabcefghijkmnpqstuvxyz\")"
   ]
  }
 ],
 "metadata": {
  "kernelspec": {
   "display_name": "Python 3",
   "language": "python",
   "name": "python3"
  },
  "language_info": {
   "codemirror_mode": {
    "name": "ipython",
    "version": 3
   },
   "file_extension": ".py",
   "mimetype": "text/x-python",
   "name": "python",
   "nbconvert_exporter": "python",
   "pygments_lexer": "ipython3",
   "version": "3.8.5"
  }
 },
 "nbformat": 4,
 "nbformat_minor": 4
}
