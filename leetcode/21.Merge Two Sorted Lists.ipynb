{
 "cells": [
  {
   "cell_type": "code",
   "execution_count": 5,
   "metadata": {},
   "outputs": [
    {
     "name": "stdout",
     "output_type": "stream",
     "text": [
      "solution\n",
      "<__main__.ListNode object at 0x10b6c7a00> 1 <__main__.ListNode object at 0x10b6c7760>\n",
      "<__main__.ListNode object at 0x10b6c7760> 1 <__main__.ListNode object at 0x10b6c72b0>\n",
      "<__main__.ListNode object at 0x10b6c72b0> 2 <__main__.ListNode object at 0x10b6c7310>\n",
      "<__main__.ListNode object at 0x10b6c7310> 3 <__main__.ListNode object at 0x10b6c72e0>\n",
      "<__main__.ListNode object at 0x10b6c72e0> 4 <__main__.ListNode object at 0x10b6c7040>\n",
      "<__main__.ListNode object at 0x10b6c7040> 4 None\n"
     ]
    }
   ],
   "source": [
    "# Definition for singly-linked list.\n",
    "class ListNode:\n",
    "    def __init__(self, val=0, next=None):\n",
    "        self.val = val\n",
    "        self.next = next\n",
    "class Solution:\n",
    "    def mergeTwoLists(self, l1: ListNode, l2: ListNode) -> ListNode:\n",
    "        returnList  = ListNode(val=0)\n",
    "        newList = returnList\n",
    "        \n",
    "        while l1 or l2:\n",
    "            if l1 == None:\n",
    "                newList.next = l2\n",
    "                return returnList.next\n",
    "            if l2 == None:\n",
    "                newList.next = l1\n",
    "                return returnList.next\n",
    "            \n",
    "            if l1.val <= l2.val:\n",
    "                newList.next = l1\n",
    "                l1 = l1.next\n",
    "            else:\n",
    "                newList.next = l2\n",
    "                l2 = l2.next\n",
    "            newList = newList.next\n",
    "        return returnList.next\n",
    "\n",
    "    def printListNode(self, listnode ):\n",
    "        if listnode == None:\n",
    "            print(\"List node none\")\n",
    "        while listnode :\n",
    "            print(listnode,listnode.val,listnode.next)\n",
    "            listnode = listnode.next\n",
    "\n",
    "#l1 = [1,2,4]\n",
    "#l2 = [1,3,4]\n",
    "tmpTest1 = ListNode(val=1)\n",
    "tmpTest1.next = ListNode(val=2)\n",
    "tmpTest1.next.next = ListNode(val=4)\n",
    "\n",
    "tmpTest2 = ListNode(val=1)\n",
    "tmpTest2.next = ListNode(val=3)\n",
    "tmpTest2.next.next = ListNode(val=4)\n",
    "\n",
    "sol = Solution()\n",
    "\n",
    "solTest = sol.mergeTwoLists(tmpTest1,tmpTest2)\n",
    "print(\"solution\")\n",
    "sol.printListNode(solTest)"
   ]
  },
  {
   "cell_type": "code",
   "execution_count": null,
   "metadata": {},
   "outputs": [],
   "source": []
  },
  {
   "cell_type": "code",
   "execution_count": null,
   "metadata": {},
   "outputs": [],
   "source": []
  },
  {
   "cell_type": "code",
   "execution_count": null,
   "metadata": {},
   "outputs": [],
   "source": []
  },
  {
   "cell_type": "code",
   "execution_count": null,
   "metadata": {},
   "outputs": [],
   "source": []
  },
  {
   "cell_type": "code",
   "execution_count": null,
   "metadata": {},
   "outputs": [],
   "source": []
  }
 ],
 "metadata": {
  "kernelspec": {
   "display_name": "Python 3",
   "language": "python",
   "name": "python3"
  },
  "language_info": {
   "codemirror_mode": {
    "name": "ipython",
    "version": 3
   },
   "file_extension": ".py",
   "mimetype": "text/x-python",
   "name": "python",
   "nbconvert_exporter": "python",
   "pygments_lexer": "ipython3",
   "version": "3.8.5"
  }
 },
 "nbformat": 4,
 "nbformat_minor": 4
}
