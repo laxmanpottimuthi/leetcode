{
 "cells": [
  {
   "cell_type": "code",
   "execution_count": 1,
   "metadata": {},
   "outputs": [],
   "source": [
    "#Given a string s and an integer k, return the length of the longest substring of s that contains at most k distinct characters.\n",
    "\n"
   ]
  },
  {
   "cell_type": "code",
   "execution_count": 2,
   "metadata": {},
   "outputs": [],
   "source": [
    "#Space: O(k) time O(nk)\n",
    "from collections import defaultdict\n",
    "class Solution:\n",
    "    def lengthOfLongestSubstringKDistinct(self, s: str, k: int) -> int:\n",
    "        if not s or not k:\n",
    "            return 0\n",
    "        tail,head = 0,0\n",
    "        maxLength = 0\n",
    "        charMap = defaultdict(int)\n",
    "        while tail < len(s):\n",
    "            charMap[s[tail]] += 1\n",
    "            tail += 1\n",
    "            while len(charMap) >2:\n",
    "                charMap[s[head]] -= 1\n",
    "                if charMap[s[head]] == 0:\n",
    "                    del charMap[s[head]]\n",
    "                head += 1\n",
    "            maxLength = max(maxLength, tail-head)\n",
    "        return maxLength\n",
    "            \n",
    "        \n",
    "        "
   ]
  },
  {
   "cell_type": "code",
   "execution_count": 3,
   "metadata": {},
   "outputs": [],
   "source": [
    "#Space: O(k); Time: O(n) using OrderedDict\n",
    "from collections import OrderedDict\n",
    "class Solution:\n",
    "    def lengthOfLongestSubstringKDistinct(self, s: str, k: int) -> int:\n",
    "        if not s or not k:\n",
    "            return 0\n",
    "        tail,head = 0,0\n",
    "        maxLength = 0\n",
    "        charMap = OrderedDict()\n",
    "        while tail < len(s):\n",
    "            if s[tail] in charMap:\n",
    "                del charMap[s[tail]]\n",
    "            charMap[s[tail]] = tail\n",
    "            tail += 1\n",
    "            if len(charMap) > k:\n",
    "                _, leftMoveInd = charMap.popitem(last=False)\n",
    "                head = leftMoveInd +1\n",
    "            maxLength = max(maxLength, tail-head)\n",
    "            \n",
    "        return maxLength\n",
    "            \n",
    "        "
   ]
  },
  {
   "cell_type": "code",
   "execution_count": 4,
   "metadata": {},
   "outputs": [],
   "source": [
    "#Space: O(k), time: O(n)\n",
    "from collections import Counter\n",
    "class Solution:\n",
    "    def lengthOfLongestSubstringKDistinct(self, s: str, k: int) -> int:\n",
    "        if not s or not k:\n",
    "            return 0\n",
    "        tail,head = 0,0\n",
    "        maxLength = 0\n",
    "        charMap = Counter()\n",
    "        distChar = 0\n",
    "        while tail < len(s):\n",
    "            if charMap[s[tail]] == 0:\n",
    "                distChar += 1\n",
    "            charMap[s[tail]] += 1\n",
    "            tail += 1\n",
    "            \n",
    "            while distChar > k:\n",
    "                charMap[s[head]] -= 1\n",
    "                if charMap[s[head]] == 0:\n",
    "                     distChar -= 1\n",
    "                head += 1\n",
    "            maxLength = max(maxLength, tail-head)\n",
    "        return maxLength\n",
    "            "
   ]
  },
  {
   "cell_type": "code",
   "execution_count": 5,
   "metadata": {},
   "outputs": [
    {
     "data": {
      "text/plain": [
       "2"
      ]
     },
     "execution_count": 5,
     "metadata": {},
     "output_type": "execute_result"
    }
   ],
   "source": [
    "sol = Solution()\n",
    "sol.lengthOfLongestSubstringKDistinct(\"aa\",1)"
   ]
  },
  {
   "cell_type": "code",
   "execution_count": null,
   "metadata": {},
   "outputs": [],
   "source": []
  },
  {
   "cell_type": "code",
   "execution_count": null,
   "metadata": {},
   "outputs": [],
   "source": []
  }
 ],
 "metadata": {
  "kernelspec": {
   "display_name": "Python 3",
   "language": "python",
   "name": "python3"
  },
  "language_info": {
   "codemirror_mode": {
    "name": "ipython",
    "version": 3
   },
   "file_extension": ".py",
   "mimetype": "text/x-python",
   "name": "python",
   "nbconvert_exporter": "python",
   "pygments_lexer": "ipython3",
   "version": "3.8.5"
  }
 },
 "nbformat": 4,
 "nbformat_minor": 4
}
