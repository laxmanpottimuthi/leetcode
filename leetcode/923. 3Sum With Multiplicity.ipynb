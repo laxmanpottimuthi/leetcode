{
 "cells": [
  {
   "cell_type": "code",
   "execution_count": 64,
   "metadata": {},
   "outputs": [],
   "source": [
    "from typing import List\n",
    "\n",
    "class Solution:\n",
    "    def threeSumMulti(self, arr: List[int], target: int) -> int:\n",
    "        arrLen = len(arr)\n",
    "        if arrLen <= 2:\n",
    "            return 0\n",
    "        if arrLen == 3 and sum(arr) == target:\n",
    "            return 1\n",
    "        MOD = 10**9+7\n",
    "        multiplicityHash = dict()\n",
    "        arr = sorted(arr)\n",
    "        for i in arr:\n",
    "            multiplicityHash[i] = multiplicityHash.get(i,0)+1\n",
    "        ans = 0\n",
    "        keys = list(multiplicityHash.keys())\n",
    "        for i,x in enumerate(keys):\n",
    "            res = target - x\n",
    "            j,k = i,len(keys) -1\n",
    "            while j <= k :\n",
    "                y,z = keys[j],keys[k]\n",
    "                if y+z < res:\n",
    "                    j += 1\n",
    "                elif y + z > res:\n",
    "                    k -= 1\n",
    "                else:\n",
    "                    if i < j < k:\n",
    "                        ans += multiplicityHash[x]*multiplicityHash[y]*multiplicityHash[z]\n",
    "                    elif i == j < k:\n",
    "                        ans += multiplicityHash[x]*(multiplicityHash[z])*(multiplicityHash[x]-1)//2\n",
    "                    elif i< j == k:\n",
    "                        ans += multiplicityHash[x]*(multiplicityHash[y])*(multiplicityHash[y]-1)//2\n",
    "                    else:\n",
    "                        ans += multiplicityHash[x]*(multiplicityHash[x]-1)*(multiplicityHash[x]-2)//6\n",
    "                    j += 1\n",
    "                    k -= 1\n",
    "            \n",
    "        return ans % MOD"
   ]
  },
  {
   "cell_type": "code",
   "execution_count": 65,
   "metadata": {},
   "outputs": [
    {
     "data": {
      "text/plain": [
       "2"
      ]
     },
     "execution_count": 65,
     "metadata": {},
     "output_type": "execute_result"
    }
   ],
   "source": [
    "sol = Solution()\n",
    "sol.threeSumMulti([1,2,0,3,2],4)"
   ]
  },
  {
   "cell_type": "code",
   "execution_count": 66,
   "metadata": {},
   "outputs": [
    {
     "data": {
      "text/plain": [
       "2"
      ]
     },
     "execution_count": 66,
     "metadata": {},
     "output_type": "execute_result"
    }
   ],
   "source": [
    "sol.threeSumMulti(arr = [3,2,0,2], target = 5)"
   ]
  },
  {
   "cell_type": "code",
   "execution_count": null,
   "metadata": {},
   "outputs": [],
   "source": []
  }
 ],
 "metadata": {
  "kernelspec": {
   "display_name": "Python 3",
   "language": "python",
   "name": "python3"
  },
  "language_info": {
   "codemirror_mode": {
    "name": "ipython",
    "version": 3
   },
   "file_extension": ".py",
   "mimetype": "text/x-python",
   "name": "python",
   "nbconvert_exporter": "python",
   "pygments_lexer": "ipython3",
   "version": "3.8.5"
  }
 },
 "nbformat": 4,
 "nbformat_minor": 4
}
