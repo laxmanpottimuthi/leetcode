{
 "cells": [
  {
   "cell_type": "code",
   "execution_count": 1,
   "metadata": {},
   "outputs": [],
   "source": [
    "from collections import deque\n",
    "class LRUCache:\n",
    "\n",
    "    def __init__(self, capacity: int):\n",
    "        self.queue = deque()\n",
    "        self.hash_table = dict()\n",
    "        self.capacity = capacity\n",
    "        \n",
    "    def get(self, key: int) -> int:\n",
    "        if key in self.hash_table:\n",
    "            self.queue.remove(key)\n",
    "            self.queue.append(key)\n",
    "            return self.hash_table[key]\n",
    "        else:\n",
    "            return -1\n",
    "\n",
    "    def put(self, key: int, value: int) -> None:\n",
    "        \n",
    "        if key in self.hash_table:\n",
    "                self.queue.remove(key)\n",
    "        else:\n",
    "            if len(self.queue) >= self.capacity:\n",
    "                keyPoped = self.queue.popleft()\n",
    "                self.hash_table.pop(keyPoped)\n",
    "                print(keyPoped)\n",
    "\n",
    "        self.hash_table[key] = value\n",
    "        self.queue.append(key)\n",
    "\n",
    "# Your LRUCache object will be instantiated and called as such:\n",
    "# obj = LRUCache(capacity)\n",
    "# param_1 = obj.get(key)\n",
    "# obj.put(key,value)"
   ]
  },
  {
   "cell_type": "code",
   "execution_count": 2,
   "metadata": {},
   "outputs": [],
   "source": [
    "lRUCache = LRUCache(2);\n",
    "lRUCache.put(1, 1) #// cache is {1=1}\n",
    "lRUCache.put(2, 2) ##// cache is {1=1, 2=2}\n",
    "lRUCache.get(1)  #// return 1\n",
    "lRUCache.put(3, 3) #// LRU key was 2, evicts key 2, cache is {1=1, 3=3}\n",
    "lRUCache.get(2)  #// returns -1 (not found)\n",
    "lRUCache.put(4, 4) #// LRU key was 1, evicts key 1, cache is {4=4, 3=3}\n",
    "lRUCache.get(1)    #// return -1 (not found)\n",
    "lRUCache.get(3)    #// return 3\n",
    "lRUCache.get(4)    #// return 4\n",
    "lRUCache.get(4)"
   ]
  },
  {
   "cell_type": "code",
   "execution_count": 3,
   "metadata": {},
   "outputs": [],
   "source": [
    "from collections import OrderedDict\n",
    "class LRUCache(OrderedDict):\n",
    "\n",
    "    def __init__(self, capacity):\n",
    "        self.capacity = capacity\n",
    "\n",
    "    def get(self, key):\n",
    "        if key not in self:\n",
    "            return - 1\n",
    "        self.move_to_end(key)\n",
    "        return self[key]\n",
    "\n",
    "    def put(self, key, value):\n",
    "        if key in self:\n",
    "            self.move_to_end(key)\n",
    "        self[key] = value\n",
    "        if len(self) > self.capacity:\n",
    "            self.popitem(last = False)\n",
    "\n",
    "# Your LRUCache object will be instantiated and called as such:\n",
    "# obj = LRUCache(capacity)\n",
    "# param_1 = obj.get(key)\n",
    "# obj.put(key,value)"
   ]
  },
  {
   "cell_type": "code",
   "execution_count": null,
   "metadata": {},
   "outputs": [],
   "source": []
  }
 ],
 "metadata": {
  "kernelspec": {
   "display_name": "Python 3",
   "language": "python",
   "name": "python3"
  },
  "language_info": {
   "codemirror_mode": {
    "name": "ipython",
    "version": 3
   },
   "file_extension": ".py",
   "mimetype": "text/x-python",
   "name": "python",
   "nbconvert_exporter": "python",
   "pygments_lexer": "ipython3",
   "version": "3.8.5"
  }
 },
 "nbformat": 4,
 "nbformat_minor": 4
}
