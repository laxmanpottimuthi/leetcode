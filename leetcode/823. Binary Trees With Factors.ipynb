{
 "cells": [
  {
   "cell_type": "code",
   "execution_count": 1,
   "metadata": {},
   "outputs": [],
   "source": [
    "from typing import List\n",
    "class Solution:\n",
    "    def numFactoredBinaryTrees(self, arr: List[int]) -> int:\n",
    "        arr = sorted(arr)\n",
    "        if not arr:\n",
    "            return 0\n",
    "        dp = [1]*len(arr)\n",
    "        arr_ind = {num: i for i,num in enumerate(arr)}\n",
    "        for i,num in enumerate(arr):\n",
    "            for j in range(i):            \n",
    "                div, mod = divmod(num,arr[j])      \n",
    "                if mod == 0:\n",
    "                    if div in arr_ind:\n",
    "                        dp[i] += dp[j] * dp[arr_ind[div]]\n",
    "        return sum(dp)%(10**9 + 7)"
   ]
  },
  {
   "cell_type": "code",
   "execution_count": 2,
   "metadata": {},
   "outputs": [
    {
     "data": {
      "text/plain": [
       "7"
      ]
     },
     "execution_count": 2,
     "metadata": {},
     "output_type": "execute_result"
    }
   ],
   "source": [
    "sol = Solution()\n",
    "sol.numFactoredBinaryTrees([2,4,5,10])"
   ]
  },
  {
   "cell_type": "code",
   "execution_count": null,
   "metadata": {},
   "outputs": [],
   "source": []
  },
  {
   "cell_type": "code",
   "execution_count": null,
   "metadata": {},
   "outputs": [],
   "source": []
  },
  {
   "cell_type": "code",
   "execution_count": null,
   "metadata": {},
   "outputs": [],
   "source": []
  }
 ],
 "metadata": {
  "kernelspec": {
   "display_name": "Python 3",
   "language": "python",
   "name": "python3"
  },
  "language_info": {
   "codemirror_mode": {
    "name": "ipython",
    "version": 3
   },
   "file_extension": ".py",
   "mimetype": "text/x-python",
   "name": "python",
   "nbconvert_exporter": "python",
   "pygments_lexer": "ipython3",
   "version": "3.8.5"
  }
 },
 "nbformat": 4,
 "nbformat_minor": 4
}
