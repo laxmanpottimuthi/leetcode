{
 "cells": [
  {
   "cell_type": "code",
   "execution_count": 1,
   "metadata": {},
   "outputs": [],
   "source": [
    "from collections import Counter"
   ]
  },
  {
   "cell_type": "code",
   "execution_count": 10,
   "metadata": {},
   "outputs": [],
   "source": [
    "class Solution:\n",
    "    def minWindow(self, s: str, t: str) -> str:\n",
    "        if not len(s):\n",
    "            return ''\n",
    "        \n",
    "        lenS = len(s)\n",
    "        lenT = len(t)\n",
    "        if lenS < lenT or not lenS or not lenT:\n",
    "            return ''\n",
    "        \n",
    "        frequencyOfT = Counter(t)\n",
    "        \n",
    "        headPtr = tailPtr = 0\n",
    "        \n",
    "        windowFrequencies = {}\n",
    "        \n",
    "        result = float(\"inf\"), headPtr, tailPtr\n",
    "        formed = 0\n",
    "        while tailPtr < lenS:\n",
    "            \n",
    "            char = s[tailPtr]\n",
    "            \n",
    "            windowFrequencies[char] = windowFrequencies.get(char,0)+1\n",
    "            if char in frequencyOfT and frequencyOfT[char] == windowFrequencies[char]:\n",
    "                formed += 1\n",
    "            \n",
    "            while headPtr <= tailPtr and formed == len(frequencyOfT):\n",
    "                \n",
    "                if tailPtr-headPtr+1 < result[0]:\n",
    "                    result = tailPtr-headPtr+1, headPtr, tailPtr \n",
    "                \n",
    "                windowHeadChar = s[headPtr]\n",
    "                windowFrequencies[windowHeadChar] -= 1\n",
    "                if windowHeadChar in frequencyOfT and windowFrequencies[windowHeadChar] < frequencyOfT[windowHeadChar]:\n",
    "                    formed -= 1\n",
    "                \n",
    "                headPtr += 1\n",
    "            \n",
    "            tailPtr += 1\n",
    "            \n",
    "        return \"\" if result[0] == float(\"inf\") else s[result[1]:result[2]+1]\n",
    "    "
   ]
  },
  {
   "cell_type": "code",
   "execution_count": 11,
   "metadata": {},
   "outputs": [
    {
     "data": {
      "text/plain": [
       "True"
      ]
     },
     "execution_count": 11,
     "metadata": {},
     "output_type": "execute_result"
    }
   ],
   "source": [
    "sol = Solution()\n",
    "sol.minWindow(s = \"ADOBECODEBANC\", t = \"ABC\") == \"BANC\""
   ]
  },
  {
   "cell_type": "code",
   "execution_count": null,
   "metadata": {},
   "outputs": [],
   "source": []
  }
 ],
 "metadata": {
  "kernelspec": {
   "display_name": "Python 3",
   "language": "python",
   "name": "python3"
  },
  "language_info": {
   "codemirror_mode": {
    "name": "ipython",
    "version": 3
   },
   "file_extension": ".py",
   "mimetype": "text/x-python",
   "name": "python",
   "nbconvert_exporter": "python",
   "pygments_lexer": "ipython3",
   "version": "3.8.5"
  }
 },
 "nbformat": 4,
 "nbformat_minor": 4
}
