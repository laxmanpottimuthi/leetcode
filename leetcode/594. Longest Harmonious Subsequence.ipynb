{
 "cells": [
  {
   "cell_type": "code",
   "execution_count": 14,
   "metadata": {},
   "outputs": [],
   "source": [
    "from typing import List\n",
    "from collections import defaultdict\n",
    "class Solution:\n",
    "    def findLHS(self, nums: List[int]) -> int:\n",
    "#         hashTable = defaultdict(int)\n",
    "#         maxLen = 0\n",
    "#         for i in nums:\n",
    "#             hashTable[i] = hashTable[i]+1\n",
    "#             if hashTable[i-1] or hashTable[i+1]:\n",
    "#                 maxLen = max(hashTable[i-1]+hashTable[i], maxLen, hashTable[i]+hashTable[i+1])\n",
    "#         return maxLen\n",
    "        counterNums = Counter(nums)\n",
    "        res = 0\n",
    "        for key, value in counterNums.items():\n",
    "            if key+1 in counterNums:\n",
    "                res = max(res,counterNums[key+1] + value)\n",
    "        return res"
   ]
  },
  {
   "cell_type": "code",
   "execution_count": 15,
   "metadata": {},
   "outputs": [
    {
     "data": {
      "text/plain": [
       "0"
      ]
     },
     "execution_count": 15,
     "metadata": {},
     "output_type": "execute_result"
    }
   ],
   "source": [
    "sol = Solution()\n",
    "nums = [1,1,1,1]\n",
    "sol.findLHS(nums)"
   ]
  },
  {
   "cell_type": "code",
   "execution_count": null,
   "metadata": {},
   "outputs": [],
   "source": []
  }
 ],
 "metadata": {
  "kernelspec": {
   "display_name": "Python 3",
   "language": "python",
   "name": "python3"
  },
  "language_info": {
   "codemirror_mode": {
    "name": "ipython",
    "version": 3
   },
   "file_extension": ".py",
   "mimetype": "text/x-python",
   "name": "python",
   "nbconvert_exporter": "python",
   "pygments_lexer": "ipython3",
   "version": "3.8.5"
  }
 },
 "nbformat": 4,
 "nbformat_minor": 4
}
