{
 "cells": [
  {
   "cell_type": "code",
   "execution_count": 5,
   "metadata": {},
   "outputs": [],
   "source": [
    "import itertools"
   ]
  },
  {
   "cell_type": "code",
   "execution_count": 55,
   "metadata": {},
   "outputs": [],
   "source": [
    "#TLE\n",
    "def containsNearbyAlmostDuplicate(nums,k,t):\n",
    "    if k == 0:\n",
    "        return False\n",
    "    lenNums = len(nums)\n",
    "    if lenNums == 1:\n",
    "        return False\n",
    "    if k > lenNums:\n",
    "        k = lenNums\n",
    "    \n",
    "    for i in range(lenNums-k+1):\n",
    "        if k+i+1 > lenNums:\n",
    "            split = lenNums\n",
    "        else:\n",
    "            split = k+i+1\n",
    "        subArray = nums[i:split]\n",
    "        if len(subArray) == 1:\n",
    "            continue\n",
    "        subArray.sort()\n",
    "        for res in itertools.permutations(subArray):\n",
    "            x = res[0]\n",
    "            y = res[1]\n",
    "            if abs(x-y) <= t:\n",
    "                return True\n",
    "    return False\n",
    "            \n",
    "        "
   ]
  },
  {
   "cell_type": "code",
   "execution_count": 56,
   "metadata": {},
   "outputs": [
    {
     "data": {
      "text/plain": [
       "False"
      ]
     },
     "execution_count": 56,
     "metadata": {},
     "output_type": "execute_result"
    }
   ],
   "source": [
    "a = [-2147483648,2147483647]\n",
    "containsNearbyAlmostDuplicate(a,1,1)"
   ]
  },
  {
   "cell_type": "code",
   "execution_count": null,
   "metadata": {},
   "outputs": [],
   "source": []
  },
  {
   "cell_type": "code",
   "execution_count": null,
   "metadata": {},
   "outputs": [],
   "source": []
  }
 ],
 "metadata": {
  "kernelspec": {
   "display_name": "Python 3",
   "language": "python",
   "name": "python3"
  },
  "language_info": {
   "codemirror_mode": {
    "name": "ipython",
    "version": 3
   },
   "file_extension": ".py",
   "mimetype": "text/x-python",
   "name": "python",
   "nbconvert_exporter": "python",
   "pygments_lexer": "ipython3",
   "version": "3.7.3"
  }
 },
 "nbformat": 4,
 "nbformat_minor": 4
}
