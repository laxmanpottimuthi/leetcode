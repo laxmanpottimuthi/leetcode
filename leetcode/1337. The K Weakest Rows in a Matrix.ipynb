{
 "cells": [
  {
   "cell_type": "code",
   "execution_count": 1,
   "metadata": {},
   "outputs": [],
   "source": [
    "from typing import List\n",
    "from collections import defaultdict,deque\n",
    "class Solution:\n",
    "    def kWeakestRowsLong(self, mat: List[List[int]], k: int) -> List[int]:\n",
    "        \n",
    "        res = []\n",
    "        resDic = defaultdict(deque)\n",
    "        for i in range(len(mat)):\n",
    "            soldiers = sum(mat[i])\n",
    "            res.append(soldiers)\n",
    "            resDic[soldiers].append(i)\n",
    "        res = sorted(res)\n",
    "        \n",
    "        ans = []\n",
    "        for i in res:\n",
    "            ans.append(resDic[i].popleft())\n",
    "        return ans[:k]\n",
    "    \n",
    "    def kWeakestRows(self, mat: List[List[int]], k: int) -> List[int]:\n",
    "        \n",
    "        res = {}\n",
    "        for i in range(len(mat)):\n",
    "            res[i] = sum(mat[i])\n",
    "        return sorted(res, key=res.get)[:k]\n",
    "        "
   ]
  },
  {
   "cell_type": "code",
   "execution_count": 2,
   "metadata": {},
   "outputs": [],
   "source": [
    "mat = [[1,1,0,0,0],\n",
    " [1,1,1,1,0],\n",
    " [1,0,0,0,0],\n",
    " [1,1,0,0,0],\n",
    " [1,1,1,1,1]]\n",
    "k = 3"
   ]
  },
  {
   "cell_type": "code",
   "execution_count": 3,
   "metadata": {},
   "outputs": [
    {
     "data": {
      "text/plain": [
       "True"
      ]
     },
     "execution_count": 3,
     "metadata": {},
     "output_type": "execute_result"
    }
   ],
   "source": [
    "sol = Solution()\n",
    "testResult = sol.kWeakestRows(mat,k) \n",
    "testResult == [2,0,3]"
   ]
  },
  {
   "cell_type": "code",
   "execution_count": null,
   "metadata": {},
   "outputs": [],
   "source": []
  },
  {
   "cell_type": "code",
   "execution_count": null,
   "metadata": {},
   "outputs": [],
   "source": []
  }
 ],
 "metadata": {
  "kernelspec": {
   "display_name": "Python 3",
   "language": "python",
   "name": "python3"
  },
  "language_info": {
   "codemirror_mode": {
    "name": "ipython",
    "version": 3
   },
   "file_extension": ".py",
   "mimetype": "text/x-python",
   "name": "python",
   "nbconvert_exporter": "python",
   "pygments_lexer": "ipython3",
   "version": "3.8.5"
  }
 },
 "nbformat": 4,
 "nbformat_minor": 4
}
