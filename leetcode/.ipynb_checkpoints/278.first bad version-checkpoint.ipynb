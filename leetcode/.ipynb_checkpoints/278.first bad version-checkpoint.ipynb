{
 "cells": [
  {
   "cell_type": "code",
   "execution_count": null,
   "metadata": {},
   "outputs": [],
   "source": [
    "def firstBadVersion(self, n):\n",
    "    low = 1\n",
    "    high = n\n",
    "    while low < high:\n",
    "        mid = (low + high) // 2\n",
    "        if isBadVersion(mid) == True:\n",
    "            high = mid\n",
    "        else:\n",
    "            low = mid+1\n",
    "    return low"
   ]
  }
 ],
 "metadata": {
  "kernelspec": {
   "display_name": "Python 3",
   "language": "python",
   "name": "python3"
  },
  "language_info": {
   "codemirror_mode": {
    "name": "ipython",
    "version": 3
   },
   "file_extension": ".py",
   "mimetype": "text/x-python",
   "name": "python",
   "nbconvert_exporter": "python",
   "pygments_lexer": "ipython3",
   "version": "3.7.3"
  }
 },
 "nbformat": 4,
 "nbformat_minor": 4
}
