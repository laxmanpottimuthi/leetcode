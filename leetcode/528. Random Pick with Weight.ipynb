{
 "cells": [
  {
   "cell_type": "code",
   "execution_count": null,
   "metadata": {},
   "outputs": [],
   "source": [
    "class Solution:\n",
    "    \n",
    "    def __init__(self, w: List[int]):\n",
    "        for i in range(1,len(w)):\n",
    "            w[i] = w[i-1] + w[i]\n",
    "        self.w = w\n",
    "\n",
    "        \n",
    "    def pickIndex(self) -> int:\n",
    "        randPick = random.random() * self.w[-1]\n",
    "        l = 0\n",
    "        r = len(self.w)\n",
    "        while l<r:\n",
    "            mid = l+ (r-l)//2\n",
    "            if randPick > self.w[mid]:\n",
    "                l = mid+1\n",
    "            else:\n",
    "                r = mid\n",
    "        return l"
   ]
  }
 ],
 "metadata": {
  "kernelspec": {
   "display_name": "Python 3",
   "language": "python",
   "name": "python3"
  },
  "language_info": {
   "codemirror_mode": {
    "name": "ipython",
    "version": 3
   },
   "file_extension": ".py",
   "mimetype": "text/x-python",
   "name": "python",
   "nbconvert_exporter": "python",
   "pygments_lexer": "ipython3",
   "version": "3.7.3"
  }
 },
 "nbformat": 4,
 "nbformat_minor": 4
}
