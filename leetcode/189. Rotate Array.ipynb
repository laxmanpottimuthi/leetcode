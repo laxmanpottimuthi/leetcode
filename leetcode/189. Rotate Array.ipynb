{
 "cells": [
  {
   "cell_type": "code",
   "execution_count": 1,
   "metadata": {},
   "outputs": [],
   "source": [
    "from typing import List\n",
    "class Solution:\n",
    "    def rotate(self, nums: List[int], k: int) -> None:\n",
    "        \"\"\"\n",
    "        Do not return anything, modify nums in-place instead.\n",
    "        \"\"\"\n",
    "        k = k % len(nums)\n",
    "        if len(nums) != 0 and len(nums) != 1 and k != 0:\n",
    "            \n",
    "            remLen = len(nums) - k\n",
    "\n",
    "            kOrg = k\n",
    "            for i in range(len(nums)):\n",
    "                tmpNum = nums[i]\n",
    "                nums[i] = nums[remLen]\n",
    "                nums[remLen] = tmpNum\n",
    "                k -= 1\n",
    "                if k == 0:\n",
    "                    remLen = len(nums) - kOrg -1\n",
    "\n",
    "                if remLen == len(nums)-1:\n",
    "                    break\n",
    "                remLen += 1\n",
    "        print(nums)\n",
    "    def withConstantSpaceAndOptimized(self, nums, k):\n",
    "            for index in range(0, k + 1):\n",
    "                pos = (index + k) % len(nums)\n",
    "                nums[pos], nums[index] = nums[index], nums[pos]\n",
    "            return nums"
   ]
  },
  {
   "cell_type": "code",
   "execution_count": 2,
   "metadata": {},
   "outputs": [],
   "source": [
    "sol = Solution()\n",
    "\n",
    "nums = [0,1,2,3,4,5]\n",
    "# sol.rotate(nums,1)\n",
    "# nums = [1]\n",
    "# sol.rotate(nums,0)"
   ]
  },
  {
   "cell_type": "code",
   "execution_count": 3,
   "metadata": {},
   "outputs": [
    {
     "data": {
      "text/plain": [
       "[1, 2, 0, 3, 4, 5]"
      ]
     },
     "execution_count": 3,
     "metadata": {},
     "output_type": "execute_result"
    }
   ],
   "source": [
    "sol.withConstantSpaceAndOptimized(nums,1)"
   ]
  },
  {
   "cell_type": "code",
   "execution_count": null,
   "metadata": {},
   "outputs": [],
   "source": []
  }
 ],
 "metadata": {
  "kernelspec": {
   "display_name": "Python 3",
   "language": "python",
   "name": "python3"
  },
  "language_info": {
   "codemirror_mode": {
    "name": "ipython",
    "version": 3
   },
   "file_extension": ".py",
   "mimetype": "text/x-python",
   "name": "python",
   "nbconvert_exporter": "python",
   "pygments_lexer": "ipython3",
   "version": "3.8.5"
  }
 },
 "nbformat": 4,
 "nbformat_minor": 4
}
