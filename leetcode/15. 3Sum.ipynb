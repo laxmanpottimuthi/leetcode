{
 "cells": [
  {
   "cell_type": "code",
   "execution_count": 1,
   "metadata": {},
   "outputs": [],
   "source": [
    "from typing import List"
   ]
  },
  {
   "cell_type": "code",
   "execution_count": null,
   "metadata": {},
   "outputs": [],
   "source": [
    "class Solution:\n",
    "    def threeSum(self, nums: List[int]) -> List[List[int]]:\n",
    "        triplets = []\n",
    "        nums.sort()\n",
    "        \n",
    "        def _helper(i):\n",
    "            head,tail = i+1,len(nums)-1\n",
    "            while head < tail:\n",
    "                if nums[head] + nums[tail] < -nums[i]:\n",
    "                    head +=1\n",
    "                elif nums[head] + nums[tail] > -nums[i]:\n",
    "                    tail -= 1\n",
    "                else:\n",
    "                    triplets.append([nums[i],nums[head],nums[tail]])\n",
    "                    head += 1\n",
    "                    tail -= 1\n",
    "                    while head < tail and nums[head] == nums[head-1]:\n",
    "                        head += 1\n",
    "            \n",
    "        \n",
    "        for i in range(len(nums)):\n",
    "            if nums[i] > 0:\n",
    "                break\n",
    "            if i == 0 or nums[i-1] != nums[i]:\n",
    "                _helper(i)\n",
    "        return triplets\n",
    "        "
   ]
  }
 ],
 "metadata": {
  "kernelspec": {
   "display_name": "Python 3",
   "language": "python",
   "name": "python3"
  },
  "language_info": {
   "codemirror_mode": {
    "name": "ipython",
    "version": 3
   },
   "file_extension": ".py",
   "mimetype": "text/x-python",
   "name": "python",
   "nbconvert_exporter": "python",
   "pygments_lexer": "ipython3",
   "version": "3.8.5"
  }
 },
 "nbformat": 4,
 "nbformat_minor": 4
}
