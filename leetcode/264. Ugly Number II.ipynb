{
 "cells": [
  {
   "cell_type": "code",
   "execution_count": 1,
   "metadata": {},
   "outputs": [],
   "source": [
    "import heapq\n",
    "\n",
    "class Solution:\n",
    "    def nthUglyNumber(self, n: int) -> int:\n",
    "        seen = {1}\n",
    "        data = [1]\n",
    "        cur = None\n",
    "        \n",
    "        for i in range(n-1):\n",
    "            cur = heapq.heappop(data)\n",
    "            if cur*2 not in seen:\n",
    "                seen.add(cur*2)\n",
    "                heapq.heappush(data, cur*2)\n",
    "            if cur*3 not in seen:\n",
    "                seen.add(cur*3)\n",
    "                heapq.heappush(data, cur*3)\n",
    "            if cur*5 not in seen:\n",
    "                seen.add(cur*5)\n",
    "                heapq.heappush(data, cur*5)\n",
    "        \n",
    "        return heapq.heappop(data)"
   ]
  },
  {
   "cell_type": "code",
   "execution_count": null,
   "metadata": {},
   "outputs": [],
   "source": [
    "def nthUglyNumber(self, n: int) -> int:\n",
    "    if n==1:\n",
    "        return 1\n",
    "    q2, q3, q5 = deque([2]), deque([3]), deque([5])\n",
    "    for _ in range(n-1):\n",
    "        nxt = min(q2[0],q3[0],q5[0])\n",
    "        if nxt==q2[0]:\n",
    "            q2.popleft()\n",
    "        if nxt==q3[0]:\n",
    "            q3.popleft()\n",
    "        if nxt==q5[0]:\n",
    "            q5.popleft()\n",
    "        q2.append(nxt*2)\n",
    "        q3.append(nxt*3)\n",
    "        q5.append(nxt*5)\n",
    "    return nxt"
   ]
  }
 ],
 "metadata": {
  "kernelspec": {
   "display_name": "Python 3",
   "language": "python",
   "name": "python3"
  },
  "language_info": {
   "codemirror_mode": {
    "name": "ipython",
    "version": 3
   },
   "file_extension": ".py",
   "mimetype": "text/x-python",
   "name": "python",
   "nbconvert_exporter": "python",
   "pygments_lexer": "ipython3",
   "version": "3.7.3"
  }
 },
 "nbformat": 4,
 "nbformat_minor": 4
}
