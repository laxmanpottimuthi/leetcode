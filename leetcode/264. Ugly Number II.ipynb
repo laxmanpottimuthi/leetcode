{
 "cells": [
  {
   "cell_type": "code",
   "execution_count": null,
   "metadata": {},
   "outputs": [],
   "source": [
    "import heapq\n",
    "\n",
    "class Solution:\n",
    "    def nthUglyNumber(self, n: int) -> int:\n",
    "        seen = {1}\n",
    "        data = [1]\n",
    "        cur = None\n",
    "        \n",
    "        for i in range(n-1):\n",
    "            cur = heapq.heappop(data)\n",
    "            if cur*2 not in seen:\n",
    "                seen.add(cur*2)\n",
    "                heapq.heappush(data, cur*2)\n",
    "            if cur*3 not in seen:\n",
    "                seen.add(cur*3)\n",
    "                heapq.heappush(data, cur*3)\n",
    "            if cur*5 not in seen:\n",
    "                seen.add(cur*5)\n",
    "                heapq.heappush(data, cur*5)\n",
    "        \n",
    "        return heapq.heappop(data)"
   ]
  }
 ],
 "metadata": {
  "kernelspec": {
   "display_name": "Python 3",
   "language": "python",
   "name": "python3"
  },
  "language_info": {
   "codemirror_mode": {
    "name": "ipython",
    "version": 3
   },
   "file_extension": ".py",
   "mimetype": "text/x-python",
   "name": "python",
   "nbconvert_exporter": "python",
   "pygments_lexer": "ipython3",
   "version": "3.7.3"
  }
 },
 "nbformat": 4,
 "nbformat_minor": 4
}
