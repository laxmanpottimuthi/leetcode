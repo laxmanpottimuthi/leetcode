{
 "cells": [
  {
   "cell_type": "code",
   "execution_count": 1,
   "metadata": {},
   "outputs": [
    {
     "ename": "SyntaxError",
     "evalue": "unexpected EOF while parsing (<ipython-input-1-ab7b56dcb5c7>, line 2)",
     "output_type": "error",
     "traceback": [
      "\u001b[0;36m  File \u001b[0;32m\"<ipython-input-1-ab7b56dcb5c7>\"\u001b[0;36m, line \u001b[0;32m2\u001b[0m\n\u001b[0;31m    \u001b[0m\n\u001b[0m    ^\u001b[0m\n\u001b[0;31mSyntaxError\u001b[0m\u001b[0;31m:\u001b[0m unexpected EOF while parsing\n"
     ]
    }
   ],
   "source": [
    "import permutations from itertools\n",
    "\n",
    "class Solution:\n",
    "    def largestTimeFromDigits(self, A: List[int]) -> str:\n",
    "        \n",
    "        res = -1\n",
    "        for r in itertools.permutations(A):\n",
    "            if (r[0]*10+r[1] <24 and (r[2]*10+r[3]) < 60):\n",
    "                t = r[0]*1000+r[1]*100+r[2]*10+r[3]\n",
    "                if t > res:\n",
    "                    res = t\n",
    "\n",
    "        if res > -1:\n",
    "            t1 = int(res / 1000)\n",
    "            t2 = int(int(res / 100) % 10 )\n",
    "            t3 = int (int( res % 100) / 10)\n",
    "            t4 = res % 10\n",
    "            return f'{t1}{t2}:{t3}{t4}'\n",
    "        else:\n",
    "            return \"\"\n",
    "        \n",
    "            \n",
    "        \n",
    "\n",
    "        \n",
    "    "
   ]
  }
 ],
 "metadata": {
  "kernelspec": {
   "display_name": "Python 3",
   "language": "python",
   "name": "python3"
  },
  "language_info": {
   "codemirror_mode": {
    "name": "ipython",
    "version": 3
   },
   "file_extension": ".py",
   "mimetype": "text/x-python",
   "name": "python",
   "nbconvert_exporter": "python",
   "pygments_lexer": "ipython3",
   "version": "3.7.3"
  }
 },
 "nbformat": 4,
 "nbformat_minor": 4
}
