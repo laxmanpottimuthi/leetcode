{
 "cells": [
  {
   "cell_type": "code",
   "execution_count": 4,
   "metadata": {},
   "outputs": [],
   "source": [
    "# Definition for singly-linked list.\n",
    "class ListNode:\n",
    "    def __init__(self, val=0, next=None):\n",
    "        self.val = val\n",
    "        self.next = next\n",
    "class Solution:\n",
    "    def deleteDuplicates(self, head: ListNode) -> ListNode:\n",
    "        if not head or not head.next:\n",
    "            return head\n",
    "        \n",
    "        returnList = ListNode(-101,head)\n",
    "        trackList = returnList\n",
    "        \n",
    "        while head:\n",
    "            \n",
    "            if head.next and head.val == head.next.val :\n",
    "                while head.next and head.val == head.next.val:\n",
    "                    head = head.next\n",
    "                \n",
    "                trackList.next = head.next\n",
    "            else:\n",
    "                trackList = trackList.next\n",
    "            head = head.next\n",
    "        return returnList.next\n",
    "    \n",
    "    def printListNode(self, listnode ):\n",
    "        if listnode == None:\n",
    "            print(\"List node none\")\n",
    "        while listnode :\n",
    "            print(listnode,listnode.val,listnode.next)\n",
    "            listnode = listnode.next\n",
    "            "
   ]
  },
  {
   "cell_type": "code",
   "execution_count": 5,
   "metadata": {},
   "outputs": [],
   "source": [
    "tmpTest1 = ListNode(val=1)\n",
    "tmpTest1.next = ListNode(val=1)\n",
    "tmpTest1.next.next = ListNode(val=1)\n",
    "tmpTest1.next.next.next  = ListNode(val=2)\n",
    "tmpTest1.next.next.next.next  = ListNode(val=3)\n",
    "tmpTest1.next.next.next.next.next  = ListNode(val=4)\n",
    "\n",
    "\n",
    "tmpTest2 = ListNode(val=1)\n",
    "tmpTest2.next = ListNode(val=1)\n",
    "tmpTest2.next.next = ListNode(val=4)"
   ]
  },
  {
   "cell_type": "code",
   "execution_count": 6,
   "metadata": {},
   "outputs": [],
   "source": [
    "sol = Solution()\n",
    "delList = sol.deleteDuplicates(tmpTest1)"
   ]
  },
  {
   "cell_type": "code",
   "execution_count": 7,
   "metadata": {},
   "outputs": [
    {
     "name": "stdout",
     "output_type": "stream",
     "text": [
      "<__main__.ListNode object at 0x104ee4340> 2 <__main__.ListNode object at 0x104edfb50>\n",
      "<__main__.ListNode object at 0x104edfb50> 3 <__main__.ListNode object at 0x104edf340>\n",
      "<__main__.ListNode object at 0x104edf340> 4 None\n"
     ]
    }
   ],
   "source": [
    "sol.printListNode(delList)"
   ]
  },
  {
   "cell_type": "code",
   "execution_count": null,
   "metadata": {},
   "outputs": [],
   "source": []
  }
 ],
 "metadata": {
  "kernelspec": {
   "display_name": "Python 3",
   "language": "python",
   "name": "python3"
  },
  "language_info": {
   "codemirror_mode": {
    "name": "ipython",
    "version": 3
   },
   "file_extension": ".py",
   "mimetype": "text/x-python",
   "name": "python",
   "nbconvert_exporter": "python",
   "pygments_lexer": "ipython3",
   "version": "3.8.5"
  }
 },
 "nbformat": 4,
 "nbformat_minor": 4
}
