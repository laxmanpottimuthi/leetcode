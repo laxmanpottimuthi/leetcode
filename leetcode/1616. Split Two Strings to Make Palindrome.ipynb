{
 "cells": [
  {
   "cell_type": "code",
   "execution_count": null,
   "metadata": {},
   "outputs": [],
   "source": [
    "class Solution:\n",
    "    def checkPalindromeFormation(self, a: str, b: str) -> bool:\n",
    "        lenStr = len(a)\n",
    "        \n",
    "        def _checkMatching(a, b):\n",
    "            i,j = 0, lenStr-1\n",
    "            \n",
    "            while i<lenStr and j > -1 and a[i] == b[j]:\n",
    "                i += 1\n",
    "                j -= 1\n",
    "            \n",
    "            return i >= j or b[i:j+1] == b[i:j+1][::-1] or a[i:j+1] == a[i:j+1][::-1]\n",
    "        \n",
    "        return _checkMatching(a,b) or _checkMatching(b,a)\n",
    "        \n",
    "        "
   ]
  }
 ],
 "metadata": {
  "kernelspec": {
   "display_name": "Python 3",
   "language": "python",
   "name": "python3"
  },
  "language_info": {
   "codemirror_mode": {
    "name": "ipython",
    "version": 3
   },
   "file_extension": ".py",
   "mimetype": "text/x-python",
   "name": "python",
   "nbconvert_exporter": "python",
   "pygments_lexer": "ipython3",
   "version": "3.8.5"
  }
 },
 "nbformat": 4,
 "nbformat_minor": 4
}
