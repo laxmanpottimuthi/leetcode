{
 "cells": [
  {
   "cell_type": "code",
   "execution_count": 1,
   "metadata": {},
   "outputs": [],
   "source": [
    "class Solution:\n",
    "    def countSubstrings(self, s: str) -> int:\n",
    "        lenS = len(s)\n",
    "        if lenS < 2 :\n",
    "            return lenS\n",
    "        def checkPal(i,j):\n",
    "            ans = 0\n",
    "            while i >= 0 and j < lenS:\n",
    "                if s[i] != s[j]:\n",
    "                    break\n",
    "                i += 1\n",
    "                j -= 1\n",
    "                ans += 1\n",
    "            return ans\n",
    "        res = 0\n",
    "        for i in range(lenS):\n",
    "            res += checkPal(i,i)\n",
    "            res += checkPal(i,i+1)\n",
    "        return res"
   ]
  },
  {
   "cell_type": "code",
   "execution_count": null,
   "metadata": {},
   "outputs": [],
   "source": []
  }
 ],
 "metadata": {
  "kernelspec": {
   "display_name": "Python 3",
   "language": "python",
   "name": "python3"
  },
  "language_info": {
   "codemirror_mode": {
    "name": "ipython",
    "version": 3
   },
   "file_extension": ".py",
   "mimetype": "text/x-python",
   "name": "python",
   "nbconvert_exporter": "python",
   "pygments_lexer": "ipython3",
   "version": "3.8.5"
  }
 },
 "nbformat": 4,
 "nbformat_minor": 4
}
