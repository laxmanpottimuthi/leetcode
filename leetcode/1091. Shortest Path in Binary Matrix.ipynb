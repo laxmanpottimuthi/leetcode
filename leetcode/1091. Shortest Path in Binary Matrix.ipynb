{
 "cells": [
  {
   "cell_type": "code",
   "execution_count": 1,
   "metadata": {},
   "outputs": [],
   "source": [
    "from typing import List\n",
    "from collections import deque"
   ]
  },
  {
   "cell_type": "code",
   "execution_count": 2,
   "metadata": {},
   "outputs": [],
   "source": [
    "class Solution:\n",
    "    def shortestPathBinaryMatrix(self, grid: List[List[int]]) -> int:\n",
    "        if grid[0][0] or grid[-1][-1]:\n",
    "            return -1\n",
    "        gridLen = len(grid)\n",
    "        queue = deque()\n",
    "        queue.append((0,0,1))\n",
    "        visited = set()\n",
    "        while queue:\n",
    "            x,y,distance = queue.popleft()\n",
    "            if x == gridLen-1 and y == gridLen-1:\n",
    "                return distance\n",
    "            else:\n",
    "                for i,j in ([[-1,-1],[-1,0],[-1,1],[0,1],[1,1],[1,0],[1,-1],[0,-1]]):\n",
    "                    if 0<=x+i<gridLen and 0<=y+j<gridLen and grid[x+i][y+j] == 0 and (x+i,y+j) not in visited:\n",
    "                        queue.append((x+i,y+j,distance+1))\n",
    "                        visited.add((x+i,y+j))\n",
    "        return -1\n",
    "        \n",
    "        "
   ]
  },
  {
   "cell_type": "code",
   "execution_count": 3,
   "metadata": {},
   "outputs": [],
   "source": [
    "sol = Solution()\n",
    "\n",
    "# grid = [[0,0,0],[1,1,0],[1,1,0]]\n",
    "grid = [[0,1],[1,0]]\n",
    "sol.shortestPathBinaryMatrix(grid)"
   ]
  },
  {
   "cell_type": "code",
   "execution_count": null,
   "metadata": {},
   "outputs": [],
   "source": []
  }
 ],
 "metadata": {
  "kernelspec": {
   "display_name": "Python 3",
   "language": "python",
   "name": "python3"
  },
  "language_info": {
   "codemirror_mode": {
    "name": "ipython",
    "version": 3
   },
   "file_extension": ".py",
   "mimetype": "text/x-python",
   "name": "python",
   "nbconvert_exporter": "python",
   "pygments_lexer": "ipython3",
   "version": "3.8.5"
  }
 },
 "nbformat": 4,
 "nbformat_minor": 4
}
