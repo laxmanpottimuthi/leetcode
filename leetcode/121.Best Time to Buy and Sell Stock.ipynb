{
 "cells": [
  {
   "cell_type": "code",
   "execution_count": 1,
   "metadata": {},
   "outputs": [],
   "source": [
    "class Solution:\n",
    "    def maxProfit(self, prices):\n",
    "        localMax = 0\n",
    "        globalMax = 0\n",
    "        for i in range(1, len(prices)):\n",
    "            t = localMax+prices[i]-prices[i-1]\n",
    "            localMax = 0 if 0 > t else t\n",
    "            if globalMax < localMax:\n",
    "                globalMax = localMax\n",
    "        return globalMax"
   ]
  },
  {
   "cell_type": "code",
   "execution_count": null,
   "metadata": {},
   "outputs": [],
   "source": []
  },
  {
   "cell_type": "code",
   "execution_count": null,
   "metadata": {},
   "outputs": [],
   "source": [
    "def maxProfit(self, prices: List[int]) -> int:\n",
    "        if not prices:\n",
    "            return 0\n",
    "        lenPrices = len(prices)\n",
    "        if lenPrices == 1:\n",
    "            return 0\n",
    "        lMax,gMax = 0,0\n",
    "        for i in range(1, lenPrices):\n",
    "            lMax = lMax + prices[i] - prices[i-1]\n",
    "            if lMax < 0:\n",
    "                lMax = 0\n",
    "            if gMax < lMax:\n",
    "                gMax = lMax\n",
    "        return gMax"
   ]
  }
 ],
 "metadata": {
  "kernelspec": {
   "display_name": "Python 3",
   "language": "python",
   "name": "python3"
  },
  "language_info": {
   "codemirror_mode": {
    "name": "ipython",
    "version": 3
   },
   "file_extension": ".py",
   "mimetype": "text/x-python",
   "name": "python",
   "nbconvert_exporter": "python",
   "pygments_lexer": "ipython3",
   "version": "3.7.3"
  }
 },
 "nbformat": 4,
 "nbformat_minor": 4
}
