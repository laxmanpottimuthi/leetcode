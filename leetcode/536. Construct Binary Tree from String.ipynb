{
 "cells": [
  {
   "cell_type": "code",
   "execution_count": 2,
   "metadata": {},
   "outputs": [],
   "source": [
    "# Definition for a binary tree node.\n",
    "# Definition for a binary tree node.\n",
    "class TreeNode:\n",
    "    def __init__(self, val=0, left=None, right=None):\n",
    "        self.val = val\n",
    "        self.left = left\n",
    "        self.right = right\n",
    "node = TreeNode(val= 1, \n",
    "                left= TreeNode(val= 2, \n",
    "                               left= TreeNode(val= 4, \n",
    "                                              left= None, \n",
    "                                              right= None), \n",
    "                               right= None), \n",
    "                right= TreeNode(val= 3, \n",
    "                                left= None, \n",
    "                                right= None))\n"
   ]
  },
  {
   "cell_type": "code",
   "execution_count": 19,
   "metadata": {},
   "outputs": [],
   "source": [
    "class Solution:\n",
    "    def __init__(self):\n",
    "        self.node = TreeNode(val = 0)\n",
    "        \n",
    "    def str2tree(self, s: str) -> TreeNode:\n",
    "        if not s:\n",
    "            return None\n",
    "        if s[0] == \"-\":\n",
    "            p = 1\n",
    "        else:\n",
    "            p = 0\n",
    "        tempNode = TreeNode(val = s[0:p+1])\n",
    "        tempStr = \"\"\n",
    "        count = 0\n",
    "        if len(s) == 1:\n",
    "            return tempNode\n",
    "        elif len(s) == 2 and p == 1:\n",
    "            return tempNode\n",
    "        openB,closeB = 0,0\n",
    "        # print(tempNode,\"s\",p)  \n",
    "        for i in range(1,len(s[1:])+1):\n",
    "            if s[i] == \"-\":\n",
    "                tempStr += s[i]\n",
    "            if s[i] == \")\":\n",
    "                openB -= 1\n",
    "                \n",
    "                if openB == 0:\n",
    "                    count += 1\n",
    "                    if tempStr:\n",
    "                        if count == 1:\n",
    "                            tempNode.left = self.str2tree(tempStr[1:]+\")\")\n",
    "                        if count == 2:\n",
    "                            tempNode.right = self.str2tree(tempStr[1:]+\")\")\n",
    "\n",
    "                    tempStr = \"\"\n",
    "                else:\n",
    "                    tempStr += s[i]\n",
    "                \n",
    "            elif s[i] == \"(\":\n",
    "                openB += 1\n",
    "                if openB <1:\n",
    "                    continue\n",
    "                else:\n",
    "                    tempStr += s[i]\n",
    "            else:\n",
    "                if openB :\n",
    "                    tempStr += s[i]\n",
    "        # print(tempNode)\n",
    "        return tempNode\n",
    "        \n",
    "        "
   ]
  },
  {
   "cell_type": "code",
   "execution_count": 20,
   "metadata": {},
   "outputs": [
    {
     "data": {
      "text/plain": [
       "<__main__.TreeNode at 0x10ec73040>"
      ]
     },
     "execution_count": 20,
     "metadata": {},
     "output_type": "execute_result"
    }
   ],
   "source": [
    "sol = Solution()\n",
    "tNode = sol.str2tree(s = \"-4(2(3)(-1))(-6(5)(7))\")\n",
    "tNode"
   ]
  }
 ],
 "metadata": {
  "kernelspec": {
   "display_name": "Python 3",
   "language": "python",
   "name": "python3"
  },
  "language_info": {
   "codemirror_mode": {
    "name": "ipython",
    "version": 3
   },
   "file_extension": ".py",
   "mimetype": "text/x-python",
   "name": "python",
   "nbconvert_exporter": "python",
   "pygments_lexer": "ipython3",
   "version": "3.8.5"
  }
 },
 "nbformat": 4,
 "nbformat_minor": 4
}
