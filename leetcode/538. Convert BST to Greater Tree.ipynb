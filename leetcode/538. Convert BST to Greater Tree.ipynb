{
 "cells": [
  {
   "cell_type": "code",
   "execution_count": null,
   "metadata": {},
   "outputs": [],
   "source": [
    "# Definition for a binary tree node.\n",
    "class TreeNode:\n",
    "    def __init__(self, val=0, left=None, right=None):\n",
    "        self.val = val\n",
    "        self.left = left\n",
    "        self.right = right\n",
    "\n",
    "        \n",
    "        \n",
    "        \n",
    "class Solution:\n",
    "    def __init__(self):\n",
    "        self.treeSum = 0\n",
    "    def convertBST(self, root: TreeNode) -> TreeNode:\n",
    "        if root:\n",
    "            root.right = self.convertBST(root.right)\n",
    "            self.treeSum += root.val\n",
    "            root.val = self.treeSum\n",
    "            root.left = self.convertBST(root.left)\n",
    "        return root\n",
    "        "
   ]
  }
 ],
 "metadata": {
  "kernelspec": {
   "display_name": "Python 3",
   "language": "python",
   "name": "python3"
  },
  "language_info": {
   "codemirror_mode": {
    "name": "ipython",
    "version": 3
   },
   "file_extension": ".py",
   "mimetype": "text/x-python",
   "name": "python",
   "nbconvert_exporter": "python",
   "pygments_lexer": "ipython3",
   "version": "3.8.5"
  }
 },
 "nbformat": 4,
 "nbformat_minor": 4
}
