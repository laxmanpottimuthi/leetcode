{
 "cells": [
  {
   "cell_type": "code",
   "execution_count": 111,
   "metadata": {},
   "outputs": [],
   "source": [
    "from typing import List\n",
    "from collections import deque,defaultdict\n",
    "\n",
    "class Solution:\n",
    "    def canFinish(self, numCourses: int, prerequisites: List[List[int]]) -> bool:\n",
    "        if not prerequisites:\n",
    "            return True\n",
    "        adjNodes = self.createGraph(prerequisites)\n",
    "        return self.checkForCycle(numCourses, adjNodes)\n",
    "    \n",
    "    def createGraph(self, prerequisites):\n",
    "        adjNodes = defaultdict(list)\n",
    "        for i in prerequisites:\n",
    "            c1,c2 = i[0],i[1]\n",
    "            adjNodes[c2].append(c1)\n",
    "        return adjNodes\n",
    "    \n",
    "    def checkForCycle(self, numCourses, adjNodes):\n",
    "        return self.dfs(numCourses, adjNodes)\n",
    "#         return self.backTracking(numCourses, adjNodes)\n",
    "     \n",
    "    #Backtracking\n",
    "    def isCyclic(self,course, adjNodes, visited,adjNodesSet):\n",
    "        if visited[course]:\n",
    "            return True\n",
    "        if course not in adjNodesSet:\n",
    "            return False\n",
    "        visited[course] = True\n",
    "        for adjCourse in adjNodes[course]:\n",
    "            ret = self.isCyclic(adjCourse, adjNodes, visited, adjNodesSet)\n",
    "            if ret:\n",
    "                return True\n",
    "        visited[course] = False\n",
    "        return False\n",
    "    \n",
    "    def backTracking(self,numCourses, adjNodes):\n",
    "        print(adjNodes)\n",
    "        visited = set()\n",
    "        adjNodesSet = set(adjNodes.keys())\n",
    "        path = [False]*numCourses\n",
    "        for i in adjNodesSet:\n",
    "            res = self.isCyclic(i, adjNodes, path, adjNodesSet)\n",
    "            if res:\n",
    "                \n",
    "                return False\n",
    "        return True\n",
    "    \n",
    "    #Postorder DFS\n",
    "    def isCyclic(self,course, adjNodes, path, checked):\n",
    "        if checked[course]:\n",
    "            return False\n",
    "        if path[course]:\n",
    "            return True\n",
    "        path[course] = True\n",
    "        \n",
    "        for adjNode in adjNodes[course]:\n",
    "            ret = self.isCyclic(adjNode, adjNodes, path, checked)\n",
    "            if ret:\n",
    "                return True\n",
    "        path[course] = False\n",
    "        checked[course] =True\n",
    "        return False\n",
    "    \n",
    "    def dfs(self,numCourses, adjNodes):\n",
    "        print(\"dfs,\",adjNodes)\n",
    "        path = [False]*numCourses #Visited\n",
    "        checked = [False]*numCourses\n",
    "        for i in range(numCourses):\n",
    "            res = self.isCyclic(i, adjNodes, path, checked)\n",
    "            if res:\n",
    "                return False\n",
    "        return True\n",
    "        \n",
    "    "
   ]
  },
  {
   "cell_type": "code",
   "execution_count": 112,
   "metadata": {
    "scrolled": true
   },
   "outputs": [],
   "source": [
    "sol = Solution()\n",
    "# sol.canFinish(5, [[1,4],[2,4],[3,1],[3,2]])"
   ]
  },
  {
   "cell_type": "code",
   "execution_count": 113,
   "metadata": {},
   "outputs": [],
   "source": [
    "a = 100\n",
    "b = [[1,0],[2,0],[2,1],[3,1],[3,2],[4,2],[4,3],[5,3],[5,4],[6,4],[6,5],[7,5],[7,6],[8,6],[8,7],[9,7],[9,8],[10,8],[10,9],[11,9],[11,10],[12,10],[12,11],[13,11],[13,12],[14,12],[14,13],[15,13],[15,14],[16,14],[16,15],[17,15],[17,16],[18,16],[18,17],[19,17],[19,18],[20,18],[20,19],[21,19],[21,20],[22,20],[22,21],[23,21],[23,22],[24,22],[24,23],[25,23],[25,24],[26,24],[26,25],[27,25],[27,26],[28,26],[28,27],[29,27],[29,28],[30,28],[30,29],[31,29],[31,30],[32,30],[32,31],[33,31],[33,32],[34,32],[34,33],[35,33],[35,34],[36,34],[36,35],[37,35],[37,36],[38,36],[38,37],[39,37],[39,38],[40,38],[40,39],[41,39],[41,40],[42,40],[42,41],[43,41],[43,42],[44,42],[44,43],[45,43],[45,44],[46,44],[46,45],[47,45],[47,46],[48,46],[48,47],[49,47],[49,48],[50,48],[50,49],[51,49],[51,50],[52,50],[52,51],[53,51],[53,52],[54,52],[54,53],[55,53],[55,54],[56,54],[56,55],[57,55],[57,56],[58,56],[58,57],[59,57],[59,58],[60,58],[60,59],[61,59],[61,60],[62,60],[62,61],[63,61],[63,62],[64,62],[64,63],[65,63],[65,64],[66,64],[66,65],[67,65],[67,66],[68,66],[68,67],[69,67],[69,68],[70,68],[70,69],[71,69],[71,70],[72,70],[72,71],[73,71],[73,72],[74,72],[74,73],[75,73],[75,74],[76,74],[76,75],[77,75],[77,76],[78,76],[78,77],[79,77],[79,78],[80,78],[80,79],[81,79],[81,80],[82,80],[82,81],[83,81],[83,82],[84,82],[84,83],[85,83],[85,84],[86,84],[86,85],[87,85],[87,86],[88,86],[88,87],[89,87],[89,88],[90,88],[90,89],[91,89],[91,90],[92,90],[92,91],[93,91],[93,92],[94,92],[94,93],[95,93],[95,94],[96,94],[96,95],[97,95],[97,96],[98,96],[98,97],[99,97]]"
   ]
  },
  {
   "cell_type": "code",
   "execution_count": 114,
   "metadata": {},
   "outputs": [
    {
     "name": "stdout",
     "output_type": "stream",
     "text": [
      "dfs, defaultdict(<class 'list'>, {0: [1, 2], 1: [2, 3], 2: [3, 4], 3: [4, 5], 4: [5, 6], 5: [6, 7], 6: [7, 8], 7: [8, 9], 8: [9, 10], 9: [10, 11], 10: [11, 12], 11: [12, 13], 12: [13, 14], 13: [14, 15], 14: [15, 16], 15: [16, 17], 16: [17, 18], 17: [18, 19], 18: [19, 20], 19: [20, 21], 20: [21, 22], 21: [22, 23], 22: [23, 24], 23: [24, 25], 24: [25, 26], 25: [26, 27], 26: [27, 28], 27: [28, 29], 28: [29, 30], 29: [30, 31], 30: [31, 32], 31: [32, 33], 32: [33, 34], 33: [34, 35], 34: [35, 36], 35: [36, 37], 36: [37, 38], 37: [38, 39], 38: [39, 40], 39: [40, 41], 40: [41, 42], 41: [42, 43], 42: [43, 44], 43: [44, 45], 44: [45, 46], 45: [46, 47], 46: [47, 48], 47: [48, 49], 48: [49, 50], 49: [50, 51], 50: [51, 52], 51: [52, 53], 52: [53, 54], 53: [54, 55], 54: [55, 56], 55: [56, 57], 56: [57, 58], 57: [58, 59], 58: [59, 60], 59: [60, 61], 60: [61, 62], 61: [62, 63], 62: [63, 64], 63: [64, 65], 64: [65, 66], 65: [66, 67], 66: [67, 68], 67: [68, 69], 68: [69, 70], 69: [70, 71], 70: [71, 72], 71: [72, 73], 72: [73, 74], 73: [74, 75], 74: [75, 76], 75: [76, 77], 76: [77, 78], 77: [78, 79], 78: [79, 80], 79: [80, 81], 80: [81, 82], 81: [82, 83], 82: [83, 84], 83: [84, 85], 84: [85, 86], 85: [86, 87], 86: [87, 88], 87: [88, 89], 88: [89, 90], 89: [90, 91], 90: [91, 92], 91: [92, 93], 92: [93, 94], 93: [94, 95], 94: [95, 96], 95: [96, 97], 96: [97, 98], 97: [98, 99]})\n"
     ]
    },
    {
     "data": {
      "text/plain": [
       "True"
      ]
     },
     "execution_count": 114,
     "metadata": {},
     "output_type": "execute_result"
    }
   ],
   "source": [
    "sol.canFinish(a,b)"
   ]
  },
  {
   "cell_type": "code",
   "execution_count": null,
   "metadata": {},
   "outputs": [],
   "source": []
  }
 ],
 "metadata": {
  "kernelspec": {
   "display_name": "Python 3",
   "language": "python",
   "name": "python3"
  },
  "language_info": {
   "codemirror_mode": {
    "name": "ipython",
    "version": 3
   },
   "file_extension": ".py",
   "mimetype": "text/x-python",
   "name": "python",
   "nbconvert_exporter": "python",
   "pygments_lexer": "ipython3",
   "version": "3.8.5"
  }
 },
 "nbformat": 4,
 "nbformat_minor": 4
}
