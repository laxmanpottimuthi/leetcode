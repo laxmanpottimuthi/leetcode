{
 "cells": [
  {
   "cell_type": "code",
   "execution_count": 62,
   "metadata": {},
   "outputs": [],
   "source": [
    "# from typing import List\n",
    "# class Solution:\n",
    "#     def findUnsortedSubarray(self, nums: List[int]) -> int:\n",
    "#         lenNums = len(nums)\n",
    "#         if lenNums == 0 or lenNums == 1:\n",
    "#             return 0\n",
    "#         maxLen,currLen = 1,1\n",
    "#         tailPtr, headPtr = 0,0\n",
    "#         for i,num in enumerate(nums):\n",
    "#             if i == 0:\n",
    "#                 continue\n",
    "#             if num >= nums[i-1]:\n",
    "#                 if currLen == 1:\n",
    "#                     continue\n",
    "#                 else:\n",
    "#                     if nums[tailPtr] < num:\n",
    "#                         tailPtr = i\n",
    "#                         print(currLen,maxLen)\n",
    "#                         maxLen = currLen + maxLen - 1\n",
    "#                         currLen = 1\n",
    "#                     else:\n",
    "#                         currLen += 1\n",
    "#             elif num < nums[i-1]:\n",
    "#                 if nums[tailPtr] < num:\n",
    "#                     currLen = currLen + i - tailPtr +1\n",
    "#                 else:\n",
    "#                     currLen += 1\n",
    "#                 tailPtr = i-1\n",
    "                \n",
    "                \n",
    "#         if maxLen == 1:\n",
    "#             return 0\n",
    "#         if currLen == 1:\n",
    "#             return maxLen\n",
    "#         return maxLen+currLen"
   ]
  },
  {
   "cell_type": "code",
   "execution_count": 66,
   "metadata": {},
   "outputs": [],
   "source": [
    "#Using sorting:\n",
    "from typing import List\n",
    "class Solution:\n",
    "    def findUnsortedSubarray(self, nums: List[int]) -> int:\n",
    "        lenNums = len(nums)\n",
    "        if lenNums == 0 or lenNums == 1:\n",
    "            return 0\n",
    "        numsNew = sorted(nums)\n",
    "        start,end = len(nums),0\n",
    "        for i in range(len(nums)):\n",
    "            if nums[i] != numsNew[i]:\n",
    "                start = min(start,i)\n",
    "                end = max(end,i)\n",
    "        \n",
    "        return end-start+1 if end-start>=0 else 0\n",
    "        \n",
    "        "
   ]
  },
  {
   "cell_type": "code",
   "execution_count": 92,
   "metadata": {},
   "outputs": [],
   "source": [
    "#Using two passes and two pointers:\n",
    "from typing import List\n",
    "class Solution:\n",
    "    def findUnsortedSubarray(self, nums: List[int]) -> int:\n",
    "        lenNums = len(nums)\n",
    "        if lenNums == 0 or lenNums == 1:\n",
    "            return 0\n",
    "        tailPtr, headPtr = 0,0\n",
    "        leftBoundary,rightBoundary = lenNums,0\n",
    "        for i,num in enumerate(nums):\n",
    "            if i == 0:\n",
    "                continue\n",
    "            if num < nums[i-1]:\n",
    "                leftBoundary = i-1\n",
    "                break\n",
    "        print(leftBoundary)\n",
    "        for i in range(lenNums-2,-1,-1):\n",
    "            print(\"i\",i,\"num\",num,\"  nums[i+1] \",nums[i+1])\n",
    "            if nums[i] > nums[i+1]:\n",
    "                rightBoundary = i+1\n",
    "                break\n",
    "        print(rightBoundary)\n",
    "        return rightBoundary-leftBoundary+1 if rightBoundary-leftBoundary>=0 else 0\n",
    "        \n",
    "        "
   ]
  },
  {
   "cell_type": "code",
   "execution_count": 122,
   "metadata": {},
   "outputs": [],
   "source": [
    "class Solution:\n",
    "    def findUnsortedSubarray(self, nums: List[int]) -> int:\n",
    "        lenNums = len(nums)\n",
    "        if lenNums == 0 or lenNums == 1:\n",
    "            return 0\n",
    "        tailPtr,headPtr = lenNums-1,0\n",
    "        leftBoundary,rightBoundary = lenNums,0\n",
    "        for i in range(lenNums-2,-1,-1):\n",
    "#             print(\"i\",i,\"num\",num,\"  nums[i+1] \",nums[i+1])\n",
    "            if nums[i] > nums[i+1]:\n",
    "                if nums[tailPtr] == nums[i]:\n",
    "                    tailPtr = i+1\n",
    "                rightBoundary = tailPtr\n",
    "                break\n",
    "            if nums[i] < nums[i+1]:\n",
    "                tailPtr -= 1\n",
    "                \n",
    "        for i,num in enumerate(nums):\n",
    "            if i == 0:\n",
    "                continue\n",
    "            if num < nums[i-1]:\n",
    "                \n",
    "                leftBoundary = headPtr\n",
    "                break\n",
    "            elif num > nums[i-1]:\n",
    "                headPtr += 1\n",
    "        \n",
    "        \n",
    "#         print(leftBoundary, rightBoundary)\n",
    "        return rightBoundary-leftBoundary+1 if rightBoundary-leftBoundary>=0 else 0"
   ]
  },
  {
   "cell_type": "code",
   "execution_count": 123,
   "metadata": {},
   "outputs": [
    {
     "data": {
      "text/plain": [
       "5"
      ]
     },
     "execution_count": 123,
     "metadata": {},
     "output_type": "execute_result"
    }
   ],
   "source": [
    "sol = Solution()\n",
    "nums = [2,6,4,8,10,9,15]\n",
    "# nums=[2,1]\n",
    "# nums = [1,3,2,3,3]\n",
    "# nums = [2,3,3,2,4]\n",
    "# nums = [1,2,4,5,3]\n",
    "sol.findUnsortedSubarray(nums)"
   ]
  },
  {
   "cell_type": "code",
   "execution_count": 131,
   "metadata": {},
   "outputs": [
    {
     "data": {
      "text/plain": [
       "3"
      ]
     },
     "execution_count": 131,
     "metadata": {},
     "output_type": "execute_result"
    }
   ],
   "source": [
    "class Solution:\n",
    "    def findUnsortedSubarray(self, nums: List[int]) -> int:\n",
    "        ans = 0\n",
    "        left = len(nums)-1\n",
    "        max_so_far = float('-inf')\n",
    "        for i, n in enumerate(nums):\n",
    "            # if num is new max, update and continue\n",
    "            if n >= max_so_far:\n",
    "                max_so_far = n\n",
    "            # else you need to find the left-most num for which sorting the subarray is sufficient\n",
    "            else:\n",
    "                left = min(left, i-1)\n",
    "                while left >= 0 and nums[left] > n:\n",
    "                    left -= 1\n",
    "                ans = i-left\n",
    "        return ans\n",
    "    \n",
    "sol = Solution()\n",
    "nums = [2,6,4,8,10,9,15]\n",
    "nums=[2,1]\n",
    "nums = [1,3,2,3,3]\n",
    "nums = [2,3,3,2,4]\n",
    "nums = [1,2,4,5,3]\n",
    "sol.findUnsortedSubarray(nums)"
   ]
  },
  {
   "cell_type": "code",
   "execution_count": 136,
   "metadata": {},
   "outputs": [
    {
     "name": "stdout",
     "output_type": "stream",
     "text": [
      "leftpr 6\n",
      "leftpr 0\n"
     ]
    },
    {
     "data": {
      "text/plain": [
       "5"
      ]
     },
     "execution_count": 136,
     "metadata": {},
     "output_type": "execute_result"
    }
   ],
   "source": [
    "#Two passes. Worst case O(2n) space O(1)\n",
    "class Solution:\n",
    "    def findUnsortedSubarray(self, nums: List[int]) -> int:\n",
    "        lenNums = len(nums)\n",
    "        if lenNums == 0 or lenNums == 1:\n",
    "            return 0\n",
    "        \n",
    "        res = 0\n",
    "        maxSoFar = float('-inf')\n",
    "        leftPtr = lenNums-1\n",
    "        for i,n in enumerate(nums):\n",
    "            if n >= maxSoFar:\n",
    "                maxSoFar = n\n",
    "            else:\n",
    "                print(\"leftpr\",leftPtr)\n",
    "                leftPtr = min(leftPtr,i-1)\n",
    "                while leftPtr >= 0 and nums[leftPtr] > n:\n",
    "                    leftPtr -= 1\n",
    "                res = i - leftPtr\n",
    "        return res\n",
    "sol = Solution()\n",
    "nums = [2,6,4,8,10,9,15]\n",
    "# nums = [2,1]\n",
    "# nums = [1,3,2,3,3]\n",
    "# nums = [2,3,3,2,4]\n",
    "# nums = [1,2,4,5,3]\n",
    "sol.findUnsortedSubarray(nums)            "
   ]
  },
  {
   "cell_type": "code",
   "execution_count": null,
   "metadata": {},
   "outputs": [],
   "source": []
  },
  {
   "cell_type": "code",
   "execution_count": null,
   "metadata": {},
   "outputs": [],
   "source": []
  }
 ],
 "metadata": {
  "kernelspec": {
   "display_name": "Python 3",
   "language": "python",
   "name": "python3"
  },
  "language_info": {
   "codemirror_mode": {
    "name": "ipython",
    "version": 3
   },
   "file_extension": ".py",
   "mimetype": "text/x-python",
   "name": "python",
   "nbconvert_exporter": "python",
   "pygments_lexer": "ipython3",
   "version": "3.8.5"
  }
 },
 "nbformat": 4,
 "nbformat_minor": 4
}
