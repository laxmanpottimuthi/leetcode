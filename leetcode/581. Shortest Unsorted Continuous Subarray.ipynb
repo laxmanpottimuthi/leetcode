{
 "cells": [
  {
   "cell_type": "code",
   "execution_count": 62,
   "metadata": {},
   "outputs": [],
   "source": [
    "# from typing import List\n",
    "# class Solution:\n",
    "#     def findUnsortedSubarray(self, nums: List[int]) -> int:\n",
    "#         lenNums = len(nums)\n",
    "#         if lenNums == 0 or lenNums == 1:\n",
    "#             return 0\n",
    "#         maxLen,currLen = 1,1\n",
    "#         tailPtr, headPtr = 0,0\n",
    "#         for i,num in enumerate(nums):\n",
    "#             if i == 0:\n",
    "#                 continue\n",
    "#             if num >= nums[i-1]:\n",
    "#                 if currLen == 1:\n",
    "#                     continue\n",
    "#                 else:\n",
    "#                     if nums[tailPtr] < num:\n",
    "#                         tailPtr = i\n",
    "#                         print(currLen,maxLen)\n",
    "#                         maxLen = currLen + maxLen - 1\n",
    "#                         currLen = 1\n",
    "#                     else:\n",
    "#                         currLen += 1\n",
    "#             elif num < nums[i-1]:\n",
    "#                 if nums[tailPtr] < num:\n",
    "#                     currLen = currLen + i - tailPtr +1\n",
    "#                 else:\n",
    "#                     currLen += 1\n",
    "#                 tailPtr = i-1\n",
    "                \n",
    "                \n",
    "#         if maxLen == 1:\n",
    "#             return 0\n",
    "#         if currLen == 1:\n",
    "#             return maxLen\n",
    "#         return maxLen+currLen"
   ]
  },
  {
   "cell_type": "code",
   "execution_count": 66,
   "metadata": {},
   "outputs": [],
   "source": [
    "#Using sorting:\n",
    "from typing import List\n",
    "class Solution:\n",
    "    def findUnsortedSubarray(self, nums: List[int]) -> int:\n",
    "        lenNums = len(nums)\n",
    "        if lenNums == 0 or lenNums == 1:\n",
    "            return 0\n",
    "        numsNew = sorted(nums)\n",
    "        start,end = len(nums),0\n",
    "        for i in range(len(nums)):\n",
    "            if nums[i] != numsNew[i]:\n",
    "                start = min(start,i)\n",
    "                end = max(end,i)\n",
    "        \n",
    "        return end-start+1 if end-start>=0 else 0\n",
    "        \n",
    "        "
   ]
  },
  {
   "cell_type": "code",
   "execution_count": 67,
   "metadata": {},
   "outputs": [
    {
     "data": {
      "text/plain": [
       "5"
      ]
     },
     "execution_count": 67,
     "metadata": {},
     "output_type": "execute_result"
    }
   ],
   "source": [
    "sol = Solution()\n",
    "nums = [2,6,4,8,10,9,15]\n",
    "\n",
    "sol.findUnsortedSubarray(nums)"
   ]
  },
  {
   "cell_type": "code",
   "execution_count": null,
   "metadata": {},
   "outputs": [],
   "source": []
  }
 ],
 "metadata": {
  "kernelspec": {
   "display_name": "Python 3",
   "language": "python",
   "name": "python3"
  },
  "language_info": {
   "codemirror_mode": {
    "name": "ipython",
    "version": 3
   },
   "file_extension": ".py",
   "mimetype": "text/x-python",
   "name": "python",
   "nbconvert_exporter": "python",
   "pygments_lexer": "ipython3",
   "version": "3.8.5"
  }
 },
 "nbformat": 4,
 "nbformat_minor": 4
}
