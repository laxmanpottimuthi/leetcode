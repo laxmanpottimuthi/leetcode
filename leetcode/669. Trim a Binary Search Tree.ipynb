{
 "cells": [
  {
   "cell_type": "code",
   "execution_count": 1,
   "metadata": {},
   "outputs": [],
   "source": [
    "# Definition for a binary tree node.\n",
    "class TreeNode:\n",
    "    def __init__(self, val=0, left=None, right=None):\n",
    "        self.val = val\n",
    "        self.left = left\n",
    "        self.right = right\n",
    "class Solution:\n",
    "    def trimBST(self, root: TreeNode, low: int, high: int) -> TreeNode:\n",
    "        if not root:\n",
    "            return root\n",
    "        \n",
    "        if root.val < low:\n",
    "            return self.trimBST(root.right,low,high)\n",
    "        if root.val > high:\n",
    "            return self.trimBST(root.left,low,high)\n",
    "        if low <= root.val <= high:\n",
    "            if root.left:\n",
    "                root.left = self.trimBST(root.left,low,high)\n",
    "            if root.right:\n",
    "                root.right = self.trimBST(root.right,low,high)\n",
    "        return root"
   ]
  },
  {
   "cell_type": "code",
   "execution_count": null,
   "metadata": {},
   "outputs": [],
   "source": []
  }
 ],
 "metadata": {
  "kernelspec": {
   "display_name": "Python 3",
   "language": "python",
   "name": "python3"
  },
  "language_info": {
   "codemirror_mode": {
    "name": "ipython",
    "version": 3
   },
   "file_extension": ".py",
   "mimetype": "text/x-python",
   "name": "python",
   "nbconvert_exporter": "python",
   "pygments_lexer": "ipython3",
   "version": "3.8.5"
  }
 },
 "nbformat": 4,
 "nbformat_minor": 4
}
