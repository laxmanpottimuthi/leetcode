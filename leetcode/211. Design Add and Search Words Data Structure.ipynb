{
 "cells": [
  {
   "cell_type": "code",
   "execution_count": 11,
   "metadata": {},
   "outputs": [],
   "source": [
    "\n",
    "class Trie:\n",
    "    def __init__(self):\n",
    "        self.children = {}\n",
    "        self.endWord = False\n",
    "\n",
    "\n",
    "class WordDictionary:\n",
    "\n",
    "    def __init__(self):\n",
    "        \"\"\"\n",
    "        Initialize your data structure here.\n",
    "        \"\"\"\n",
    "        self.dictionary = Trie()\n",
    "        \n",
    "\n",
    "    def addWord(self, word: str) -> None:\n",
    "        currentNode = self.dictionary\n",
    "        \n",
    "        for char in word:\n",
    "            if not char in currentNode.children:\n",
    "                currentNode.children[char] = Trie()\n",
    "            currentNode = currentNode.children[char]\n",
    "        currentNode.endWord = True\n",
    "\n",
    "    def print(self):\n",
    "        root = self.dictionary\n",
    "        def _print(root):\n",
    "            if root:\n",
    "                print(root, root.children,root.endWord)\n",
    "                if root.children:\n",
    "                    for ch in root.children:\n",
    "                        _print(root.children[ch])\n",
    "        _print(root)\n",
    "        \n",
    "    def search(self, word: str) -> bool:\n",
    "        \n",
    "        def _searchNode(word, currentNode):\n",
    "\n",
    "            for i,char in enumerate(word):\n",
    "\n",
    "                if char not in currentNode.children:\n",
    "                    if char == \".\":\n",
    "                        for childChar in currentNode.children:\n",
    "                            if _searchNode(word[i+1:],currentNode.children[childChar]):\n",
    "                                return True\n",
    "                    return False\n",
    "                else:\n",
    "                    currentNode = currentNode.children[char]\n",
    "\n",
    "            return currentNode.endWord\n",
    "        return _searchNode(word, self.dictionary)\n",
    "\n",
    "\n",
    "# Your WordDictionary object will be instantiated and called as such:\n",
    "# obj = WordDictionary()\n",
    "# obj.addWord(word)\n",
    "# param_2 = obj.search(word)"
   ]
  },
  {
   "cell_type": "code",
   "execution_count": 12,
   "metadata": {},
   "outputs": [
    {
     "name": "stdout",
     "output_type": "stream",
     "text": [
      "\n",
      "\n",
      " start .a <__main__.Trie object at 0x10691d640> {'b': <__main__.Trie object at 0x106915130>} False\n",
      "1.went 0 .\n",
      "\n",
      "\n",
      " start a <__main__.Trie object at 0x106915130> {} True\n",
      "1.went 0 a\n",
      "True 2\n"
     ]
    }
   ],
   "source": [
    "wordDictionary = WordDictionary()\n",
    "wordDictionary.addWord(\"ba\")\n",
    "# wordDictionary.addWord(\"dad\")\n",
    "# wordDictionary.addWord(\"mad\")\n",
    "# wordDictionary.search(\"pad\")\n",
    "# wordDictionary.search(\"bad\")\n",
    "# print(wordDictionary.search(\".a\") == True, \"1\")\n",
    "print(wordDictionary.search(\".a\") == False,\"2\")\n",
    "# wordDictionary.print()"
   ]
  },
  {
   "cell_type": "code",
   "execution_count": null,
   "metadata": {},
   "outputs": [],
   "source": []
  }
 ],
 "metadata": {
  "kernelspec": {
   "display_name": "Python 3",
   "language": "python",
   "name": "python3"
  },
  "language_info": {
   "codemirror_mode": {
    "name": "ipython",
    "version": 3
   },
   "file_extension": ".py",
   "mimetype": "text/x-python",
   "name": "python",
   "nbconvert_exporter": "python",
   "pygments_lexer": "ipython3",
   "version": "3.8.5"
  }
 },
 "nbformat": 4,
 "nbformat_minor": 4
}
