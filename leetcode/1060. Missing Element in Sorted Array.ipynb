{
 "cells": [
  {
   "cell_type": "code",
   "execution_count": 2,
   "metadata": {},
   "outputs": [],
   "source": [
    "from typing import List"
   ]
  },
  {
   "cell_type": "code",
   "execution_count": 7,
   "metadata": {},
   "outputs": [],
   "source": [
    "class Solution:\n",
    "    def missingElement(self, nums: List[int], k: int) -> int:\n",
    "        missingNumbersByIdx = [num2-num1 for num2,num1 in zip(nums, range(nums[0],nums[0]+len(nums)))]\n",
    "        missingIdxPos = bisect.bisect(missingNumbersByIdx, k-1)\n",
    "        if missingIdxPos > len(nums)-1:\n",
    "            return nums[-1]+k-missingNumbersByIdx[-1]\n",
    "        return nums[missingIdxPos-1]+k-missingNumbersByIdx[missingIdxPos-1]"
   ]
  }
 ],
 "metadata": {
  "kernelspec": {
   "display_name": "Python 3",
   "language": "python",
   "name": "python3"
  },
  "language_info": {
   "codemirror_mode": {
    "name": "ipython",
    "version": 3
   },
   "file_extension": ".py",
   "mimetype": "text/x-python",
   "name": "python",
   "nbconvert_exporter": "python",
   "pygments_lexer": "ipython3",
   "version": "3.8.5"
  }
 },
 "nbformat": 4,
 "nbformat_minor": 4
}
