{
 "cells": [
  {
   "cell_type": "code",
   "execution_count": 1,
   "metadata": {},
   "outputs": [],
   "source": [
    "from typing import List"
   ]
  },
  {
   "cell_type": "code",
   "execution_count": 3,
   "metadata": {},
   "outputs": [],
   "source": [
    "class Solution:\n",
    "    def powerfulIntegers(self, x: int, y: int, bound: int) -> List[int]:\n",
    "        a = bound if x == 1 else int(log(bound, x))\n",
    "        b = bound if y == 1 else int(log(bound, y))\n",
    "        \n",
    "        powerfulIntegers = set([])\n",
    "        \n",
    "        for i in range(a + 1):\n",
    "            for j in range(b + 1):\n",
    "                \n",
    "                probableInteger = x**i + y**j\n",
    "                \n",
    "                if probableInteger <= bound:\n",
    "                    powerfulIntegers.add(probableInteger)\n",
    "                    \n",
    "                if y == 1:\n",
    "                    break\n",
    "            \n",
    "            if x == 1:\n",
    "                break\n",
    "                \n",
    "        return list(powerfulIntegers)"
   ]
  },
  {
   "cell_type": "code",
   "execution_count": null,
   "metadata": {},
   "outputs": [],
   "source": []
  }
 ],
 "metadata": {
  "kernelspec": {
   "display_name": "Python 3",
   "language": "python",
   "name": "python3"
  },
  "language_info": {
   "codemirror_mode": {
    "name": "ipython",
    "version": 3
   },
   "file_extension": ".py",
   "mimetype": "text/x-python",
   "name": "python",
   "nbconvert_exporter": "python",
   "pygments_lexer": "ipython3",
   "version": "3.8.5"
  }
 },
 "nbformat": 4,
 "nbformat_minor": 4
}
