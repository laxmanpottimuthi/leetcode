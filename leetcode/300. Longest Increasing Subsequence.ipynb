{
 "cells": [
  {
   "cell_type": "code",
   "execution_count": 2,
   "metadata": {},
   "outputs": [],
   "source": [
    "from typing import List"
   ]
  },
  {
   "cell_type": "code",
   "execution_count": 3,
   "metadata": {},
   "outputs": [],
   "source": [
    "#Time complexity: O(2^n)\n",
    "#Space complexity: \n",
    "class Solution:\n",
    "    def lengthOfLIS(self, nums: List[int]) -> int:\n",
    "        \n",
    "        def LIS(nums, prev, currInd):\n",
    "            if currInd == len(nums):\n",
    "                return 0\n",
    "            includeCurr = 0\n",
    "            if nums[currInd] > prev:\n",
    "                includeCurr = 1 + LIS(nums,nums[currInd], currInd+1)\n",
    "            doNotIncludeCurr = LIS(nums,prev,currInd+1)\n",
    "            return max(includeCurr, doNotIncludeCurr)\n",
    "        \n",
    "        return LIS(nums,float(\"-inf\"),0)\n",
    "        "
   ]
  },
  {
   "cell_type": "code",
   "execution_count": null,
   "metadata": {},
   "outputs": [],
   "source": []
  },
  {
   "cell_type": "code",
   "execution_count": null,
   "metadata": {},
   "outputs": [],
   "source": []
  }
 ],
 "metadata": {
  "kernelspec": {
   "display_name": "Python 3",
   "language": "python",
   "name": "python3"
  },
  "language_info": {
   "codemirror_mode": {
    "name": "ipython",
    "version": 3
   },
   "file_extension": ".py",
   "mimetype": "text/x-python",
   "name": "python",
   "nbconvert_exporter": "python",
   "pygments_lexer": "ipython3",
   "version": "3.8.5"
  }
 },
 "nbformat": 4,
 "nbformat_minor": 4
}
