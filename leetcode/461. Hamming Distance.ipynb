{
 "cells": [
  {
   "cell_type": "code",
   "execution_count": 1,
   "metadata": {},
   "outputs": [],
   "source": [
    "class Solution:\n",
    "    def hammingDistance(self, x: int, y: int) -> int:\n",
    "        \n",
    "        xor_result = x ^ y\n",
    "        \n",
    "        hamming_dist = bin(xor_result).count('1')\n",
    "        \n",
    "        return hamming_dist"
   ]
  },
  {
   "cell_type": "code",
   "execution_count": null,
   "metadata": {},
   "outputs": [],
   "source": [
    "class Solution:\n",
    "    def hammingDistance(self, x: int, y: int) -> int:\n",
    "        \n",
    "        xor_result = x ^ y\n",
    "        hamming_dist = 0\n",
    "        \n",
    "        for bit_shift in range(32):\n",
    "            \n",
    "            if xor_result & 1:\n",
    "                hamming_dist += 1\n",
    "            \n",
    "            xor_result >>= 1\n",
    "        \n",
    "        return hamming_dist"
   ]
  }
 ],
 "metadata": {
  "kernelspec": {
   "display_name": "Python 3",
   "language": "python",
   "name": "python3"
  },
  "language_info": {
   "codemirror_mode": {
    "name": "ipython",
    "version": 3
   },
   "file_extension": ".py",
   "mimetype": "text/x-python",
   "name": "python",
   "nbconvert_exporter": "python",
   "pygments_lexer": "ipython3",
   "version": "3.7.3"
  }
 },
 "nbformat": 4,
 "nbformat_minor": 4
}
