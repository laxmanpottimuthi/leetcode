{
 "cells": [
  {
   "cell_type": "code",
   "execution_count": null,
   "metadata": {},
   "outputs": [],
   "source": [
    "class Solution:\n",
    "#     def isAnagram(self, s: str, t: str) -> bool:\n",
    "#         return Counter(s) == Counter(t)\n",
    "    \n",
    "    def isAnagram(self, s: str, t: str) -> bool:\n",
    "        return {i:s.count(i) for i in set(s)} == {\n",
    "            j:t.count(j) for j in set(t)}\n",
    "    # def isAnagram(self, s: str, t: str) -> bool:\n",
    "    #     return sorted(s) == sorted(t)\n",
    "    \n",
    "    \n",
    "#     def isAnagram(self, s: str, t: str) -> bool:\n",
    "#         if len(s) != len(t):\n",
    "#             return False\n",
    "#         sDict = {}\n",
    "#         tDict = {}\n",
    "#         for i in range(len(s)):\n",
    "#             sDict[s[i]] = sDict.get(s[i],0) + 1\n",
    "#             tDict[t[i]] = tDict.get(t[i],0) + 1\n",
    "        \n",
    "#         for k in sDict.keys():\n",
    "#             if k not in tDict.keys() or sDict[k] != tDict[k]:\n",
    "#                 return False\n",
    "#         return True\n",
    "        "
   ]
  }
 ],
 "metadata": {
  "kernelspec": {
   "display_name": "Python 3",
   "language": "python",
   "name": "python3"
  },
  "language_info": {
   "codemirror_mode": {
    "name": "ipython",
    "version": 3
   },
   "file_extension": ".py",
   "mimetype": "text/x-python",
   "name": "python",
   "nbconvert_exporter": "python",
   "pygments_lexer": "ipython3",
   "version": "3.8.5"
  }
 },
 "nbformat": 4,
 "nbformat_minor": 4
}
