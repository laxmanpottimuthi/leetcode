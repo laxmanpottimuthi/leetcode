{
 "cells": [
  {
   "cell_type": "code",
   "execution_count": null,
   "metadata": {},
   "outputs": [],
   "source": [
    "#Given a string s , find the length of the longest substring t  that contains at most 2 distinct characters."
   ]
  },
  {
   "cell_type": "code",
   "execution_count": 1,
   "metadata": {},
   "outputs": [],
   "source": [
    "from collections import defaultdict\n",
    "class Solution:\n",
    "    def lengthOfLongestSubstringTwoDistinct(self, s: str) -> int:\n",
    "        if not s:\n",
    "            return 0\n",
    "        \n",
    "        head,tail = 0,0\n",
    "        \n",
    "        subStringMap = defaultdict(int)\n",
    "        maxLength = 0\n",
    "        while tail < len(s):\n",
    "            subStringMap[s[tail]] += 1\n",
    "            tail += 1\n",
    "            \n",
    "            while len(subStringMap) > 2:\n",
    "                subStringMap[s[head]] -= 1                \n",
    "                \n",
    "                if subStringMap[s[head]] == 0:\n",
    "                    del subStringMap[s[head]]\n",
    "                head += 1\n",
    "#             print(tail, head)\n",
    "            maxLength = max(maxLength, tail-head)\n",
    "                \n",
    "        return maxLength\n",
    "            \n",
    "        \n",
    "        "
   ]
  },
  {
   "cell_type": "code",
   "execution_count": 2,
   "metadata": {},
   "outputs": [
    {
     "data": {
      "text/plain": [
       "5"
      ]
     },
     "execution_count": 2,
     "metadata": {},
     "output_type": "execute_result"
    }
   ],
   "source": [
    "sol = Solution()\n",
    "sol.lengthOfLongestSubstringTwoDistinct(\"ccaabbb\")"
   ]
  },
  {
   "cell_type": "code",
   "execution_count": null,
   "metadata": {},
   "outputs": [],
   "source": []
  }
 ],
 "metadata": {
  "kernelspec": {
   "display_name": "Python 3",
   "language": "python",
   "name": "python3"
  },
  "language_info": {
   "codemirror_mode": {
    "name": "ipython",
    "version": 3
   },
   "file_extension": ".py",
   "mimetype": "text/x-python",
   "name": "python",
   "nbconvert_exporter": "python",
   "pygments_lexer": "ipython3",
   "version": "3.8.5"
  }
 },
 "nbformat": 4,
 "nbformat_minor": 4
}
