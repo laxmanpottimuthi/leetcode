{
 "cells": [
  {
   "cell_type": "code",
   "execution_count": null,
   "metadata": {},
   "outputs": [],
   "source": [
    "from functools import reduce\n",
    "from collections import defaultdict\n",
    "class Solution:\n",
    "    def findWords(self, board: List[List[str]], words: List[str]) -> List[str]:\n",
    "        \n",
    "        # create trie\n",
    "        Trie = lambda: defaultdict(Trie)\n",
    "        trie = Trie()\n",
    "        END = True\n",
    "        \n",
    "        for word in words:\n",
    "            reduce(dict.__getitem__,word,trie)[END] = word\n",
    "        \n",
    "        res = set()\n",
    "        def findstr(i,j,t):\n",
    "            if END in t:\n",
    "                res.add(t[END])\n",
    "                # return\n",
    "            letter = board[i][j]\n",
    "            board[i][j] = \"\"\n",
    "            if i > 0 and board[i-1][j] in t:\n",
    "                findstr(i-1,j,t[board[i-1][j]])\n",
    "            if j>0 and board[i][j-1] in t:\n",
    "                findstr(i,j-1,t[board[i][j-1]])\n",
    "            if i < len(board)-1 and board[i+1][j] in t:\n",
    "                findstr(i+1,j,t[board[i+1][j]])\n",
    "            if j < len(board[0])-1 and board[i][j+1] in t:\n",
    "                findstr(i,j+1,t[board[i][j+1]])\n",
    "            board[i][j] = letter\n",
    "            \n",
    "            return \n",
    "        \n",
    "        for i, row in enumerate(board):\n",
    "            for j, char in enumerate(row):\n",
    "                if board[i][j] in trie:\n",
    "                    findstr(i,j,trie[board[i][j]])\n",
    "        return res"
   ]
  }
 ],
 "metadata": {
  "kernelspec": {
   "display_name": "Python 3",
   "language": "python",
   "name": "python3"
  },
  "language_info": {
   "codemirror_mode": {
    "name": "ipython",
    "version": 3
   },
   "file_extension": ".py",
   "mimetype": "text/x-python",
   "name": "python",
   "nbconvert_exporter": "python",
   "pygments_lexer": "ipython3",
   "version": "3.7.3"
  }
 },
 "nbformat": 4,
 "nbformat_minor": 4
}
