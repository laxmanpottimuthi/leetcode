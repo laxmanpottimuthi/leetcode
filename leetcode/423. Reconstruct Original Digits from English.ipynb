{
 "cells": [
  {
   "cell_type": "code",
   "execution_count": 1,
   "metadata": {},
   "outputs": [],
   "source": [
    "from collections import Counter\n",
    "class Solution:\n",
    "    def originalDigits(self, s: str) -> str:\n",
    "        digitMatch = {\n",
    "            0: \"zero\",\n",
    "            1: \"one\",\n",
    "            2: \"two\",\n",
    "            3: \"three\",\n",
    "            4: \"four\",\n",
    "            5: \"five\",\n",
    "            6: \"six\",\n",
    "            7: \"seven\",\n",
    "            8: \"eight\",\n",
    "            9: \"nine\"\n",
    "        }\n",
    "        sCounter = Counter(s)\n",
    "        res = []\n",
    "        for digit in [0,2,4,6,8,1,3,5,7,9]:\n",
    "            digitInEnglish = digitMatch[digit]\n",
    "            digitCounter = Counter(digitInEnglish)\n",
    "            \n",
    "            digitFlag = True\n",
    "            while digitFlag:\n",
    "                for digiChar in digitCounter:\n",
    "                    if sCounter[digiChar] and sCounter[digiChar] >= digitCounter[digiChar]:\n",
    "                        continue\n",
    "                    else:\n",
    "                        digitFlag = False\n",
    "                        break\n",
    "                if digitFlag:\n",
    "                    sCounter -= digitCounter\n",
    "                    res.append(digit)\n",
    "        return \"\".join(str(i) for i in sorted(res))\n",
    "                    \n",
    "            "
   ]
  },
  {
   "cell_type": "code",
   "execution_count": 2,
   "metadata": {},
   "outputs": [],
   "source": [
    "sol = Solution()\n",
    "sol.originalDigits(\"oneonetwothreetwonineninethree\")"
   ]
  },
  {
   "cell_type": "code",
   "execution_count": 3,
   "metadata": {},
   "outputs": [],
   "source": [
    "from collections import Counter\n",
    "class Solution:\n",
    "    def originalDigits(self, s: str) -> str:\n",
    "        digitMatch = {\n",
    "            0: \"zero\",\n",
    "            1: \"one\",\n",
    "            2: \"two\",\n",
    "            3: \"three\",\n",
    "            4: \"four\",\n",
    "            5: \"five\",\n",
    "            6: \"six\",\n",
    "            7: \"seven\",\n",
    "            8: \"eight\",\n",
    "            9: \"nine\"\n",
    "        }\n",
    "        sCounter = Counter(s)\n",
    "        res = [0]*10\n",
    "        for digit in [0,2,4,6,8,1,3,5,7,9]:\n",
    "            digitCounter = Counter(digitMatch[digit])\n",
    "            countMatch = min([sCounter[char]//digitCounter[char] for char in digitCounter])\n",
    "            for char in digitCounter:\n",
    "                sCounter[char] -= digitCounter[char]*countMatch\n",
    "            res[digit] += countMatch\n",
    "        return \"\".join(str(digit)*res[digit] for digit in range(10))\n",
    "            \n",
    "            "
   ]
  },
  {
   "cell_type": "code",
   "execution_count": 4,
   "metadata": {},
   "outputs": [
    {
     "data": {
      "text/plain": [
       "'11223399'"
      ]
     },
     "execution_count": 4,
     "metadata": {},
     "output_type": "execute_result"
    }
   ],
   "source": [
    "sol = Solution()\n",
    "sol.originalDigits(\"oneonetwothreetwonineninethree\")"
   ]
  }
 ],
 "metadata": {
  "kernelspec": {
   "display_name": "Python 3",
   "language": "python",
   "name": "python3"
  },
  "language_info": {
   "codemirror_mode": {
    "name": "ipython",
    "version": 3
   },
   "file_extension": ".py",
   "mimetype": "text/x-python",
   "name": "python",
   "nbconvert_exporter": "python",
   "pygments_lexer": "ipython3",
   "version": "3.8.5"
  }
 },
 "nbformat": 4,
 "nbformat_minor": 4
}
