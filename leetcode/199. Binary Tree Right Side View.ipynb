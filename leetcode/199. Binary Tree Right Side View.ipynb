{
 "cells": [
  {
   "cell_type": "code",
   "execution_count": 9,
   "metadata": {},
   "outputs": [],
   "source": [
    "# Definition for a binary tree node.\n",
    "class TreeNode:\n",
    "    def __init__(self, val=0, left=None, right=None):\n",
    "        self.val = val\n",
    "        self.left = left\n",
    "        self.right = right\n",
    "class Solution:\n",
    "    def rightSideView(self, root: TreeNode):\n",
    "        if not root:\n",
    "            return []\n",
    "        viewList = []\n",
    "        queue = [root]\n",
    "        while queue:\n",
    "            viewList.append(queue[-1].val)\n",
    "            newqueue = []\n",
    "            for node in queue:\n",
    "                if node.left:\n",
    "                    newqueue.append(node.left)\n",
    "                if node.right:\n",
    "                    newqueue.append(node.right)\n",
    "            queue = newqueue\n",
    "        return viewList"
   ]
  },
  {
   "cell_type": "code",
   "execution_count": null,
   "metadata": {},
   "outputs": [],
   "source": []
  }
 ],
 "metadata": {
  "kernelspec": {
   "display_name": "Python 3",
   "language": "python",
   "name": "python3"
  },
  "language_info": {
   "codemirror_mode": {
    "name": "ipython",
    "version": 3
   },
   "file_extension": ".py",
   "mimetype": "text/x-python",
   "name": "python",
   "nbconvert_exporter": "python",
   "pygments_lexer": "ipython3",
   "version": "3.7.3"
  }
 },
 "nbformat": 4,
 "nbformat_minor": 4
}
