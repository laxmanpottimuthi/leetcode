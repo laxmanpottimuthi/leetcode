{
 "cells": [
  {
   "cell_type": "code",
   "execution_count": 17,
   "metadata": {},
   "outputs": [],
   "source": [
    "from typing import List\n",
    "class Solution:\n",
    "    def letterCombinations(self, digits: str) -> List[str]:\n",
    "        if not digits:\n",
    "            return []\n",
    "        \n",
    "        lenDigits = len(digits)\n",
    "        \n",
    "        digitAlphaMap = {'2':\"abc\", '3': \"def\", '4': \"ghi\", '5': \"jkl\", \n",
    "                      '6': \"mno\", '7': \"pqrs\", '8': \"tuv\", '9': \"wxyz\"}\n",
    "        res = [i for i in digitAlphaMap[digits[0]]]\n",
    "        for i in range(1,lenDigits):\n",
    "            digit = digits[i]\n",
    "            tempRes = []\n",
    "            for j in digitAlphaMap[digit]:\n",
    "                for k in res:\n",
    "                    tempRes.append(k+j)\n",
    "            res = tempRes\n",
    "        return res"
   ]
  },
  {
   "cell_type": "code",
   "execution_count": 18,
   "metadata": {},
   "outputs": [
    {
     "data": {
      "text/plain": [
       "['ad', 'bd', 'cd', 'ae', 'be', 'ce', 'af', 'bf', 'cf']"
      ]
     },
     "execution_count": 18,
     "metadata": {},
     "output_type": "execute_result"
    }
   ],
   "source": [
    "sol = Solution()\n",
    "sol.letterCombinations(\"23\")"
   ]
  },
  {
   "cell_type": "code",
   "execution_count": null,
   "metadata": {},
   "outputs": [],
   "source": []
  }
 ],
 "metadata": {
  "kernelspec": {
   "display_name": "Python 3",
   "language": "python",
   "name": "python3"
  },
  "language_info": {
   "codemirror_mode": {
    "name": "ipython",
    "version": 3
   },
   "file_extension": ".py",
   "mimetype": "text/x-python",
   "name": "python",
   "nbconvert_exporter": "python",
   "pygments_lexer": "ipython3",
   "version": "3.8.5"
  }
 },
 "nbformat": 4,
 "nbformat_minor": 4
}
