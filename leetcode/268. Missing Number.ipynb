{
 "cells": [
  {
   "cell_type": "code",
   "execution_count": 2,
   "metadata": {},
   "outputs": [],
   "source": [
    "from typing import List\n",
    "class Solution:\n",
    "    def missingNumber(self, nums: List[int]) -> int:\n",
    "        if not nums:\n",
    "            return 0\n",
    "        lenNums = len(nums)\n",
    "        return (lenNums*(lenNums+1))//2 - sum(nums)\n",
    "class Solution:\n",
    "    def missingNumber(self, nums: List[int]) -> int:\n",
    "        missing = len(nums)\n",
    "        for i, n in enumerate(nums):\n",
    "            missing ^= i^n\n",
    "        return missing"
   ]
  },
  {
   "cell_type": "code",
   "execution_count": null,
   "metadata": {},
   "outputs": [],
   "source": []
  }
 ],
 "metadata": {
  "kernelspec": {
   "display_name": "Python 3",
   "language": "python",
   "name": "python3"
  },
  "language_info": {
   "codemirror_mode": {
    "name": "ipython",
    "version": 3
   },
   "file_extension": ".py",
   "mimetype": "text/x-python",
   "name": "python",
   "nbconvert_exporter": "python",
   "pygments_lexer": "ipython3",
   "version": "3.8.5"
  }
 },
 "nbformat": 4,
 "nbformat_minor": 4
}
