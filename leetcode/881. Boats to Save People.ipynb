{
 "cells": [
  {
   "cell_type": "code",
   "execution_count": 1,
   "metadata": {},
   "outputs": [],
   "source": [
    "from typing import List\n"
   ]
  },
  {
   "cell_type": "code",
   "execution_count": 6,
   "metadata": {},
   "outputs": [],
   "source": [
    "\n",
    "class Solution:\n",
    "    def numRescueBoats(self, people: List[int], limit: int) -> int:\n",
    "        \n",
    "        people = sorted(people)\n",
    "        i,j = 0, len(people)-1\n",
    "        boat_count = 0\n",
    "        while i <= j:\n",
    "            if people[j] + people[i] <= limit:\n",
    "                i += 1\n",
    "                j -= 1\n",
    "            else:\n",
    "                j -= 1\n",
    "            boat_count += 1\n",
    "        return boat_count\n",
    "                "
   ]
  },
  {
   "cell_type": "code",
   "execution_count": 10,
   "metadata": {},
   "outputs": [
    {
     "data": {
      "text/plain": [
       "0"
      ]
     },
     "execution_count": 10,
     "metadata": {},
     "output_type": "execute_result"
    }
   ],
   "source": [
    "sol = Solution()\n",
    "\n",
    "people = [3,2,2,1]\n",
    "limit = 3\n",
    "\n",
    "people = [2,1]\n",
    "limit = 3\n",
    "\n",
    "\n",
    "people = [3,5,3,4]\n",
    "limit = 5\n",
    "\n",
    "people = []\n",
    "limit = 5\n",
    "\n",
    "sol.numRescueBoats(people,limit)"
   ]
  },
  {
   "cell_type": "code",
   "execution_count": null,
   "metadata": {},
   "outputs": [],
   "source": []
  },
  {
   "cell_type": "code",
   "execution_count": null,
   "metadata": {},
   "outputs": [],
   "source": []
  }
 ],
 "metadata": {
  "kernelspec": {
   "display_name": "Python 3",
   "language": "python",
   "name": "python3"
  },
  "language_info": {
   "codemirror_mode": {
    "name": "ipython",
    "version": 3
   },
   "file_extension": ".py",
   "mimetype": "text/x-python",
   "name": "python",
   "nbconvert_exporter": "python",
   "pygments_lexer": "ipython3",
   "version": "3.8.5"
  }
 },
 "nbformat": 4,
 "nbformat_minor": 4
}
