{
 "cells": [
  {
   "cell_type": "code",
   "execution_count": null,
   "metadata": {},
   "outputs": [],
   "source": [
    "#LCS way\n",
    "class Solution:\n",
    "    def minDistance(self, word1: str, word2: str) -> int:\n",
    "        l1 = len(word1)\n",
    "        l2 = len(word2)\n",
    "        \n",
    "        if l1 == 0 or l2 == 0:\n",
    "            return max(l1,l2)\n",
    "        \n",
    "        if l1 == 1 and l2 == 1:\n",
    "            if word1 == word2:\n",
    "                return 0\n",
    "            else:\n",
    "                return 2\n",
    "        \n",
    "        mem = [[0]*(l2+1) for i in range(l1+1)]\n",
    "        \n",
    "        for i in range(1,l1+1):\n",
    "            for j in range(1,l2+1):\n",
    "                if word1[i-1] == word2[j-1]:\n",
    "                    mem[i][j] = mem[i-1][j-1]+1\n",
    "                else:\n",
    "                    mem[i][j] = max(mem[i-1][j],mem[i][j-1])\n",
    "        return l1+l2 - 2*mem[-1][-1]\n",
    "        \n",
    "\n",
    "                \n",
    "        "
   ]
  }
 ],
 "metadata": {
  "kernelspec": {
   "display_name": "Python 3",
   "language": "python",
   "name": "python3"
  },
  "language_info": {
   "codemirror_mode": {
    "name": "ipython",
    "version": 3
   },
   "file_extension": ".py",
   "mimetype": "text/x-python",
   "name": "python",
   "nbconvert_exporter": "python",
   "pygments_lexer": "ipython3",
   "version": "3.8.5"
  }
 },
 "nbformat": 4,
 "nbformat_minor": 4
}
