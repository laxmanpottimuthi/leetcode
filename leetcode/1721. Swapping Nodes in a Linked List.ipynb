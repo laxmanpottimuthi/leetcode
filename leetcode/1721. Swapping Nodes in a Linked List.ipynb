{
 "cells": [
  {
   "cell_type": "code",
   "execution_count": 1,
   "metadata": {},
   "outputs": [],
   "source": [
    "# Definition for singly-linked list.\n",
    "class ListNode:\n",
    "    def __init__(self, val=0, next=None):\n",
    "        self.val = val\n",
    "        self.next = next\n",
    "class Solution:\n",
    "    def swapNodes(self, head: ListNode, k: int) -> ListNode:\n",
    "        \n",
    "        if not head:\n",
    "            return head\n",
    "        currNode = head\n",
    "        currLen = 1\n",
    "        frontNode, endNode = None,None\n",
    "        while currNode != None:\n",
    "            if currLen == k:\n",
    "                frontNode = currNode\n",
    "                endNode = head\n",
    "            \n",
    "            currNode = currNode.next\n",
    "            currLen += 1\n",
    "            if endNode and currNode:\n",
    "                endNode = endNode.next\n",
    "        frontNode.val,endNode.val = endNode.val, frontNode.val\n",
    "        return head\n",
    "        "
   ]
  },
  {
   "cell_type": "code",
   "execution_count": null,
   "metadata": {},
   "outputs": [],
   "source": []
  }
 ],
 "metadata": {
  "kernelspec": {
   "display_name": "Python 3",
   "language": "python",
   "name": "python3"
  },
  "language_info": {
   "codemirror_mode": {
    "name": "ipython",
    "version": 3
   },
   "file_extension": ".py",
   "mimetype": "text/x-python",
   "name": "python",
   "nbconvert_exporter": "python",
   "pygments_lexer": "ipython3",
   "version": "3.8.5"
  }
 },
 "nbformat": 4,
 "nbformat_minor": 4
}
