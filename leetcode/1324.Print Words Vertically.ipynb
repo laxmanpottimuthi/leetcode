{
 "cells": [
  {
   "cell_type": "code",
   "execution_count": 84,
   "metadata": {},
   "outputs": [],
   "source": [
    "def printVertically(s):\n",
    "    words = s.split(\" \")\n",
    "    dictC = {}\n",
    "    for count,i in enumerate(words):\n",
    "        lenDic = len(dictC)\n",
    "        lenW = len(i)\n",
    "        for j,l in enumerate(i):\n",
    "            prefix = \"\"\n",
    "            if j in dictC:\n",
    "                dictC[j] = dictC[j] + str(l)\n",
    "            else:\n",
    "                if lenDic < lenW:\n",
    "                    if lenDic != 0:\n",
    "                        for k in range(count):\n",
    "                            prefix = prefix + \" \"\n",
    "                dictC[j] = prefix + str(l)\n",
    "        if lenW < lenDic:\n",
    "            for i in range(lenW, lenDic):\n",
    "                dictC[i] = dictC[i] + \" \"\n",
    "    res = [w.rstrip() for w in list(dictC.values())]\n",
    "    return res\n",
    "    "
   ]
  },
  {
   "cell_type": "code",
   "execution_count": 90,
   "metadata": {},
   "outputs": [
    {
     "data": {
      "text/plain": [
       "True"
      ]
     },
     "execution_count": 90,
     "metadata": {},
     "output_type": "execute_result"
    }
   ],
   "source": [
    "s = \"AA BBB C DDDD EEEEE F\"\n",
    "printVertically(s) == [\"ABCDEF\",\"AB DE\",\" B DE\",\"   DE\",\"    E\"]"
   ]
  },
  {
   "cell_type": "code",
   "execution_count": 91,
   "metadata": {},
   "outputs": [
    {
     "data": {
      "text/plain": [
       "True"
      ]
     },
     "execution_count": 91,
     "metadata": {},
     "output_type": "execute_result"
    }
   ],
   "source": [
    "printVertically(\"CONTEST IS COMING\") ==[\"CIC\",\"OSO\",\"N M\",\"T I\",\"E N\",\"S G\",\"T\"]"
   ]
  },
  {
   "cell_type": "code",
   "execution_count": 92,
   "metadata": {},
   "outputs": [
    {
     "data": {
      "text/plain": [
       "True"
      ]
     },
     "execution_count": 92,
     "metadata": {},
     "output_type": "execute_result"
    }
   ],
   "source": [
    "s = \"TO BE OR NOT TO BE\"\n",
    "printVertically(s) == [\"TBONTB\",\"OEROOE\",\"   T\"]"
   ]
  },
  {
   "cell_type": "code",
   "execution_count": 93,
   "metadata": {},
   "outputs": [
    {
     "data": {
      "text/plain": [
       "True"
      ]
     },
     "execution_count": 93,
     "metadata": {},
     "output_type": "execute_result"
    }
   ],
   "source": [
    "s = \"AA BBB C DDDD EEEEE F\"\n",
    "printVertically(s) ==[\"ABCDEF\",\"AB DE\",\" B DE\",\"   DE\",\"    E\"]"
   ]
  },
  {
   "cell_type": "code",
   "execution_count": 94,
   "metadata": {},
   "outputs": [
    {
     "data": {
      "text/plain": [
       "True"
      ]
     },
     "execution_count": 94,
     "metadata": {},
     "output_type": "execute_result"
    }
   ],
   "source": [
    "s= \"HOW IS IT GOING\"\n",
    "[\"HIIG\",\"OSTO\",\"W  I\",\"   N\",\"   G\"] == printVertically(s)"
   ]
  },
  {
   "cell_type": "code",
   "execution_count": null,
   "metadata": {},
   "outputs": [],
   "source": []
  }
 ],
 "metadata": {
  "kernelspec": {
   "display_name": "Python 3",
   "language": "python",
   "name": "python3"
  },
  "language_info": {
   "codemirror_mode": {
    "name": "ipython",
    "version": 3
   },
   "file_extension": ".py",
   "mimetype": "text/x-python",
   "name": "python",
   "nbconvert_exporter": "python",
   "pygments_lexer": "ipython3",
   "version": "3.7.3"
  }
 },
 "nbformat": 4,
 "nbformat_minor": 4
}
