{
 "cells": [
  {
   "cell_type": "code",
   "execution_count": 1,
   "metadata": {},
   "outputs": [],
   "source": [
    "import math\n",
    "r = 5\n",
    "class Solution:\n",
    "    def countVowelStrings(self, n: int) -> int:\n",
    "        return int(math.factorial((n+r-1))/(math.factorial(n)*math.factorial(r-1)))\n",
    "    \n",
    "    #Recursion\n",
    "    def countCombinations(self,n,r):\n",
    "        if n == 1:\n",
    "            return 1\n",
    "        if r == 1:\n",
    "            return n\n",
    "        return self.countCombinations(n-1,r) + self.countCombinations(n,r-1)\n",
    "    \n",
    "    #Recursion using memotisation\n",
    "    def countCombinationsMemo(self,n,r):\n",
    "        \n",
    "        memoTable = [[0]*(r+1) for i in range(n+1)]\n",
    "        \n",
    "        def countCombMemo(n,r,memoTable):\n",
    "            if n == 1:\n",
    "                return 1\n",
    "            if r == 1:\n",
    "                return n\n",
    "            \n",
    "            if memoTable[n][r] != 0:\n",
    "                return memoTable[n][r]\n",
    "            memoTable[n][r] = countCombMemo(n-1,r,memoTable)+countCombMemo(n,r-1,memoTable)\n",
    "            return memoTable[n][r]\n",
    "        return countCombMemo(n,r,memoTable)\n",
    "    \n",
    "    #Dynamic programming\n",
    "    def countComboDP(self,n,r):\n",
    "        dp = [[0]*(n+1) for i in range(r+1)]\n",
    "        for i in range(1,n+1):\n",
    "            dp[1][i] = 1 + dp[1][i-1]\n",
    "        for j in range(2,r+1):\n",
    "            dp[j][1] = 1\n",
    "            \n",
    "            for k in range(2,n+1):\n",
    "                dp[j][k] = dp[j-1][k]+dp[j][k-1]\n",
    "        return dp[r][n]\n",
    "    "
   ]
  },
  {
   "cell_type": "code",
   "execution_count": 2,
   "metadata": {},
   "outputs": [
    {
     "name": "stdout",
     "output_type": "stream",
     "text": [
      "True\n",
      "True\n"
     ]
    },
    {
     "data": {
      "text/plain": [
       "True"
      ]
     },
     "execution_count": 2,
     "metadata": {},
     "output_type": "execute_result"
    }
   ],
   "source": [
    "sol = Solution()\n",
    "\n",
    "print(sol.countVowelStrings(5) == sol.countCombinations(5,5))\n",
    "print(sol.countCombinations(5,7) == sol.countCombinationsMemo(5,7))\n",
    "sol.countCombinationsMemo(5,7) == sol.countComboDP(5,7)"
   ]
  },
  {
   "cell_type": "code",
   "execution_count": null,
   "metadata": {},
   "outputs": [],
   "source": []
  },
  {
   "cell_type": "code",
   "execution_count": null,
   "metadata": {},
   "outputs": [],
   "source": []
  }
 ],
 "metadata": {
  "kernelspec": {
   "display_name": "Python 3",
   "language": "python",
   "name": "python3"
  },
  "language_info": {
   "codemirror_mode": {
    "name": "ipython",
    "version": 3
   },
   "file_extension": ".py",
   "mimetype": "text/x-python",
   "name": "python",
   "nbconvert_exporter": "python",
   "pygments_lexer": "ipython3",
   "version": "3.8.5"
  }
 },
 "nbformat": 4,
 "nbformat_minor": 4
}
