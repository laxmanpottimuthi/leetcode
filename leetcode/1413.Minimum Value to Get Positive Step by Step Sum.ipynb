{
 "cells": [
  {
   "cell_type": "code",
   "execution_count": 38,
   "metadata": {},
   "outputs": [],
   "source": [
    "def minStartValue(nums):\n",
    "    if min(nums) > -1:\n",
    "        return 1\n",
    "    maxStartVal = minStartVal = 1\n",
    "    for i in nums:\n",
    "        interSum = maxStartVal + i\n",
    "        print(interSum)\n",
    "        if interSum == 0 :\n",
    "            print(\"=0\")\n",
    "            maxStartVal = 1\n",
    "            minStartVal += 1\n",
    "        elif interSum < 0:\n",
    "            print(\"<-1\")\n",
    "            minStartVal = minStartVal + -1*interSum + 1\n",
    "            maxStartVal = 1\n",
    "        else:\n",
    "            maxStartVal = interSum\n",
    "    return minStartVal"
   ]
  },
  {
   "cell_type": "code",
   "execution_count": 39,
   "metadata": {},
   "outputs": [
    {
     "data": {
      "text/plain": [
       "1"
      ]
     },
     "execution_count": 39,
     "metadata": {},
     "output_type": "execute_result"
    }
   ],
   "source": [
    "nums = [1,12,13]\n",
    "minStartValue(nums)"
   ]
  },
  {
   "cell_type": "code",
   "execution_count": null,
   "metadata": {},
   "outputs": [],
   "source": []
  }
 ],
 "metadata": {
  "kernelspec": {
   "display_name": "Python 3",
   "language": "python",
   "name": "python3"
  },
  "language_info": {
   "codemirror_mode": {
    "name": "ipython",
    "version": 3
   },
   "file_extension": ".py",
   "mimetype": "text/x-python",
   "name": "python",
   "nbconvert_exporter": "python",
   "pygments_lexer": "ipython3",
   "version": "3.7.3"
  }
 },
 "nbformat": 4,
 "nbformat_minor": 4
}
