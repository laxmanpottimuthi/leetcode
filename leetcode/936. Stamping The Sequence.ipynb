{
 "cells": [
  {
   "cell_type": "code",
   "execution_count": 1,
   "metadata": {},
   "outputs": [],
   "source": [
    "from typing import List"
   ]
  },
  {
   "cell_type": "code",
   "execution_count": 81,
   "metadata": {},
   "outputs": [],
   "source": [
    "class Solution:\n",
    "    def movesToStamp(self, stamp: str, target: str) -> List[int]:\n",
    "        lenTarget = len(target)\n",
    "        lenStamp = len(stamp)\n",
    "        if not lenTarget or stamp[0] != target[0] or lenStamp > lenTarget:\n",
    "            return []\n",
    "        \n",
    "        target = [s for s in target]\n",
    "        ans = []\n",
    "        totalMatched = True\n",
    "        while totalMatched:\n",
    "            totalMatched = False\n",
    "            for i in range(lenTarget-lenStamp+1):\n",
    "                match = False\n",
    "                for j in range(lenStamp):\n",
    "                    if target[i+j] == \"*\":\n",
    "                        continue\n",
    "                    if target[i+j] != stamp[j]:\n",
    "                        match = False\n",
    "                        break\n",
    "                    match = True\n",
    "                if match == True:\n",
    "                    for j in range(i,i+lenStamp):\n",
    "                        target[j] = \"*\"\n",
    "                    ans.append(i)\n",
    "                    totalMatched = True\n",
    "        for i in range(lenTarget):\n",
    "            if target[i] != \"*\":\n",
    "                return []\n",
    "        return ans[::-1]"
   ]
  },
  {
   "cell_type": "code",
   "execution_count": 82,
   "metadata": {},
   "outputs": [
    {
     "data": {
      "text/plain": [
       "[0, 3, 1]"
      ]
     },
     "execution_count": 82,
     "metadata": {},
     "output_type": "execute_result"
    }
   ],
   "source": [
    "sol = Solution()\n",
    "sol.movesToStamp(stamp = \"abca\", target = \"aabcaca\")"
   ]
  },
  {
   "cell_type": "code",
   "execution_count": 40,
   "metadata": {},
   "outputs": [
    {
     "data": {
      "text/plain": [
       "True"
      ]
     },
     "execution_count": 40,
     "metadata": {},
     "output_type": "execute_result"
    }
   ],
   "source": []
  },
  {
   "cell_type": "code",
   "execution_count": null,
   "metadata": {},
   "outputs": [],
   "source": []
  }
 ],
 "metadata": {
  "kernelspec": {
   "display_name": "Python 3",
   "language": "python",
   "name": "python3"
  },
  "language_info": {
   "codemirror_mode": {
    "name": "ipython",
    "version": 3
   },
   "file_extension": ".py",
   "mimetype": "text/x-python",
   "name": "python",
   "nbconvert_exporter": "python",
   "pygments_lexer": "ipython3",
   "version": "3.8.5"
  }
 },
 "nbformat": 4,
 "nbformat_minor": 4
}
