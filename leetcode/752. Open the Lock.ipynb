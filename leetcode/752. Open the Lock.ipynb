{
 "cells": [
  {
   "cell_type": "code",
   "execution_count": 38,
   "metadata": {},
   "outputs": [],
   "source": [
    "from typing import List\n",
    "from collections import deque\n",
    "\n",
    "class Solution:\n",
    "    def openLock(self, deadends: List[str], target: str) -> int:\n",
    "        queue = deque()\n",
    "        queue.append(('0000',0))\n",
    "        # To make sure we are considering a single instance of each combination in deadends\n",
    "        deadends = set(deadends)\n",
    "        if '0000' in deadends:\n",
    "            return -1\n",
    "        # Combinations of the lock which are already visited.\n",
    "        # This is to make sure we donot end up at the same combination state again.\n",
    "        seenCombinations = set('0000')\n",
    "        \n",
    "        while queue:\n",
    "            currentCombination, currentTurns = queue.popleft()\n",
    "            if currentCombination == target:\n",
    "                return currentTurns\n",
    "            \n",
    "            # Find all the states \n",
    "            nextPossibleCombinations = self.findNextPossibleCombinations(currentCombination)\n",
    "            \n",
    "            for possibleCombination in nextPossibleCombinations:\n",
    "                if possibleCombination not in seenCombinations and possibleCombination not in deadends:\n",
    "                    seenCombinations.add(possibleCombination)\n",
    "                    queue.append((possibleCombination,currentTurns+1))\n",
    "        return -1\n",
    "                \n",
    "    \n",
    "    def findNextPossibleCombinations(self,combination):\n",
    "        possibleCombinations = []\n",
    "\n",
    "        for i,digit in enumerate(combination):\n",
    "            digit = int(digit) \n",
    "            possibleNextDigits = []\n",
    "            for possibleDigit in [digit+1, digit-1]:\n",
    "                if possibleDigit == -1:\n",
    "                    possibleNextDigits.append(9)\n",
    "                elif possibleDigit == 10:\n",
    "                    possibleNextDigits.append(0)\n",
    "                else:\n",
    "                    possibleNextDigits.append(possibleDigit)\n",
    "            for possibleDigit in possibleNextDigits:\n",
    "                possibleCombinations.append(combination[:i]+str(possibleDigit)+combination[i+1:])\n",
    "        return possibleCombinations\n",
    "        "
   ]
  },
  {
   "cell_type": "code",
   "execution_count": 39,
   "metadata": {},
   "outputs": [
    {
     "data": {
      "text/plain": [
       "-1"
      ]
     },
     "execution_count": 39,
     "metadata": {},
     "output_type": "execute_result"
    }
   ],
   "source": [
    "sol = Solution()\n",
    "# deadends = [\"0201\",\"0101\",\"0102\",\"1212\",\"2002\"]\n",
    "# target = \"0202\"\n",
    "\n",
    "# sol.openLock(deadends,target)\n",
    "# deadends = [\"8887\",\"8889\",\"8878\",\"8898\",\"8788\",\"8988\",\"7888\",\"9888\"]\n",
    "# target = '8888'\n",
    "deadends = ['0000']\n",
    "target = '0009'\n",
    "sol.openLock(deadends,target)"
   ]
  },
  {
   "cell_type": "code",
   "execution_count": null,
   "metadata": {},
   "outputs": [],
   "source": []
  },
  {
   "cell_type": "code",
   "execution_count": null,
   "metadata": {},
   "outputs": [],
   "source": []
  }
 ],
 "metadata": {
  "kernelspec": {
   "display_name": "Python 3",
   "language": "python",
   "name": "python3"
  },
  "language_info": {
   "codemirror_mode": {
    "name": "ipython",
    "version": 3
   },
   "file_extension": ".py",
   "mimetype": "text/x-python",
   "name": "python",
   "nbconvert_exporter": "python",
   "pygments_lexer": "ipython3",
   "version": "3.8.5"
  }
 },
 "nbformat": 4,
 "nbformat_minor": 4
}
