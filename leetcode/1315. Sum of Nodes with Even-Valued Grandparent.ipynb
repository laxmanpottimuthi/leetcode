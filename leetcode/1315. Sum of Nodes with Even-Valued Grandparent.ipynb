{
 "cells": [
  {
   "cell_type": "code",
   "execution_count": null,
   "metadata": {},
   "outputs": [],
   "source": [
    "# Definition for a binary tree node.\n",
    "# class TreeNode:\n",
    "#     def __init__(self, val=0, left=None, right=None):\n",
    "#         self.val = val\n",
    "#         self.left = left\n",
    "#         self.right = right\n",
    "class Solution:\n",
    "    def sumEvenGrandparent(self, root: TreeNode) -> int:\n",
    "        total = 0\n",
    "        parent = None\n",
    "        grandParent = None\n",
    "        def getSum(node,parent,grandParent,total):\n",
    "            if node:\n",
    "                totalLeft,totalRight = 0,0\n",
    "                if node.left:\n",
    "                    totalLeft = getSum(node.left,node,parent,total)\n",
    "                if node.right:\n",
    "                    totalRight = getSum(node.right,node,parent,total)\n",
    "                if grandParent != None and grandParent.val%2 == 0:\n",
    "                    total = node.val+totalLeft + totalRight\n",
    "                else:\n",
    "                    total = totalLeft + totalRight\n",
    "            return total\n",
    "        return getSum(root,None,None,total)\n",
    "            \n",
    "            "
   ]
  }
 ],
 "metadata": {
  "kernelspec": {
   "display_name": "Python 3",
   "language": "python",
   "name": "python3"
  },
  "language_info": {
   "codemirror_mode": {
    "name": "ipython",
    "version": 3
   },
   "file_extension": ".py",
   "mimetype": "text/x-python",
   "name": "python",
   "nbconvert_exporter": "python",
   "pygments_lexer": "ipython3",
   "version": "3.7.3"
  }
 },
 "nbformat": 4,
 "nbformat_minor": 4
}
