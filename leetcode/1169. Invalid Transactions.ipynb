{
 "cells": [
  {
   "cell_type": "code",
   "execution_count": 1,
   "metadata": {},
   "outputs": [],
   "source": [
    "from typing import List"
   ]
  },
  {
   "cell_type": "code",
   "execution_count": 2,
   "metadata": {},
   "outputs": [],
   "source": [
    "class Solution:\n",
    "    def invalidTransactions(self, transactions: List[str]) -> List[str]:\n",
    "        \n",
    "        invalidTxns = []\n",
    "        invalidTxnInd = set()\n",
    "        def addInvalidTxn(transaction,ind):\n",
    "            if ind not in invalidTxnInd:\n",
    "                invalidTxns.append(\",\".join(map(str,transaction)))\n",
    "                invalidTxnInd.add(ind)\n",
    "        def checkInvalidTxnAmount(transaction,ind):\n",
    "            if transaction[2] > 1000:\n",
    "                addInvalidTxn(transaction,ind)\n",
    "                \n",
    "        \n",
    "        transactions = [txn.split(\",\") for txn in transactions]\n",
    "        transactions = sorted([[name, int(time), int(amount), city] for name,time,amount,city in transactions])\n",
    "        for i in range(len(transactions)):\n",
    "            txnCurrent = transactions[i]\n",
    "            checkInvalidTxnAmount(txnCurrent,i)\n",
    "            for j in range(i+1,len(transactions)):\n",
    "                txnNext = transactions[j]\n",
    "                if txnCurrent[0] != txnNext[0] or abs(txnCurrent[1]-txnNext[1]) > 60: break\n",
    "                if txnCurrent[3] != txnNext[3]:\n",
    "                    addInvalidTxn(txnCurrent,i)\n",
    "                    addInvalidTxn(txnNext,j)\n",
    "        return list(invalidTxns)\n",
    "        "
   ]
  }
 ],
 "metadata": {
  "kernelspec": {
   "display_name": "Python 3",
   "language": "python",
   "name": "python3"
  },
  "language_info": {
   "codemirror_mode": {
    "name": "ipython",
    "version": 3
   },
   "file_extension": ".py",
   "mimetype": "text/x-python",
   "name": "python",
   "nbconvert_exporter": "python",
   "pygments_lexer": "ipython3",
   "version": "3.8.5"
  }
 },
 "nbformat": 4,
 "nbformat_minor": 4
}
