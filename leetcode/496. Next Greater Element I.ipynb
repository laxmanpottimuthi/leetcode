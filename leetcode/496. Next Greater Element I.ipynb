{
 "cells": [
  {
   "cell_type": "code",
   "execution_count": null,
   "metadata": {},
   "outputs": [],
   "source": [
    "from typing import List\n",
    "class Solution:\n",
    "    def nextGreaterElement(self, nums1: List[int], nums2: List[int]) -> List[int]:\n",
    "        stack = []\n",
    "        resD = {}\n",
    "        \n",
    "        for val in nums2:\n",
    "            \n",
    "            while stack and stack[-1] < val:\n",
    "                resD[stack.pop()] = val\n",
    "            \n",
    "            stack.append(val)\n",
    "        \n",
    "        for pos in range(len(nums1)):\n",
    "            \n",
    "            if nums1[pos] in resD:\n",
    "                nums1[pos] = resD[nums1[pos]]\n",
    "            else:\n",
    "                nums1[pos] = -1\n",
    "        \n",
    "        return nums1"
   ]
  }
 ],
 "metadata": {
  "kernelspec": {
   "display_name": "Python 3",
   "language": "python",
   "name": "python3"
  },
  "language_info": {
   "codemirror_mode": {
    "name": "ipython",
    "version": 3
   },
   "file_extension": ".py",
   "mimetype": "text/x-python",
   "name": "python",
   "nbconvert_exporter": "python",
   "pygments_lexer": "ipython3",
   "version": "3.8.5"
  }
 },
 "nbformat": 4,
 "nbformat_minor": 4
}
