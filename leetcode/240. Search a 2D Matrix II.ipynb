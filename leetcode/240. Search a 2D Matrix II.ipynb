{
 "cells": [
  {
   "cell_type": "code",
   "execution_count": 1,
   "metadata": {},
   "outputs": [],
   "source": [
    "from typing import List\n",
    "class Solution:\n",
    "    def searchMatrix(self, matrix: List[List[int]], target: int) -> bool:\n",
    "        if not matrix or not target:\n",
    "            return False\n",
    "        colEnd,rowEnd = len(matrix[0]), len(matrix)\n",
    "        row,col = 0,colEnd-1\n",
    "        while 0 <= row < rowEnd and 0 <= col < colEnd:\n",
    "            if target == matrix[row][col]:\n",
    "                return True\n",
    "            elif target > matrix[row][col]:\n",
    "                row += 1\n",
    "            else:\n",
    "                col -= 1\n",
    "        return False"
   ]
  },
  {
   "cell_type": "code",
   "execution_count": 2,
   "metadata": {},
   "outputs": [
    {
     "data": {
      "text/plain": [
       "False"
      ]
     },
     "execution_count": 2,
     "metadata": {},
     "output_type": "execute_result"
    }
   ],
   "source": [
    "matrix,target = [[1,4,7,11,15],[2,5,8,12,19],[3,6,9,16,22],[10,13,14,17,24],[18,21,23,26,30]], 5\n",
    "matrix,target = [], 0\n",
    "matrix,target = [[-1]], 0\n",
    "sol= Solution()\n",
    "sol.searchMatrix(matrix,target)"
   ]
  }
 ],
 "metadata": {
  "kernelspec": {
   "display_name": "Python 3",
   "language": "python",
   "name": "python3"
  },
  "language_info": {
   "codemirror_mode": {
    "name": "ipython",
    "version": 3
   },
   "file_extension": ".py",
   "mimetype": "text/x-python",
   "name": "python",
   "nbconvert_exporter": "python",
   "pygments_lexer": "ipython3",
   "version": "3.8.5"
  }
 },
 "nbformat": 4,
 "nbformat_minor": 4
}
